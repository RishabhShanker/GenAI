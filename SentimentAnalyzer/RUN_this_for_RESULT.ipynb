{
 "cells": [
  {
   "cell_type": "code",
   "execution_count": 1,
   "id": "685d5a67",
   "metadata": {},
   "outputs": [
    {
     "name": "stdout",
     "output_type": "stream",
     "text": [
      "Apple Inc                      -> AAPL         | Apple Inc. | NASDAQ | type=EQUITY | score≈1.00\n",
      "Alphabet Inc                   -> GOOGL        | Alphabet Inc. | NASDAQ | type=EQUITY | score≈1.00\n",
      "Reliance Industries            -> RELIANCE.NS  | Reliance Industries Limited | NSE | type=EQUITY | score≈1.00\n",
      "Tata Consultancy Services      -> TCS.NS       | Tata Consultancy Services Limited | NSE | type=EQUITY | score≈1.00\n",
      "HDFC Bank                      -> HDFCBANK.NS  | HDFC Bank Limited | NSE | type=EQUITY | score≈1.00\n",
      "NVIDIA                         -> NVDA         | NVIDIA Corporation | NASDAQ | type=Equity | score≈26225.00\n",
      "Netflix                        -> NFLX         | Netflix, Inc. | NASDAQ | type=Equity | score≈20518.00\n"
     ]
    }
   ],
   "source": [
    "from src.chains.ticker_resolver import resolve_ticker\n",
    "\n",
    "tests = [\n",
    "    \"Apple Inc\",\n",
    "    \"Alphabet Inc\",\n",
    "    \"Reliance Industries\",\n",
    "    \"Tata Consultancy Services\",\n",
    "    \"HDFC Bank\",\n",
    "    \"NVIDIA\",\n",
    "    \"Netflix\",  # not in curated, should come from search\n",
    "]\n",
    "\n",
    "for name in tests:\n",
    "    c = resolve_ticker(name, region=\"US\")  # set region=\"IN\" if you prefer India bias\n",
    "    if c:\n",
    "        print(f\"{name:30s} -> {c.symbol:12s} | {c.display_name()} | {c.exchDisp} | type={c.typeDisp} | score≈{c.score:.2f}\")\n",
    "    else:\n",
    "        print(f\"{name:30s} -> NOT FOUND\")\n"
   ]
  },
  {
   "cell_type": "code",
   "execution_count": 2,
   "id": "83d25805",
   "metadata": {},
   "outputs": [
    {
     "name": "stdout",
     "output_type": "stream",
     "text": [
      "Fetched 5 items for AAPL (last 7 days)\n",
      "\n",
      "- 2025-09-15 [The Wall Street Journal]: Alphabet Stock Rallies to a $3 Trillion Market Cap (https://www.wsj.com/livecoverage/stock-market-today-dow-sp-500-nasdaq-09-15-2025/card/alphabet-stock-rallies-to-a-3-trillion-market-cap-0bupphQqJy8SDY7YA76d?siteid=yhoof2&yptr=yahoo)\n",
      "- 2025-09-15 [Barrons.com]: Alphabet Hits $3 Trillion Valuation. What to Do With the Stock Now. (https://www.barrons.com/articles/alphabet-stock-3-trillion-valuation-03fe9b22?siteid=yhoof2&yptr=yahoo)\n",
      "- 2025-09-15 [The Wall Street Journal]: iOS 26: Liquid Glass Is Here and Your iPhone Will Never Be the Same (https://www.wsj.com/tech/personal-tech/apple-ios-26-tips-liquid-glass-df08462c?siteid=yhoof2&yptr=yahoo)\n",
      "- 2025-09-15 [Zacks]: Apple's TV+ Business Gets a Boost With 22 Emmy Wins: What's Ahead? (https://finance.yahoo.com/news/apples-tv-business-gets-boost-163100280.html)\n",
      "- 2025-09-15 [WSJ]: iOS 26: 26 Tips and Tricks for Apple’s New iPhone Software (https://finance.yahoo.com/video/ios-26-26-tips-tricks-163000337.html)\n"
     ]
    }
   ],
   "source": [
    "import importlib\n",
    "\n",
    "import src.chains.news_fetcher as nf\n",
    "importlib.reload(nf)\n",
    "from src.chains.news_fetcher import fetch_recent_news, to_bulleted_newsdesc, as_dict_list, optional_tool_snapshot\n",
    "\n",
    "from src.config import get_settings\n",
    "s = get_settings()\n",
    "\n",
    "ticker = \"AAPL\"\n",
    "items = fetch_recent_news(ticker, lookback_days=s.news_lookback_days, top_k=s.news_top_k)\n",
    "print(f\"Fetched {len(items)} items for {ticker} (last {s.news_lookback_days} days)\\n\")\n",
    "print(to_bulleted_newsdesc(items) or \"No recent items in lookback window.\")\n"
   ]
  },
  {
   "cell_type": "markdown",
   "id": "75a32046",
   "metadata": {},
   "source": [
    "RUN BELOW CODE FOR FILE RESULT. CHANGE COMPANY NAME AS REQUIRED"
   ]
  },
  {
   "cell_type": "code",
   "execution_count": null,
   "id": "19f01691",
   "metadata": {},
   "outputs": [
    {
     "name": "stderr",
     "output_type": "stream",
     "text": [
      "Key 'additionalProperties' is not supported in schema, ignoring\n"
     ]
    },
    {
     "data": {
      "text/plain": [
       "{'company_name': 'Google',\n",
       " 'stock_code': 'GOOG',\n",
       " 'newsdesc': \"- 2025-09-21 [The Wall Street Journal]: Trump’s $100,000 H-1B Visa Fee Sets Off Scramble Across Corporate America (https://www.wsj.com/politics/policy/trumps-100-000-h-1b-visa-fee-sets-off-scramble-across-corporate-america-adb14a3c?siteid=yhoof2&yptr=yahoo)\\n- 2025-09-20 [Insider Monkey]: TD Cowen Sees Upside in Alphabet (GOOGL) With Rising GenAI Adoption (https://finance.yahoo.com/news/td-cowen-sees-upside-alphabet-211302489.html)\\n- 2025-09-20 [Barrons.com]: Trump Announces $100K Fee for H-1B Visas. How Big Tech Companies Could Be Affected. (https://www.barrons.com/articles/trump-h1b-visa-fees-big-tech-282aacc4?siteid=yhoof2&yptr=yahoo)\\n- 2025-09-20 [TechCrunch]: Amazon, Google, Microsoft reportedly warn H-1B employees to stay in the US (https://finance.yahoo.com/news/amazon-google-microsoft-reportedly-warn-190144778.html)\\n- 2025-09-20 [Moneywise]: Tim Cook insists soaring iPhone prices have nothing to do with Trump's tariffs — so why does the Pro Max cost $2,000? (https://finance.yahoo.com/news/tim-cook-insists-soaring-iphone-183500075.html)\",\n",
       " 'sentiment': 'Neutral',\n",
       " 'people_names': ['Donald Trump', 'Tim Cook'],\n",
       " 'places_names': ['US'],\n",
       " 'other_companies_referred': ['Alphabet', 'Amazon', 'Microsoft', 'Apple'],\n",
       " 'related_industries': ['Technology', 'Artificial Intelligence'],\n",
       " 'market_implications': 'Mixed news creates uncertainty; H-1B visa concerns are offset by positive GenAI adoption outlook. Investors may adopt a wait-and-see approach.',\n",
       " 'confidence_score': 0.6}"
      ]
     },
     "execution_count": 2,
     "metadata": {},
     "output_type": "execute_result"
    }
   ],
   "source": [
    "from src.chains.ticker_resolver import resolve_ticker\n",
    "from src.chains.news_fetcher import fetch_recent_news, to_bulleted_newsdesc\n",
    "from src.chains.sentiment_chain import analyze_sentiment\n",
    "from src.config import get_settings\n",
    "\n",
    "s = get_settings()\n",
    "\n",
    "company = \"Apple Inc\"\n",
    "cand = resolve_ticker(company)\n",
    "ticker = cand.symbol\n",
    "\n",
    "items = fetch_recent_news(ticker, lookback_days=s.news_lookback_days, top_k=s.news_top_k)\n",
    "newsdesc = to_bulleted_newsdesc(items)\n",
    "\n",
    "result = analyze_sentiment(company_name=company, stock_code=ticker, newsdesc=newsdesc)\n",
    "result\n"
   ]
  },
  {
   "cell_type": "code",
   "execution_count": null,
   "id": "0dc67afa",
   "metadata": {},
   "outputs": [],
   "source": []
  }
 ],
 "metadata": {
  "kernelspec": {
   "display_name": "genai",
   "language": "python",
   "name": "python3"
  },
  "language_info": {
   "codemirror_mode": {
    "name": "ipython",
    "version": 3
   },
   "file_extension": ".py",
   "mimetype": "text/x-python",
   "name": "python",
   "nbconvert_exporter": "python",
   "pygments_lexer": "ipython3",
   "version": "3.11.13"
  }
 },
 "nbformat": 4,
 "nbformat_minor": 5
}
