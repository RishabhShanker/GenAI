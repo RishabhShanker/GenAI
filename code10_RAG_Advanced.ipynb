{
  "cells": [
    {
      "cell_type": "markdown",
      "id": "1961db5f",
      "metadata": {
        "id": "1961db5f"
      },
      "source": [
        "# CRAG: Corrective RAG\n",
        "\n",
        "\n",
        "## OverView\n",
        "\n",
        "\n",
        "**The Corrective RAG (CRAG)** strategy focuses on improving RAG-based systems.\n",
        "**CRAG** is an approach that refines the search-generation pipeline by incorporating self-reflection and self-evaluation phases for the retrieved documents.\n",
        "\n",
        "![crag](https://github.com/LangChain-OpenTutorial/LangChain-OpenTutorial/blob/main/17-LangGraph/03-Use-Cases/assets/03-Langgraph-CRAG.png?raw=1)\n",
        "\n",
        "\n",
        "\n",
        "**What is CRAG ?**\n",
        "\n",
        "**Corrective-RAG (CRAG)** is a methodology in the RAG (Retrieval-Augmented Generation) strategy that **adds a step to evaluate the retrieved documents and refine the knowledge.** This approach involves reviewing the search results before generation, conducting supplementary searches if necessary, and ultimately includes a series of processes to produce high-quality responses.\n",
        "\n",
        "The core ideas of CRAG are as follows:\n",
        "\n",
        "[Link to the paper (Corrective Retrieval-Augmented Generation)](https://arxiv.org/pdf/2401.15884.pdf)\n",
        "\n",
        "1. If one or more of the retrieved documents exceed the predefined relevance threshold (retrieval validation score), the process proceeds to the generation stage.\n",
        "2. A knowledge refinement step is performed before generation.\n",
        "3. Documents are divided into \"knowledge strips\" (where ```k``` refers to the number of document retrieval results).\n",
        "4. Each knowledge strip is evaluated, and its relevance is scored (evaluations are conducted at the document chunk level).\n",
        "5. If all documents fall below the relevance threshold or the evaluation results have low confidence, additional data sources (e.g., web searches) are used for supplementation.\n",
        "6. When supplementing through web searches, query results are optimized using ```Query-Rewrite```.\n",
        "---\n",
        "\n",
        "**Key Points**\n",
        "\n",
        "\n",
        "This tutorial demonstrates implementing some of the ideas from the ```CRAG``` approach using LangGraph.\n",
        "\n",
        "Here, **the knowledge refinement step is omitted** but is designed to be added as a node if necessary.\n",
        "\n",
        "Additionally, **if no relevant documents are found**, ```web searches``` will be used to supplement the retrieval.\n",
        "\n",
        "For **web searches**,  [Tavily Search](https://python.langchain.com/docs/integrations/tools/tavily_search/) will be utilized, and Question Rewrite will be introduced to optimize the search process.\n",
        "\n",
        "---\n",
        "\n",
        "**Overview of Key Steps**\n",
        "\n",
        "- **Retrieval Grader**: Evaluate the relevance of the retrieved documents.\n",
        "- **Generate**: Generate answers using LLM.\n",
        "- **Question Re-writer**: Optimize search queries by rewriting the question.\n",
        "- **Web Search Tool**: Utilize Tavily Search for web searches.\n",
        "- **Create Graph**: Create a CRAG strategy graph using LangGraph.\n",
        "- **Use the graph**: Learn how to utilize the generated graph.\n",
        "\n",
        "\n",
        "\n",
        "\n",
        "\n",
        "### References\n",
        "https://langchain-opentutorial.gitbook.io/langchain-opentutorial/17-langgraph/03-use-cases/03-langgraph-crag\n",
        "- [LangGraph: Corrective RAG (CRAG) using local LLMs](https://langchain-ai.github.io/langgraph/tutorials/rag/langgraph_crag_local/)\n",
        "- [LangSmith: RAG Prompt](https://smith.langchain.com/hub/rlm/rag-prompt)\n",
        "- [Langchain: stream_mode](https://python.langchain.com/docs/how_to/qa_streaming/)"
      ]
    },
    {
      "cell_type": "code",
      "execution_count": 1,
      "id": "ef6261d6",
      "metadata": {
        "id": "ef6261d6"
      },
      "outputs": [],
      "source": [
        "!python -m pip install pydantic langchain langchain-community pdfplumber langchain-core langchain-google-genai langgraph faiss-cpu --quiet"
      ]
    },
    {
      "cell_type": "code",
      "execution_count": 24,
      "id": "d3375ae6",
      "metadata": {
        "id": "d3375ae6",
        "outputId": "288040ae-78a6-4c96-da5c-7cd9879b0396"
      },
      "outputs": [
        {
          "data": {
            "text/plain": [
              "True"
            ]
          },
          "execution_count": 24,
          "metadata": {},
          "output_type": "execute_result"
        }
      ],
      "source": [
        "# Load API keys from .env file\n",
        "from dotenv import load_dotenv\n",
        "\n",
        "load_dotenv(override=True)"
      ]
    },
    {
      "cell_type": "markdown",
      "id": "d7f42d27",
      "metadata": {},
      "source": [
        "# RAG Retriver"
      ]
    },
    {
      "cell_type": "code",
      "execution_count": 3,
      "id": "78942b9f",
      "metadata": {},
      "outputs": [],
      "source": [
        "embedding_model_name = \"models/gemini-embedding-001\"\n",
        "model_name = \"gemini-2.0-flash\"\n",
        "\n",
        "doc_paths = [\"https://www.morningstar.com/content/dam/marketing/shared/research/methodology/771945_Morningstar_Rating_for_Funds_Methodology.pdf\",\n",
        "             \"https://www.morningstar.in/docs/methodology/CategoryDefinitionsIndiaV3.pdf\",\n",
        "             \"https://s21.q4cdn.com/198919461/files/doc_downloads/press_kits/2016/Morningstar-Sustainable-Investing-Handbook.pdf\"]"
      ]
    },
    {
      "cell_type": "code",
      "execution_count": 4,
      "id": "f178b8c8",
      "metadata": {},
      "outputs": [],
      "source": [
        "from langchain_google_genai import GoogleGenerativeAIEmbeddings\n",
        "embeddings = GoogleGenerativeAIEmbeddings(model=embedding_model_name)\n",
        "from langchain.chat_models import init_chat_model\n",
        "llm = init_chat_model(model_name, model_provider=\"google_genai\")\n"
      ]
    },
    {
      "cell_type": "code",
      "execution_count": 5,
      "id": "fd810d45",
      "metadata": {},
      "outputs": [],
      "source": [
        "from langchain_community.document_loaders import PyPDFLoader\n",
        "from langchain.text_splitter import RecursiveCharacterTextSplitter\n",
        "\n",
        "loaders = [PyPDFLoader(pdf, extract_images=False) for pdf in doc_paths]\n",
        "docs = []\n",
        "for loader in loaders: docs.extend(loader.load())\n",
        "docs = [doc for doc in docs if len(doc.page_content.strip())>100]\n",
        "text_splitter = RecursiveCharacterTextSplitter(chunk_size=3500, chunk_overlap=500,\n",
        "                                               add_start_index=True)\n",
        "splits = text_splitter.split_documents(docs)\n"
      ]
    },
    {
      "cell_type": "code",
      "execution_count": 6,
      "id": "5b4218fd",
      "metadata": {},
      "outputs": [],
      "source": [
        "from langchain_chroma import Chroma\n",
        "vector_db_path = \"VectorDB_Chroma\"\n",
        "vectorstore = Chroma.from_documents(documents=splits, embedding=embeddings,\n",
        "                                    persist_directory=vector_db_path,collection_name=\"morningstar2\",\n",
        "                                    collection_metadata={\"use_type\":\"TRAINING AND EXPERIMENTATION\"})\n",
        "\n",
        "# using vector db object to initialize a retriever object - to perform vector search/retrieval\n",
        "retriever = vectorstore.as_retriever(search_type=\"similarity\", search_kwargs={\"k\": 2})"
      ]
    },
    {
      "cell_type": "code",
      "execution_count": 7,
      "id": "e420a92f",
      "metadata": {},
      "outputs": [],
      "source": [
        "from typing import TypedDict, Literal, List\n",
        "from langchain_core.documents import Document\n",
        "from langchain_core.prompts import PromptTemplate\n",
        "from langgraph.graph import StateGraph,START,END\n",
        "message = \"\"\"\n",
        "Answer this question using the provided context only. If the context does not have the content to answer the question, say context is irrelevant.\n",
        "Do not make up the answer, do not provide answer from outside the doc.\n",
        "{question}\n",
        "\n",
        "Context:\n",
        "{context}\n",
        "\"\"\"\n",
        "\n",
        "ragprompt = PromptTemplate.from_template(message)"
      ]
    },
    {
      "cell_type": "code",
      "execution_count": 8,
      "id": "a996cb40",
      "metadata": {},
      "outputs": [],
      "source": [
        "class ragState(TypedDict):\n",
        "    question: str\n",
        "    context: List[Document]\n",
        "    answer: str\n"
      ]
    },
    {
      "cell_type": "code",
      "execution_count": 9,
      "id": "d0c23d6b",
      "metadata": {},
      "outputs": [
        {
          "data": {
            "image/png": "[encoded data removed]",
            "text/plain": [
              "<langgraph.graph.state.CompiledStateGraph object at 0x701f401e8210>"
            ]
          },
          "execution_count": 9,
          "metadata": {},
          "output_type": "execute_result"
        }
      ],
      "source": [
        "# add modes\n",
        "def retriever_node(state:ragState):\n",
        "    ret_docs = retriever.invoke(state[\"question\"])\n",
        "    return {\"context\":ret_docs}\n",
        "\n",
        "# generation node\n",
        "def generate(state:ragState):\n",
        "    doc_content = \"\\n\\n\".join(doc.page_content for doc in state[\"context\"])\n",
        "    message = ragprompt.invoke({\"question\":state[\"question\"],\"context\":doc_content})\n",
        "    response = llm.invoke(message)\n",
        "    return {\"answer\":response}\n",
        "\n",
        "builder = StateGraph(ragState).add_sequence([retriever_node,generate])\n",
        "builder.add_edge(START,\"retriever_node\")\n",
        "builder.add_edge(\"generate\",END)\n",
        "raggraph = builder.compile()\n",
        "raggraph"
      ]
    },
    {
      "cell_type": "code",
      "execution_count": 10,
      "id": "bd0e5bb5",
      "metadata": {},
      "outputs": [],
      "source": [
        "response = raggraph.invoke({\"question\":\"what is large cap quity fund?\"})"
      ]
    },
    {
      "cell_type": "code",
      "execution_count": 13,
      "id": "576a1a27",
      "metadata": {},
      "outputs": [
        {
          "data": {
            "text/plain": [
              "{'question': 'what is large cap quity fund?',\n",
              " 'context': [Document(id='2147e0f6-4ade-4381-bdd3-d7262ea7da07', metadata={'page_label': '1', 'source': 'https://www.morningstar.in/docs/methodology/CategoryDefinitionsIndiaV3.pdf', 'title': 'Microsoft Word - India Category_Definitions April 2021', 'total_pages': 12, 'producer': 'GPL Ghostscript 9.06', 'page': 0, 'author': 'KBelapu', 'start_index': 0, 'creator': 'PScript5.dll Version 5.2.2', 'moddate': '2021-02-26T12:11:18+05:30', 'creationdate': '2021-02-26T12:11:18+05:30'}, page_content='? \\n \\n \\n \\n \\n \\n \\n \\n \\n \\n \\n \\nCategor y Definitions  \\nIndia \\nEquity  \\n \\nLarge-Cap \\nLarge-Cap funds primarily consist of stocks which are the Top 100 stocks by full market capitalization  of \\nthe equity market. These funds invest at least 80% of total assets in Indian equities and the balance can \\nbe invested in other asset classes such as fixed income and overseas equities, among others. Funds in \\nthis category would invest at least 80% of their total assets in large-cap stocks. \\nMorningstar Category Index: S&P BSE 100 TR \\n \\nMid-Cap \\nMid-Cap funds primarily consist of stocks ranked 101st to 250th by full market capitalization of the \\nequity market. These funds invest at least 65% of total assets in Indian equities, and the balance can be \\ninvested in other asset classes such as fixed income and overseas equities, among others. Funds in this \\ncategory would invest at least 65% of their total assets in mid-cap stocks. \\nMorningstar Category Index: S&P BSE Mid Cap TR \\n \\nSmall-Cap \\nSmall-Cap funds primarily consist of stocks ranked 251st onwards by full market capitalization of the \\nequity market. These funds invest at least 65% of total assets in Indian equities, and the balance can be \\ninvested in other asset classes such as fixed income and overseas equities, among others. Funds in this \\ncategory would invest at least 65% of their total assets in small-cap stocks. \\nMorningstar Category Index: S&P BSE Small Cap TR \\n \\nFlexi Cap \\nFlexi Cap funds invest at least 65% of their total assets in Indian equities, and the balance can be \\ninvested in other asset classes such as fixed income and overseas equities, among others. These funds \\nwill invest into a mix of Large, Mid and small-cap stocks. \\nMorningstar Category Index: S&P BSE 500 TR \\n \\n \\n \\nMorningstar Research  \\nApril 2021'),\n",
              "  Document(id='9a47ccd0-2231-43d2-b014-e19f17bf4a4c', metadata={'creator': 'PScript5.dll Version 5.2.2', 'moddate': '2021-02-26T12:11:18+05:30', 'page_label': '2', 'source': 'https://www.morningstar.in/docs/methodology/CategoryDefinitionsIndiaV3.pdf', 'start_index': 0, 'creationdate': '2021-02-26T12:11:18+05:30', 'total_pages': 12, 'author': 'KBelapu', 'producer': 'GPL Ghostscript 9.06', 'title': 'Microsoft Word - India Category_Definitions April 2021', 'page': 1}, page_content='©2019 Morningstar, Inc. All rights reserved. The information in this document is the property of Morningstar, Inc. Reproduction or transcription by any means, in whole or part, without  \\nthe prior written consent of Morningstar, Inc., is prohibited. \\nCategory Definitions , India  | 26 February 2021  Page 2 of 12  \\nMulti- Cap \\nMulti-Cap funds invest at least 75% of their total assets in Indian equities, and the balance can be \\ninvested in other asset classes such as fixed income and overseas equities, among others. These funds \\nwill invest a minimum of 25% each in Large Cap, Mid Cap and Small Cap stocks. \\nMorningstar Category Index: S&P BSE 500 TR \\n \\n \\nLarge & Mid- Cap \\nLarge & Mid-Cap funds primarily consist of stocks which are the Top 250 stocks by full market \\ncapitalization of the equity market. These funds invest at least 70% of total assets in Indian equities and \\nthe balance can be invested in other asset classes such as fixed income and overseas equities, among \\nothers. Funds in this category would invest at least 35% of their total assets in large-cap stocks and  35% \\nof their total assets in mid-cap stocks. \\nMorningstar Category Index: S&P BSE 200 TR \\n \\n \\nGlobal – Other \\nGlobal – Other funds include those funds that invest at least 65% of total assets in instruments issued by \\noverseas i.e. non-Indian companies. In addition, funds that invest at least 65% of total assets in \\nexchange traded funds, fund of funds domiciled outside India are also included in this category. \\n[Funds in this category do not receive a Morningstar Rating™ due to the diverse nature of the \\nconstituents.] \\n \\nELSS (Equity Linked Saving Schemes) \\nThese funds are notified as ELSS by SEBI under Section 10 (23D). Investments of up to Rs 150,000 in a \\nfinancial year in these funds are exempt from Income Tax under Section 80C of the Income Tax Act, \\n1961. Investments in ELSS are subject to a lock-in of three years from the date of investment. \\nMorningstar Category Index: S&P BSE 200 TR \\n \\nValue Funds   \\nValue funds invest at least 65% of their total assets in Indian equities, and the balance can be invested in \\nother asset classes such as fixed income and overseas equities, among others. These funds will \\npredominantly invest in value stocks. \\nMorningstar Category Index: S&P BSE 500 TR \\n \\nContra Funds  \\nContra funds invest at least 65% of their total assets in Indian equities, and the balance can be invested \\nin other asset classes such as fixed income and overseas equities, among others. These funds will \\npredominantly invest using a contrarian investment theme. \\nMorningstar Category Index: S&P BSE 500 TR')],\n",
              " 'answer': AIMessage(content='Large-Cap equity funds primarily consist of stocks which are the Top 100 stocks by full market capitalization of the equity market. These funds invest at least 80% of total assets in Indian equities and the balance can be invested in other asset classes such as fixed income and overseas equities, among others. Funds in this category would invest at least 80% of their total assets in large-cap stocks.', additional_kwargs={}, response_metadata={'prompt_feedback': {'block_reason': 0, 'safety_ratings': []}, 'finish_reason': 'STOP', 'model_name': 'gemini-2.0-flash', 'safety_ratings': []}, id='run--9493b403-4750-4af7-bf67-86975e5ab64e-0', usage_metadata={'input_tokens': 1239, 'output_tokens': 86, 'total_tokens': 1325, 'input_token_details': {'cache_read': 0}})}"
            ]
          },
          "execution_count": 13,
          "metadata": {},
          "output_type": "execute_result"
        }
      ],
      "source": [
        "response"
      ]
    },
    {
      "cell_type": "markdown",
      "id": "ae47f9ae",
      "metadata": {
        "id": "ae47f9ae"
      },
      "source": [
        "## Relevance Evaluation of Retrieved Documents (Question-Retrieval Evaluation)\n",
        "\n",
        "The relevance evaluation of retrieved documents is the step where the retrieved documents are assessed for their relevance to the question.\n",
        "\n",
        "First, create an evaluator (```retrieval-grader```) to assess the retrieved documents."
      ]
    },
    {
      "cell_type": "code",
      "execution_count": 14,
      "id": "59f3e68a",
      "metadata": {
        "id": "59f3e68a"
      },
      "outputs": [],
      "source": [
        "from langchain_core.prompts import ChatPromptTemplate\n",
        "from langchain_openai import AzureChatOpenAI\n",
        "from pydantic import BaseModel, Field\n",
        "\n",
        "\n",
        "# Data Model for Binary Scoring of Document Relevance\n",
        "class GradeDocuments(BaseModel):\n",
        "    \"\"\"A binary score to determine the relevance of the retrieved document.\"\"\"\n",
        "\n",
        "    # A field indicating whether the document is relevant to the question, represented as 'yes' or 'no'\n",
        "    binary_score: str = Field(\n",
        "        description=\"Documents are relevant to the question, 'yes' or 'no'\"\n",
        "    )\n",
        "\n",
        "\n",
        "# An LLM that generates structured outputs using the GradeDocuments data model.\n",
        "structured_llm_grader = llm.with_structured_output(GradeDocuments)\n",
        "\n",
        "# Define system prompt\n",
        "system = \"\"\"You are a grader assessing relevance of a retrieved document to a user question. \\n\n",
        "    If the document contains keyword(s) or semantic meaning related to the question, grade it as relevant. \\n\n",
        "    Give a binary score 'yes' or 'no' score to indicate whether the document is relevant to the question.\"\"\"\n",
        "\n",
        "# Create chat prompt template\n",
        "grade_prompt = ChatPromptTemplate.from_messages(\n",
        "    [\n",
        "        (\"system\", system),\n",
        "        (\"human\", \"Retrieved document: \\n\\n {document} \\n\\n User question: {question}\"),\n",
        "    ]\n",
        ")\n",
        "\n",
        "# Initialize retrieval evaluator\n",
        "retrieval_grader = grade_prompt | structured_llm_grader"
      ]
    },
    {
      "cell_type": "markdown",
      "id": "d03b7b76",
      "metadata": {
        "id": "d03b7b76"
      },
      "source": [
        "Using ```retrieval_grader```, documents are evaluated.\n",
        "\n",
        "Here, the evaluation is performed on a single document rather than a set of documents.\n",
        "\n",
        "The result returns the relevance of the single document as either **yes** or **no** ."
      ]
    },
    {
      "cell_type": "code",
      "execution_count": 15,
      "id": "44144d98",
      "metadata": {
        "id": "44144d98",
        "outputId": "7c3f77ad-fafc-45ee-9392-27b148930027"
      },
      "outputs": [
        {
          "name": "stdout",
          "output_type": "stream",
          "text": [
            "binary_score='no'\n"
          ]
        }
      ],
      "source": [
        "# Define question\n",
        "question = \"How do agents differ from standalone language models?\"\n",
        "\n",
        "# Document retrieval\n",
        "docs = retriever.invoke(question)\n",
        "\n",
        "# Extract Content of Page from Document at Index 1\n",
        "doc_txt = docs[0].page_content\n",
        "\n",
        "# Run Relevance Evaluation Using Retrieved Documents and Question\n",
        "print(retrieval_grader.invoke({\"question\": question, \"document\": doc_txt}))"
      ]
    },
    {
      "cell_type": "code",
      "execution_count": 16,
      "id": "66acc096",
      "metadata": {},
      "outputs": [
        {
          "name": "stdout",
          "output_type": "stream",
          "text": [
            "binary_score='yes'\n"
          ]
        }
      ],
      "source": [
        "# Define question\n",
        "question = \"What is Large cap equity fund?\"\n",
        "\n",
        "# Document retrieval\n",
        "docs = retriever.invoke(question)\n",
        "\n",
        "# Extract Content of Page from Document at Index 1\n",
        "doc_txt = docs[0].page_content\n",
        "\n",
        "# Run Relevance Evaluation Using Retrieved Documents and Question\n",
        "print(retrieval_grader.invoke({\"question\": question, \"document\": doc_txt}))"
      ]
    },
    {
      "cell_type": "markdown",
      "id": "c95ae75e",
      "metadata": {
        "id": "c95ae75e"
      },
      "source": [
        "## Answer Generation Chain\n",
        "\n",
        "The answer generation chain is a chain that generates answers based on the retrieved documents.\n",
        "\n",
        "It is a typical Naive RAG chain that we are familiar with.\n",
        "\n",
        "**Note**\n",
        "\n",
        "RAG Prompt from LangChain PromptHub: https://smith.langchain.com/hub/rlm/rag-prompt"
      ]
    },
    {
      "cell_type": "code",
      "execution_count": 17,
      "id": "f03e727f",
      "metadata": {
        "id": "f03e727f",
        "outputId": "65781a12-2a7d-44f4-91b7-6ab28185075d"
      },
      "outputs": [
        {
          "name": "stdout",
          "output_type": "stream",
          "text": [
            "content='Large-Cap funds primarily consist of stocks which are the Top 100 stocks by full market capitalization of the equity market. These funds invest at least 80% of total assets in Indian equities and the balance can be invested in other asset classes such as fixed income and overseas equities, among others. Funds in this category would invest at least 80% of their total assets in large-cap stocks.' additional_kwargs={} response_metadata={'prompt_feedback': {'block_reason': 0, 'safety_ratings': []}, 'finish_reason': 'STOP', 'model_name': 'gemini-2.0-flash', 'safety_ratings': []} id='run--f6a0c921-d9bc-4e81-93f5-1344fa526455-0' usage_metadata={'input_tokens': 1239, 'output_tokens': 85, 'total_tokens': 1324, 'input_token_details': {'cache_read': 0}}\n"
          ]
        }
      ],
      "source": [
        "response = raggraph.invoke({\"question\":\"what is large cap quity fund?\"})\n",
        "print(response['answer'])"
      ]
    },
    {
      "cell_type": "markdown",
      "id": "963f59f7",
      "metadata": {
        "id": "963f59f7"
      },
      "source": [
        "## Question Re-write\n",
        "\n",
        "Query rewriting is a step where the question is rewritten to optimize web searches."
      ]
    },
    {
      "cell_type": "code",
      "execution_count": 20,
      "id": "81eabae7",
      "metadata": {
        "id": "81eabae7"
      },
      "outputs": [],
      "source": [
        "from langchain_core.prompts import ChatPromptTemplate\n",
        "from langchain_core.output_parsers import StrOutputParser\n",
        "\n",
        "\n",
        "# Query rewrite system prompt\n",
        "system = \"\"\"You a question re-writer that converts an input question to a better version that is optimized\n",
        "for web search. Look at the input and try to reason about the underlying semantic intent / meaning.\n",
        "provide only one answer for re written query, only provide query no other additional text.\"\"\"\n",
        "\n",
        "# Define prompt\n",
        "re_write_prompt = ChatPromptTemplate.from_messages(\n",
        "    [\n",
        "        (\"system\", system),\n",
        "        (\n",
        "            \"human\",\n",
        "            \"Here is the initial question: \\n\\n {question} \\n Formulate an improved question.\",\n",
        "        ),\n",
        "    ]\n",
        ")\n",
        "\n",
        "# Define question rewriter chain\n",
        "question_rewriter = re_write_prompt | llm | StrOutputParser()"
      ]
    },
    {
      "cell_type": "markdown",
      "id": "b33f4246",
      "metadata": {
        "id": "b33f4246"
      },
      "source": [
        "Rewrite Question Using ```question_rewriter```."
      ]
    },
    {
      "cell_type": "code",
      "execution_count": 21,
      "id": "28eb2e53",
      "metadata": {
        "id": "28eb2e53",
        "outputId": "08f4a1a6-ce97-4dbd-c850-b7a8e2af9198"
      },
      "outputs": [
        {
          "name": "stdout",
          "output_type": "stream",
          "text": [
            "[Original question]: \"What is Large cap equity fund?\"\n",
            "[Query-rewrite]: \"Large cap equity fund definition\"\n"
          ]
        }
      ],
      "source": [
        "# Run chain and output results\n",
        "print(f'[Original question]: \"{question}\"')\n",
        "print(\"[Query-rewrite]:\", question_rewriter.invoke({\"question\": question}))"
      ]
    },
    {
      "cell_type": "markdown",
      "id": "7f4a72cc",
      "metadata": {
        "id": "7f4a72cc"
      },
      "source": [
        "## Web search tool\n",
        "\n",
        "**Web search tool** is used to supplement the context.\n",
        "\n",
        "- **Need for Web Search**: When all documents fail to meet the relevance threshold or the evaluator lacks confidence, additional data is retrieved through web searches.\n",
        "- **Using Tavily Search**: Perform web searches using Tavily Search, which optimizes search queries and provides more relevant results.\n",
        "- **Question Rewrite**: Improve search queries by rewriting the question to optimize web searches."
      ]
    },
    {
      "cell_type": "code",
      "execution_count": 25,
      "id": "620d859b",
      "metadata": {
        "id": "620d859b"
      },
      "outputs": [],
      "source": [
        "# Initialize Web Search Tool\n",
        "from langchain.tools.tavily_search import TavilySearchResults\n",
        "\n",
        "# Set maximum search results to 3\n",
        "web_search_tool = TavilySearchResults(max_results=3)"
      ]
    },
    {
      "cell_type": "code",
      "execution_count": 26,
      "id": "694d7bae",
      "metadata": {
        "id": "694d7bae",
        "outputId": "ec39105a-9e28-48f8-e187-c7fce0ebd3af"
      },
      "outputs": [
        {
          "name": "stdout",
          "output_type": "stream",
          "text": [
            "[{'title': 'Basics, Important Features of Large-cap Mutual Fund - Groww', 'url': 'https://groww.in/mutual-funds/equity-funds/large-cap-funds', 'content': '— Paperless sign up on web & app\\n\\n— Expert recommendations\\n\\n— ZERO fees !\\n\\n## What are Large Cap Funds?\\n\\nLarge Cap Mutual Funds are equity funds that invest a bigger proportion of their total assets in companies with a large market capitalisation. These companies are highly reputed and have an excellent track record of generating wealth for their investors over a long period. [...] By now, you know that large cap funds invest in big organisations. These schemes try to offer regular dividends and capital appreciation in the long term. If you are a risk-averse investor but want to benefit from equity investments, then large cap equity funds are the best option available to you. Since these schemes invest in financially strong large cap companies, they can withstand a slowdown in the markets. However, the returns are lower compared to mid-cap or small-cap funds. [...] ### FAQs\\n\\nQ1. What is large cap mutual fund meaning?\\n\\nLarge cap mutual funds belong to the category of equity mutual funds, but their underlying investments are primarily concentrated on large capitalisation companies.\\n\\nQ2. How does a large cap mutual fund work?', 'score': 0.8936907}, {'title': 'BNY Mellon Large Cap Equity Fund | BNY Investments', 'url': 'https://www.bny.com/investments/us/en/individual/products/lt/fund/bny-mellon-large-cap-equity-fund.html', 'content': 'The fund seeks to provide long-term capital appreciation. To pursue its goal, the fund normally invests at least 80% of its net assets, plus any borrowings for investment purposes, in equity securities of large capitalization companies. The fund considers large-cap companies to be those companies with market capitalizations of $5 billion or more at the time of purchase. The fund invests in growth-oriented stocks and value-oriented stocks. The fund invests primarily in equity securities of U.S. [...] | 12/15/23 | 12/18/23 | 12/18/23 | 0.0000 | 0.1215 | 0.0000 | 0.0432 | 3.9540 | 4.1187 |\\n| 03/29/23 | 03/30/23 | 03/30/23  0.0000  0.0000 | 1.2978 | 1.2978 |\\n| 12/15/22 | 12/16/22 | 12/16/22 | 0.0000 | 0.1422 | 0.0000 | 0.0000 | 1.2075 | 1.3497 |\\n| 03/29/22 | 03/30/22 | 03/30/22  0.0000  0.0000 | 1.4874 | 1.4874 |\\n| 12/16/21 | 12/17/21 | 12/17/21 | 0.0000 | 0.0490 | 0.0000 | 0.2087 | 3.3896 | 3.6473 |\\n| 03/29/21 | 03/30/21 | 03/30/21  0.0000  0.0583 | 0.1289 | 0.1872 |', 'score': 0.8488849}, {'title': 'Small-Cap Funds Vs. Large-Cap Funds: How They Differ | Bankrate', 'url': 'https://www.bankrate.com/investing/small-cap-funds-vs-large-cap-funds/', 'content': 'Large caps are stocks with a valuation of greater than $10 billion or so, though those above $200 billion are sometimes called mega-caps.\\n Large caps are considered safer than small caps and have performed well over time.\\n Large caps tend to have less growth potential because they operate in mature industries.\\n These stocks have deep financial resources and are generally financially robust.\\n Large caps tend to be less volatile than their smaller peers, because of their perceived safety.', 'score': 0.8051581}]\n"
          ]
        }
      ],
      "source": [
        "# Execute web search tool\n",
        "results = web_search_tool.invoke({\"query\": question})\n",
        "print(results)"
      ]
    },
    {
      "cell_type": "markdown",
      "id": "8f30cb22",
      "metadata": {
        "id": "8f30cb22"
      },
      "source": [
        "## State\n",
        "\n",
        "Define the state for the CRAG graph.\n",
        "\n",
        "```Web_search``` represents the state indicating whether to use web search.\n",
        "It is expressed as yes or no (yes: web search required, no: not required)."
      ]
    },
    {
      "cell_type": "code",
      "execution_count": 37,
      "id": "b07cb207",
      "metadata": {
        "id": "b07cb207"
      },
      "outputs": [],
      "source": [
        "from typing import Annotated, List\n",
        "from typing_extensions import TypedDict\n",
        "\n",
        "# Define State\n",
        "class GraphState(TypedDict):\n",
        "    question: Annotated[str, \"The question to answer\"]\n",
        "    generation: Annotated[str, \"The generation from the LLM\"]\n",
        "    web_search: Annotated[str, \"Whether to add search\"]\n",
        "    documents: Annotated[List[str], \"The documents retrieved\"]\n",
        "    refined_for_re_retrieval:bool\n",
        "    relevant:bool\n",
        "    answer:str\n",
        "    refined_query: str\n",
        "    web_search_query:str\n",
        "    "
      ]
    },
    {
      "cell_type": "markdown",
      "id": "423bdd4b",
      "metadata": {
        "id": "423bdd4b"
      },
      "source": [
        "## Node\n",
        "\n",
        "Define the nodes to be used in the CRAG graph."
      ]
    },
    {
      "cell_type": "code",
      "execution_count": 38,
      "id": "674a0629",
      "metadata": {},
      "outputs": [],
      "source": [
        "from langchain.schema import Document\n",
        "from langgraph.graph import StateGraph, END\n",
        "\n",
        "\n",
        "# Document Retrieval Node\n",
        "def retrieve(state: GraphState):\n",
        "    print(\"\\n==== RETRIEVE ====\\n\")\n",
        "    if state['refined_for_re_retrieval']:\n",
        "        question = state['refined_query']\n",
        "    else:\n",
        "        question = state[\"question\"]\n",
        "\n",
        "    # Perform document retrieval.\n",
        "    documents = retriever.invoke(question)\n",
        "    return {\"documents\": documents}\n",
        "\n",
        "\n",
        "# Answer Generation Node\n",
        "def generate(state: GraphState):\n",
        "    print(\"\\n==== GENERATE ====\\n\")\n",
        "    context = \"\\n\\n\".join([doc.page_content for doc in state[\"documents\"]])\n",
        "    message = ragprompt.invoke({\"question\":state[\"question\"],\"context\":context})\n",
        "    response = llm.invoke(message)\n",
        "    print(\"Response: \",response)\n",
        "    return {\"answer\": response}"
      ]
    },
    {
      "cell_type": "code",
      "execution_count": 47,
      "id": "8efcb327",
      "metadata": {},
      "outputs": [],
      "source": [
        "from pydantic import BaseModel, Field\n",
        "\n",
        "class graderResponseStructure(BaseModel):\n",
        "    grader_score:str = Field(description=\"Documents are relevant to the question, 'yes' or 'no'\")\n",
        "\n",
        "\n",
        "graderLLM = llm.with_structured_output(graderResponseStructure)\n",
        "\n",
        "# Document Evaluation Node\n",
        "def grade_documents(state: GraphState):\n",
        "    print(\"\\n==== [CHECK DOCUMENT RELEVANCE TO QUESTION] ====\\n\")\n",
        "    prompt = PromptTemplate.from_template(\"\"\"\n",
        "    You are a grading expert, Kindly evaluate provided documents and its relevance for the user query, if the document containers keywords or semantic meaning\n",
        "                                          related to the question, then it is relevant, return 'yes' or else return 'no'\n",
        "    Are the following documents relevant to the query?\n",
        "    Query: {query}\n",
        "    Documents: {docs}\n",
        "    Answer \"YES\" or \"NO\".\n",
        "    \"\"\")\n",
        "    formatted_docs = \"\\n\\n\".join([doc.page_content for doc in state[\"documents\"]])\n",
        "    result = graderLLM.invoke(prompt.format(query=state[\"question\"], docs=formatted_docs))\n",
        "    is_relevant = \"yes\" in result.grader_score.lower()\n",
        "    return {\n",
        "        \"question\": state[\"question\"],\n",
        "        \"documents\": state[\"documents\"],\n",
        "        \"relevant\": is_relevant,\n",
        "        \"refined_for_re_retrieval\": state.get(\"refined_for_re_retrieval\")\n",
        "    }\n"
      ]
    },
    {
      "cell_type": "code",
      "execution_count": 48,
      "id": "3ffc4363",
      "metadata": {},
      "outputs": [
        {
          "name": "stdout",
          "output_type": "stream",
          "text": [
            "\n",
            "==== RETRIEVE ====\n",
            "\n",
            "\n",
            "==== [CHECK DOCUMENT RELEVANCE TO QUESTION] ====\n",
            "\n"
          ]
        },
        {
          "data": {
            "text/plain": [
              "{'question': 'what is large cap equity market?',\n",
              " 'documents': [Document(id='2147e0f6-4ade-4381-bdd3-d7262ea7da07', metadata={'page_label': '1', 'creator': 'PScript5.dll Version 5.2.2', 'producer': 'GPL Ghostscript 9.06', 'source': 'https://www.morningstar.in/docs/methodology/CategoryDefinitionsIndiaV3.pdf', 'title': 'Microsoft Word - India Category_Definitions April 2021', 'page': 0, 'moddate': '2021-02-26T12:11:18+05:30', 'author': 'KBelapu', 'creationdate': '2021-02-26T12:11:18+05:30', 'start_index': 0, 'total_pages': 12}, page_content='? \\n \\n \\n \\n \\n \\n \\n \\n \\n \\n \\n \\nCategor y Definitions  \\nIndia \\nEquity  \\n \\nLarge-Cap \\nLarge-Cap funds primarily consist of stocks which are the Top 100 stocks by full market capitalization  of \\nthe equity market. These funds invest at least 80% of total assets in Indian equities and the balance can \\nbe invested in other asset classes such as fixed income and overseas equities, among others. Funds in \\nthis category would invest at least 80% of their total assets in large-cap stocks. \\nMorningstar Category Index: S&P BSE 100 TR \\n \\nMid-Cap \\nMid-Cap funds primarily consist of stocks ranked 101st to 250th by full market capitalization of the \\nequity market. These funds invest at least 65% of total assets in Indian equities, and the balance can be \\ninvested in other asset classes such as fixed income and overseas equities, among others. Funds in this \\ncategory would invest at least 65% of their total assets in mid-cap stocks. \\nMorningstar Category Index: S&P BSE Mid Cap TR \\n \\nSmall-Cap \\nSmall-Cap funds primarily consist of stocks ranked 251st onwards by full market capitalization of the \\nequity market. These funds invest at least 65% of total assets in Indian equities, and the balance can be \\ninvested in other asset classes such as fixed income and overseas equities, among others. Funds in this \\ncategory would invest at least 65% of their total assets in small-cap stocks. \\nMorningstar Category Index: S&P BSE Small Cap TR \\n \\nFlexi Cap \\nFlexi Cap funds invest at least 65% of their total assets in Indian equities, and the balance can be \\ninvested in other asset classes such as fixed income and overseas equities, among others. These funds \\nwill invest into a mix of Large, Mid and small-cap stocks. \\nMorningstar Category Index: S&P BSE 500 TR \\n \\n \\n \\nMorningstar Research  \\nApril 2021'),\n",
              "  Document(id='9a47ccd0-2231-43d2-b014-e19f17bf4a4c', metadata={'page_label': '2', 'moddate': '2021-02-26T12:11:18+05:30', 'total_pages': 12, 'creationdate': '2021-02-26T12:11:18+05:30', 'producer': 'GPL Ghostscript 9.06', 'author': 'KBelapu', 'source': 'https://www.morningstar.in/docs/methodology/CategoryDefinitionsIndiaV3.pdf', 'creator': 'PScript5.dll Version 5.2.2', 'start_index': 0, 'title': 'Microsoft Word - India Category_Definitions April 2021', 'page': 1}, page_content='©2019 Morningstar, Inc. All rights reserved. The information in this document is the property of Morningstar, Inc. Reproduction or transcription by any means, in whole or part, without  \\nthe prior written consent of Morningstar, Inc., is prohibited. \\nCategory Definitions , India  | 26 February 2021  Page 2 of 12  \\nMulti- Cap \\nMulti-Cap funds invest at least 75% of their total assets in Indian equities, and the balance can be \\ninvested in other asset classes such as fixed income and overseas equities, among others. These funds \\nwill invest a minimum of 25% each in Large Cap, Mid Cap and Small Cap stocks. \\nMorningstar Category Index: S&P BSE 500 TR \\n \\n \\nLarge & Mid- Cap \\nLarge & Mid-Cap funds primarily consist of stocks which are the Top 250 stocks by full market \\ncapitalization of the equity market. These funds invest at least 70% of total assets in Indian equities and \\nthe balance can be invested in other asset classes such as fixed income and overseas equities, among \\nothers. Funds in this category would invest at least 35% of their total assets in large-cap stocks and  35% \\nof their total assets in mid-cap stocks. \\nMorningstar Category Index: S&P BSE 200 TR \\n \\n \\nGlobal – Other \\nGlobal – Other funds include those funds that invest at least 65% of total assets in instruments issued by \\noverseas i.e. non-Indian companies. In addition, funds that invest at least 65% of total assets in \\nexchange traded funds, fund of funds domiciled outside India are also included in this category. \\n[Funds in this category do not receive a Morningstar Rating™ due to the diverse nature of the \\nconstituents.] \\n \\nELSS (Equity Linked Saving Schemes) \\nThese funds are notified as ELSS by SEBI under Section 10 (23D). Investments of up to Rs 150,000 in a \\nfinancial year in these funds are exempt from Income Tax under Section 80C of the Income Tax Act, \\n1961. Investments in ELSS are subject to a lock-in of three years from the date of investment. \\nMorningstar Category Index: S&P BSE 200 TR \\n \\nValue Funds   \\nValue funds invest at least 65% of their total assets in Indian equities, and the balance can be invested in \\nother asset classes such as fixed income and overseas equities, among others. These funds will \\npredominantly invest in value stocks. \\nMorningstar Category Index: S&P BSE 500 TR \\n \\nContra Funds  \\nContra funds invest at least 65% of their total assets in Indian equities, and the balance can be invested \\nin other asset classes such as fixed income and overseas equities, among others. These funds will \\npredominantly invest using a contrarian investment theme. \\nMorningstar Category Index: S&P BSE 500 TR')],\n",
              " 'relevant': True,\n",
              " 'refined_for_re_retrieval': None}"
            ]
          },
          "execution_count": 48,
          "metadata": {},
          "output_type": "execute_result"
        }
      ],
      "source": [
        "qus = \"what is large cap equity market?\"\n",
        "docs = retrieve({\"question\":qus,\"refined_for_re_retrieval\":False})\n",
        "grade_documents({\"question\":qus,\"documents\":docs['documents']})"
      ]
    },
    {
      "cell_type": "code",
      "execution_count": 49,
      "id": "4b89e9cb",
      "metadata": {
        "id": "4b89e9cb"
      },
      "outputs": [],
      "source": [
        "\n",
        "# Query Rewriting Node\n",
        "def query_rewrite(state: GraphState):\n",
        "    print(\"\\n==== [REWRITE QUERY] ====\\n\")\n",
        "    question = state[\"question\"]\n",
        "\n",
        "    if not state.get(\"refined_for_re_retrieval\"): # for first time query finetuning for Vector DB\n",
        "        prompt = f\"Generate 5 improved variants of the following query: {question}\"\n",
        "        response = llm.invoke(prompt)\n",
        "        improved_query = question + \" \" + \" \".join(response.content.split(\"\\n\"))\n",
        "        return {\"refined_query\": improved_query, \"refined_for_re_retrieval\": True}\n",
        "    else:\n",
        "        # Rewrite the question.\n",
        "        better_question = question_rewriter.invoke({\"question\": question})\n",
        "        return {\"web_search_query\": better_question, \"web_search\": True}\n",
        "\n",
        "# Web Search Node\n",
        "def web_search(state: GraphState):\n",
        "    print(\"\\n==== [WEB SEARCH] ====\\n\")\n",
        "    question = state[\"web_search_query\"]\n",
        "    documents = state['documents']\n",
        "\n",
        "    # Perform web search.\n",
        "    docs = web_search_tool.invoke({\"query\": question})\n",
        "    # Convert search results into document format.\n",
        "    web_results = \"\\n\".join([d[\"content\"] for d in docs])\n",
        "    web_results = Document(page_content=web_results)\n",
        "    documents.append(web_results)\n",
        "\n",
        "    return {\"documents\": documents}\n",
        "\n"
      ]
    },
    {
      "cell_type": "markdown",
      "id": "52091fa6",
      "metadata": {
        "id": "52091fa6"
      },
      "source": [
        "## Function for Conditional Edges\n",
        "\n",
        "The ```decide_to_generate``` function routes to the next node based on whether web search is required after relevance evaluation.\n",
        "\n",
        "If ```web_search``` is ```Yes```, it rewrites the query at the ```query_rewrite``` node and performs a web search.\n",
        "\n",
        "If ```web_search``` is ```No```, it proceeds to ```generate``` to create the final answer.\n"
      ]
    },
    {
      "cell_type": "markdown",
      "id": "aaadaa1e",
      "metadata": {
        "id": "aaadaa1e"
      },
      "source": [
        "## Graph Creation\n",
        "\n",
        "Now, define the nodes and connect the edges to complete the graph."
      ]
    },
    {
      "cell_type": "markdown",
      "id": "8c98c318",
      "metadata": {
        "id": "8c98c318"
      },
      "source": [
        "Visualize the graph."
      ]
    },
    {
      "cell_type": "code",
      "execution_count": 56,
      "id": "65bd6ae0",
      "metadata": {},
      "outputs": [
        {
          "data": {
            "image/png": "[encoded data removed]",
            "text/plain": [
              "<langgraph.graph.state.CompiledStateGraph object at 0x701f17f9e3d0>"
            ]
          },
          "execution_count": 56,
          "metadata": {},
          "output_type": "execute_result"
        }
      ],
      "source": [
        "# ---- Subgraph: Retrieval + Grading ----\n",
        "def build_retrieval_grader_subgraph():\n",
        "    sub_builder = StateGraph(GraphState).add_sequence([retrieve,grade_documents])\n",
        "    sub_builder.add_edge(START,\"retrieve\")\n",
        "    sub_builder.add_edge(\"grade_documents\", END)\n",
        "    return sub_builder.compile()\n",
        "\n",
        "retrieval_grader = build_retrieval_grader_subgraph()\n",
        "\n",
        "\n",
        "# ---- Main Graph ----\n",
        "builder = StateGraph(GraphState)\n",
        "\n",
        "builder.add_node(\"RetrievalGrader\", retrieval_grader)\n",
        "builder.add_node(\"Generator\", generate)\n",
        "builder.add_node(\"QueryRewrite\", query_rewrite)\n",
        "builder.add_node(\"WebSearch\", web_search)\n",
        "\n",
        "builder.set_entry_point(\"RetrievalGrader\")\n",
        "\n",
        "# ---- Routing Logic ----\n",
        "def route_after_grading(state: GraphState) -> str:\n",
        "    if state[\"relevant\"]:\n",
        "        return \"Generator\"\n",
        "    elif not state[\"refined_for_re_retrieval\"]:\n",
        "        return \"QueryRewrite\"\n",
        "    else:\n",
        "        return \"QueryRewrite\"\n",
        "\n",
        "def route_after_rewrite(state: GraphState) -> str:\n",
        "    if state.get(\"web_search\"):\n",
        "        return \"WebSearch\"\n",
        "    return \"RetrievalGrader\"\n",
        "\n",
        "builder.add_conditional_edges(\"RetrievalGrader\", route_after_grading,{\"Generator\":\"Generator\",\n",
        "                                                                      \"QueryRewrite\":\"QueryRewrite\",\n",
        "                                                                      })\n",
        "builder.add_edge(\"Generator\", END)\n",
        "builder.add_conditional_edges(\"QueryRewrite\", route_after_rewrite,{\"WebSearch\":\"WebSearch\",\"RetrievalGrader\":\"RetrievalGrader\"})\n",
        "builder.add_edge(\"WebSearch\", \"Generator\")\n",
        "\n",
        "graph = builder.compile()\n",
        "\n",
        "graph"
      ]
    },
    {
      "cell_type": "code",
      "execution_count": 57,
      "id": "caa3818f",
      "metadata": {},
      "outputs": [
        {
          "data": {
            "image/png": "[encoded data removed]",
            "text/plain": [
              "<IPython.core.display.Image object>"
            ]
          },
          "metadata": {},
          "output_type": "display_data"
        }
      ],
      "source": [
        "from IPython.display import display, Image\n",
        "\n",
        "display(Image(graph.get_graph(xray=True).draw_mermaid_png()))"
      ]
    },
    {
      "cell_type": "code",
      "execution_count": 60,
      "id": "92203ff9",
      "metadata": {},
      "outputs": [
        {
          "name": "stdout",
          "output_type": "stream",
          "text": [
            "\n",
            "==== RETRIEVE ====\n",
            "\n",
            "\n",
            "==== [CHECK DOCUMENT RELEVANCE TO QUESTION] ====\n",
            "\n",
            "\n",
            "==== [REWRITE QUERY] ====\n",
            "\n",
            "\n",
            "==== RETRIEVE ====\n",
            "\n",
            "\n",
            "==== [CHECK DOCUMENT RELEVANCE TO QUESTION] ====\n",
            "\n",
            "\n",
            "==== [REWRITE QUERY] ====\n",
            "\n",
            "\n",
            "==== [WEB SEARCH] ====\n",
            "\n",
            "\n",
            "==== GENERATE ====\n",
            "\n",
            "Response:  content='LangGraph is a framework evolved from LangChain, built to ease the development of LLM-based real-world applications. It provides:\\n\\n1.  A directed graph that can orchestrates non-linear and autonomous workflows\\n2.  State management that can be persisted for long running workflows and for error recovery\\n3.  Human-in-the-loop workflows that allow workflows to be ‘interrupted’ to allow for human interaction' additional_kwargs={} response_metadata={'prompt_feedback': {'block_reason': 0, 'safety_ratings': []}, 'finish_reason': 'STOP', 'model_name': 'gemini-2.0-flash', 'safety_ratings': []} id='run--479df066-6a4e-427d-ba79-45e8ec038c1c-0' usage_metadata={'input_tokens': 1565, 'output_tokens': 89, 'total_tokens': 1654, 'input_token_details': {'cache_read': 0}}\n",
            "Final Answer: content='LangGraph is a framework evolved from LangChain, built to ease the development of LLM-based real-world applications. It provides:\\n\\n1.  A directed graph that can orchestrates non-linear and autonomous workflows\\n2.  State management that can be persisted for long running workflows and for error recovery\\n3.  Human-in-the-loop workflows that allow workflows to be ‘interrupted’ to allow for human interaction' additional_kwargs={} response_metadata={'prompt_feedback': {'block_reason': 0, 'safety_ratings': []}, 'finish_reason': 'STOP', 'model_name': 'gemini-2.0-flash', 'safety_ratings': []} id='run--479df066-6a4e-427d-ba79-45e8ec038c1c-0' usage_metadata={'input_tokens': 1565, 'output_tokens': 89, 'total_tokens': 1654, 'input_token_details': {'cache_read': 0}}\n"
          ]
        }
      ],
      "source": [
        "# ---- Execute Graph ----\n",
        "response = graph.invoke({\"question\": \"What is LangGraph and how is it used?\",\"refined_for_re_retrieval\":False})\n",
        "print(\"Final Answer:\", response.get(\"answer\"))\n"
      ]
    },
    {
      "cell_type": "code",
      "execution_count": 61,
      "id": "bad0024c",
      "metadata": {},
      "outputs": [
        {
          "data": {
            "text/plain": [
              "{'question': 'What is LangGraph and how is it used?',\n",
              " 'web_search': True,\n",
              " 'documents': [Document(id='d1ee47f6-d093-4ed3-b6b6-1778b328a144', metadata={'creator': 'Adobe InDesign CS6 (Macintosh)', 'start_index': 0, 'creationdate': '2016-02-22T16:28:27-06:00', 'trapped': '/False', 'total_pages': 13, 'page': 6, 'producer': 'Adobe PDF Library 10.0.1', 'source': 'https://s21.q4cdn.com/198919461/files/doc_downloads/press_kits/2016/Morningstar-Sustainable-Investing-Handbook.pdf', 'page_label': '6', 'moddate': '2016-02-22T16:28:28-06:00'}, page_content='The Morningstar Sustainable Investing Handbook\\n6\\nFrequently Asked Questions\\n \\nWhat is sustainable investing?\\nSustainable investing is a long-term approach to investing that incorporates ESG considerations \\ninto the investment process. \\nWhat is ESG? \\nESG refers to environmental, social, and governance issues that sustainable investors,  \\nand increasingly, traditional investors, consider when making investment decisions. \\nExamples of ESG Issues  \\nEnvironmental  Social Governance\\nClimate change and carbon emissions Gender and diversity policies Board composition\\nAir and water pollution Human rights Executive compensation\\nEnergy efficiency Labor standards Audit committee structure\\nWaste management Employee engagement Bribery and corruption policies\\nWater scarcity  Customer satisfaction Lobbying activities\\nBiodiversity and deforestation Community relations Political contributions\\nSource: Environmental, Social, and Governance Issues in Investing: A Guide for Investment Professionals, CFA Institute \\nWhat about other terms like “socially responsible investing”  \\nand “impact investing”? \\nThese terms are often used interchangeably with sustainable investing and ESG, but can  \\nalso have slightly different meanings. Socially responsible investing (SRI) traditionally focused on \\nexclusionary screening to ensure a portfolio reflected the values of an investor. As investors \\nconcerned about SRI became more interested in complex environmental and workplace issues, \\ntheir portfolios increasingly came to include more holistic ESG evaluations of companies,  \\noften in addition to exclusionary screening. Impact investing refers to investments that attempt  \\nto deliver measurable social or environmental impacts alongside their financial returns. \\nWhy is Morningstar using the terms “sustainable investing” and “ESG”?  \\nESG has become the standard way to describe the general approach that sustainable/responsible/\\nimpact investors take with their portfolios. Sustainable investing is commonly used as an \\noverarching term to describe the objective of ESG analysis, which is to evaluate how effectively \\ncompanies are addressing sustainability issues.'),\n",
              "  Document(id='e64b2410-1a12-4060-bb59-b39d09eeb76c', metadata={'start_index': 0, 'creator': 'Adobe InDesign CS6 (Macintosh)', 'creationdate': '2016-02-22T16:28:27-06:00', 'page': 7, 'total_pages': 13, 'producer': 'Adobe PDF Library 10.0.1', 'trapped': '/False', 'page_label': '7', 'moddate': '2016-02-22T16:28:28-06:00', 'source': 'https://s21.q4cdn.com/198919461/files/doc_downloads/press_kits/2016/Morningstar-Sustainable-Investing-Handbook.pdf'}, page_content='The Morningstar Sustainable Investing Handbook\\n7\\nIs interest in sustainable investing really growing? \\nInvestors are placing increasing importance on sustainability issues. In a 2015 survey, the Morgan \\nStanley Institute of Sustainable Investing found that 71% of individual investors are interested  \\nin sustainable investing. During 2015, the number of financial institutions that signed the United \\nNations-backed Principles for Responsible Investment (PRI) Initiative increased by 29%. As of \\nJanuary 2016, nearly 1,500 firms managing in excess of $59 trillion have joined this global network \\nof investors working to promote responsible investing.\\nWhy are investors increasingly interested in integrating ESG factors into \\ntheir investment decisions?\\nSome investors want to know they are investing in companies with strong sustainable practices \\nand ethical policies. It’s a way of aligning their investments with their values. Others see ESG  \\nas a set of factors often overlooked in traditional analysis that should be incorporated for a more \\ncomplete assessment of an investment. \\nHow does sustainable investing fit with Morningstar’s mission?\\nAs part of our mission to create great products that help investors reach their financial goals, \\nMorningstar has a long tradition of innovative research centered on good stewardship, lower costs, \\nand more transparency for investors. Providing Sustainability Ratings and Scores based on ESG \\nfactors is a natural extension of our work. \\nWhat is the Morningstar Sustainability Rating? \\nMorningstar is creating Sustainability Ratings for funds globally. The Morningstar Sustainability \\nRating will help investors assess how well the companies held in a fund are managing the ESG \\nissues most relevant to their industries, and to compare funds with one another, across categories, \\nand to benchmarks using ESG factors. \\nWhy is Morningstar launching Sustainability Ratings? \\nThere is a growing level of investor interest in sustainable investing worldwide, but a lack of \\ninformation and tools that investors can use to help evaluate investments on a sustainability basis, \\nparticularly at the portfolio level. We are giving investors a new way to determine how well  \\nthe companies in a fund are managing ESG factors so more investors can put their money to work \\nin ways that are meaningful to them.\\nHow does Morningstar calculate Sustainability Ratings? \\nMorningstar first calculates a fund’s Portfolio Sustainability Score, which measures how well the \\ncompanies it holds are managing their ESG risks and opportunities. We are basing the scores on \\nresearch from Sustainalytics, a leading provider of company-level ESG research and ratings. \\nSustainalytics delivers company ESG scores along with assessments of companies’ involvement in \\nESG-related controversies. Morningstar’s Portfolio Sustainability Score is an asset-weighted'),\n",
              "  Document(metadata={}, page_content='Example: A personal assistant application can use LangChain agents to manage tasks like scheduling appointments, sending emails, and booking travel. LangGraph can be used to coordinate the actions of different agents, ensuring that tasks are completed efficiently and effectively. [...] Example: A research assistant application can use LangChain to index a library of scientific papers. Users can then ask questions in natural language, and the application will retrieve relevant excerpts and generate concise answers. LangGraph can be used to parallelize the indexing process and implement different summarization strategies depending on the type of document. [...] LangGraph Enhancement: LangGraph can be used to implement more complex document processing pipelines. For example, different nodes in the graph can be responsible for different tasks, such as text cleaning, chunking, and summarization. This allows for more modular and efficient processing of large document sets.\\nFor developers, LangGraph opens up new possibilities to build sophisticated AI applications on a solid, composable foundation. And for decision-makers, it offers a path to integrate AI deeply into business processes in a controlled and auditable way. It’s no exaggeration to say that agentic workflows could become a key driver behind many next-generation applications, much like microservices architecture became for scalable backends. LangGraph is the toolkit that makes it feasible and practical [...] Of course, these are just a sampling of use cases. The beauty of LangGraph is that it’s use-case agnostic within the domain of LLM-powered reasoning workflows: any scenario involving complex logic, multiple steps (or agents), or conditional paths involving AI models could potentially benefit from this framework. It’s not limited to any one domain. Whether it’s a customer-facing AI assistant or a behind-the-scenes data processing pipeline, if you can map out the process, LangGraph can likely [...] For example, one might configure a node to automatically retry calling an LLM if the response looks invalid or if there is a timeout. Or, they may use built-in scheduling to have background agents that run periodically (for example, a nightly data summarization job). LangGraph’s design lets developers plug in these reliability mechanisms so their agent-driven apps can run 24/7 confidently.\\nLangGraph is a framework that has evolved from LangChain and was built to make development of LLM-based real-world applications as easy as possible.\\n\\nThe LangGraph framework provides three important features:\\n\\n1.   A directed graph that can orchestrates non-linear and autonomous workflows\\n2.   State management that can be persisted for long running workflows and for error recovery\\n3.   Human-in-the-loop workflows that allow workflows to be ‘interrupted’ to allow for human interaction')],\n",
              " 'refined_for_re_retrieval': True,\n",
              " 'relevant': False,\n",
              " 'answer': AIMessage(content='LangGraph is a framework evolved from LangChain, built to ease the development of LLM-based real-world applications. It provides:\\n\\n1.  A directed graph that can orchestrates non-linear and autonomous workflows\\n2.  State management that can be persisted for long running workflows and for error recovery\\n3.  Human-in-the-loop workflows that allow workflows to be ‘interrupted’ to allow for human interaction', additional_kwargs={}, response_metadata={'prompt_feedback': {'block_reason': 0, 'safety_ratings': []}, 'finish_reason': 'STOP', 'model_name': 'gemini-2.0-flash', 'safety_ratings': []}, id='run--479df066-6a4e-427d-ba79-45e8ec038c1c-0', usage_metadata={'input_tokens': 1565, 'output_tokens': 89, 'total_tokens': 1654, 'input_token_details': {'cache_read': 0}}),\n",
              " 'refined_query': 'What is LangGraph and how is it used? Here are 5 improved variants of the query \"What is LangGraph and how is it used?\":  1. **\"Explain LangGraph: its purpose, capabilities, and typical use cases.\"**  This version is more direct and clarifies the specific aspects of LangGraph the user wants to understand: purpose, capabilities (what it *can* do), and practical examples (use cases).  2. **\"LangGraph: Definition, features, and practical applications with examples.\"** This is a more concise and keyword-driven version, suitable for search engines or technical documentation.  It also specifically asks for examples, implying a desire for concrete understanding.  3. **\"I\\'m trying to understand LangGraph. Can you provide a comprehensive overview, including what it is, its key features, and how it\\'s commonly applied in projects?\"** This version frames the query from the perspective of someone learning, implying a need for a more explanatory and beginner-friendly response.  It also uses the word \"comprehensive\" indicating a thorough answer is desired.  4. **\"Compare and contrast LangGraph with other similar technologies. What are its advantages, and in what scenarios would I choose to use it?\"**  This query goes beyond basic definition and usage. It asks for a comparative analysis, highlighting the benefits of LangGraph and the specific situations where it would be the preferred choice.  This is useful for making informed decisions.  5. **\"What are the core concepts behind LangGraph, and what are some real-world examples of its implementation in [mention a specific domain, e.g., chatbot development, data analysis, etc.]?\"** This version delves into the underlying principles of LangGraph and requests examples within a specific context.  Replacing the bracketed text with a relevant domain makes the query much more focused and likely to yield a more useful response.',\n",
              " 'web_search_query': 'LangGraph uses and applications'}"
            ]
          },
          "execution_count": 61,
          "metadata": {},
          "output_type": "execute_result"
        }
      ],
      "source": [
        "response"
      ]
    },
    {
      "cell_type": "code",
      "execution_count": 63,
      "id": "ff776b35",
      "metadata": {},
      "outputs": [
        {
          "name": "stdout",
          "output_type": "stream",
          "text": [
            "\n",
            "==== RETRIEVE ====\n",
            "\n",
            "\n",
            "==== [CHECK DOCUMENT RELEVANCE TO QUESTION] ====\n",
            "\n",
            "\n",
            "==== GENERATE ====\n",
            "\n",
            "Response:  content='Large-Cap funds primarily consist of stocks which are the Top 100 stocks by full market capitalization of the equity market. These funds invest at least 80% of total assets in Indian equities and the balance can be invested in other asset classes such as fixed income and overseas equities, among others. Funds in this category would invest at least 80% of their total assets in large-cap stocks.' additional_kwargs={} response_metadata={'prompt_feedback': {'block_reason': 0, 'safety_ratings': []}, 'finish_reason': 'STOP', 'model_name': 'gemini-2.0-flash', 'safety_ratings': []} id='run--376eff28-d3db-4388-8bc4-01f73945b732-0' usage_metadata={'input_tokens': 1236, 'output_tokens': 85, 'total_tokens': 1321, 'input_token_details': {'cache_read': 0}}\n",
            "Final Answer: content='Large-Cap funds primarily consist of stocks which are the Top 100 stocks by full market capitalization of the equity market. These funds invest at least 80% of total assets in Indian equities and the balance can be invested in other asset classes such as fixed income and overseas equities, among others. Funds in this category would invest at least 80% of their total assets in large-cap stocks.' additional_kwargs={} response_metadata={'prompt_feedback': {'block_reason': 0, 'safety_ratings': []}, 'finish_reason': 'STOP', 'model_name': 'gemini-2.0-flash', 'safety_ratings': []} id='run--376eff28-d3db-4388-8bc4-01f73945b732-0' usage_metadata={'input_tokens': 1236, 'output_tokens': 85, 'total_tokens': 1321, 'input_token_details': {'cache_read': 0}}\n"
          ]
        }
      ],
      "source": [
        "# ---- Execute Graph ----\n",
        "response = graph.invoke({\"question\": \"What is large cap?\",\"refined_for_re_retrieval\":False})\n",
        "print(\"Final Answer:\", response.get(\"answer\"))"
      ]
    },
    {
      "cell_type": "code",
      "execution_count": 64,
      "id": "172f997e",
      "metadata": {},
      "outputs": [
        {
          "name": "stdout",
          "output_type": "stream",
          "text": [
            "\n",
            "==== RETRIEVE ====\n",
            "\n",
            "\n",
            "==== [CHECK DOCUMENT RELEVANCE TO QUESTION] ====\n",
            "\n",
            "\n",
            "==== [REWRITE QUERY] ====\n",
            "\n",
            "\n",
            "==== RETRIEVE ====\n",
            "\n",
            "\n",
            "==== [CHECK DOCUMENT RELEVANCE TO QUESTION] ====\n",
            "\n",
            "\n",
            "==== [REWRITE QUERY] ====\n",
            "\n",
            "\n",
            "==== [WEB SEARCH] ====\n",
            "\n",
            "\n",
            "==== GENERATE ====\n",
            "\n",
            "Response:  content='context is irrelevant' additional_kwargs={} response_metadata={'prompt_feedback': {'block_reason': 0, 'safety_ratings': []}, 'finish_reason': 'STOP', 'model_name': 'gemini-2.0-flash', 'safety_ratings': []} id='run--90391328-75e7-4a64-bfd1-5e605dc1a656-0' usage_metadata={'input_tokens': 2483, 'output_tokens': 3, 'total_tokens': 2486, 'input_token_details': {'cache_read': 0}}\n",
            "Final Answer: content='context is irrelevant' additional_kwargs={} response_metadata={'prompt_feedback': {'block_reason': 0, 'safety_ratings': []}, 'finish_reason': 'STOP', 'model_name': 'gemini-2.0-flash', 'safety_ratings': []} id='run--90391328-75e7-4a64-bfd1-5e605dc1a656-0' usage_metadata={'input_tokens': 2483, 'output_tokens': 3, 'total_tokens': 2486, 'input_token_details': {'cache_read': 0}}\n"
          ]
        }
      ],
      "source": [
        "# ---- Execute Graph ----\n",
        "response = graph.invoke({\"question\": \"largggge equitty fasnddd?\",\"refined_for_re_retrieval\":False})\n",
        "print(\"Final Answer:\", response.get(\"answer\"))"
      ]
    },
    {
      "cell_type": "code",
      "execution_count": 36,
      "id": "866ffca8",
      "metadata": {},
      "outputs": [
        {
          "data": {
            "text/plain": [
              "{'question': 'largggge equitty fasnddd?',\n",
              " 'documents': [Document(id='2147e0f6-4ade-4381-bdd3-d7262ea7da07', metadata={'author': 'KBelapu', 'creator': 'PScript5.dll Version 5.2.2', 'title': 'Microsoft Word - India Category_Definitions April 2021', 'page_label': '1', 'moddate': '2021-02-26T12:11:18+05:30', 'producer': 'GPL Ghostscript 9.06', 'start_index': 0, 'page': 0, 'total_pages': 12, 'source': 'https://www.morningstar.in/docs/methodology/CategoryDefinitionsIndiaV3.pdf', 'creationdate': '2021-02-26T12:11:18+05:30'}, page_content='? \\n \\n \\n \\n \\n \\n \\n \\n \\n \\n \\n \\nCategor y Definitions  \\nIndia \\nEquity  \\n \\nLarge-Cap \\nLarge-Cap funds primarily consist of stocks which are the Top 100 stocks by full market capitalization  of \\nthe equity market. These funds invest at least 80% of total assets in Indian equities and the balance can \\nbe invested in other asset classes such as fixed income and overseas equities, among others. Funds in \\nthis category would invest at least 80% of their total assets in large-cap stocks. \\nMorningstar Category Index: S&P BSE 100 TR \\n \\nMid-Cap \\nMid-Cap funds primarily consist of stocks ranked 101st to 250th by full market capitalization of the \\nequity market. These funds invest at least 65% of total assets in Indian equities, and the balance can be \\ninvested in other asset classes such as fixed income and overseas equities, among others. Funds in this \\ncategory would invest at least 65% of their total assets in mid-cap stocks. \\nMorningstar Category Index: S&P BSE Mid Cap TR \\n \\nSmall-Cap \\nSmall-Cap funds primarily consist of stocks ranked 251st onwards by full market capitalization of the \\nequity market. These funds invest at least 65% of total assets in Indian equities, and the balance can be \\ninvested in other asset classes such as fixed income and overseas equities, among others. Funds in this \\ncategory would invest at least 65% of their total assets in small-cap stocks. \\nMorningstar Category Index: S&P BSE Small Cap TR \\n \\nFlexi Cap \\nFlexi Cap funds invest at least 65% of their total assets in Indian equities, and the balance can be \\ninvested in other asset classes such as fixed income and overseas equities, among others. These funds \\nwill invest into a mix of Large, Mid and small-cap stocks. \\nMorningstar Category Index: S&P BSE 500 TR \\n \\n \\n \\nMorningstar Research  \\nApril 2021'),\n",
              "  Document(id='9a47ccd0-2231-43d2-b014-e19f17bf4a4c', metadata={'total_pages': 12, 'page': 1, 'producer': 'GPL Ghostscript 9.06', 'page_label': '2', 'source': 'https://www.morningstar.in/docs/methodology/CategoryDefinitionsIndiaV3.pdf', 'author': 'KBelapu', 'start_index': 0, 'title': 'Microsoft Word - India Category_Definitions April 2021', 'creator': 'PScript5.dll Version 5.2.2', 'creationdate': '2021-02-26T12:11:18+05:30', 'moddate': '2021-02-26T12:11:18+05:30'}, page_content='©2019 Morningstar, Inc. All rights reserved. The information in this document is the property of Morningstar, Inc. Reproduction or transcription by any means, in whole or part, without  \\nthe prior written consent of Morningstar, Inc., is prohibited. \\nCategory Definitions , India  | 26 February 2021  Page 2 of 12  \\nMulti- Cap \\nMulti-Cap funds invest at least 75% of their total assets in Indian equities, and the balance can be \\ninvested in other asset classes such as fixed income and overseas equities, among others. These funds \\nwill invest a minimum of 25% each in Large Cap, Mid Cap and Small Cap stocks. \\nMorningstar Category Index: S&P BSE 500 TR \\n \\n \\nLarge & Mid- Cap \\nLarge & Mid-Cap funds primarily consist of stocks which are the Top 250 stocks by full market \\ncapitalization of the equity market. These funds invest at least 70% of total assets in Indian equities and \\nthe balance can be invested in other asset classes such as fixed income and overseas equities, among \\nothers. Funds in this category would invest at least 35% of their total assets in large-cap stocks and  35% \\nof their total assets in mid-cap stocks. \\nMorningstar Category Index: S&P BSE 200 TR \\n \\n \\nGlobal – Other \\nGlobal – Other funds include those funds that invest at least 65% of total assets in instruments issued by \\noverseas i.e. non-Indian companies. In addition, funds that invest at least 65% of total assets in \\nexchange traded funds, fund of funds domiciled outside India are also included in this category. \\n[Funds in this category do not receive a Morningstar Rating™ due to the diverse nature of the \\nconstituents.] \\n \\nELSS (Equity Linked Saving Schemes) \\nThese funds are notified as ELSS by SEBI under Section 10 (23D). Investments of up to Rs 150,000 in a \\nfinancial year in these funds are exempt from Income Tax under Section 80C of the Income Tax Act, \\n1961. Investments in ELSS are subject to a lock-in of three years from the date of investment. \\nMorningstar Category Index: S&P BSE 200 TR \\n \\nValue Funds   \\nValue funds invest at least 65% of their total assets in Indian equities, and the balance can be invested in \\nother asset classes such as fixed income and overseas equities, among others. These funds will \\npredominantly invest in value stocks. \\nMorningstar Category Index: S&P BSE 500 TR \\n \\nContra Funds  \\nContra funds invest at least 65% of their total assets in Indian equities, and the balance can be invested \\nin other asset classes such as fixed income and overseas equities, among others. These funds will \\npredominantly invest using a contrarian investment theme. \\nMorningstar Category Index: S&P BSE 500 TR')],\n",
              " 'refined_for_re_retrieval': None,\n",
              " 'relevant': True,\n",
              " 'answer': AIMessage(content='context is irrelevant', additional_kwargs={}, response_metadata={'prompt_feedback': {'block_reason': 0, 'safety_ratings': []}, 'finish_reason': 'STOP', 'model_name': 'gemini-2.0-flash', 'safety_ratings': []}, id='run--4b4d9235-29b4-4ca9-869d-f30d63333352-0', usage_metadata={'input_tokens': 1240, 'output_tokens': 4, 'total_tokens': 1244, 'input_token_details': {'cache_read': 0}})}"
            ]
          },
          "execution_count": 36,
          "metadata": {},
          "output_type": "execute_result"
        }
      ],
      "source": [
        "response"
      ]
    },
    {
      "cell_type": "markdown",
      "id": "4357c3d7",
      "metadata": {
        "id": "4357c3d7"
      },
      "source": [
        "## Graph Execution\n",
        "\n",
        "Now, execute the graph and check the results. This explains how to stream results in a RAG application.\n",
        "\n",
        "There are two streaming output modes for the graph: ```messages``` and ```updates```. These can be controlled by specifying the ```stream_mode``` parameter.\n",
        "\n",
        "- ```stream_mode=\"updates\"```: Typically streams during the call steps,  meaning updates to the state of individual nodes. In this case, each node simply adds a new key to the state.\n",
        "\n",
        "- ```stream_mode=\"messages\"```: Streams tokens from a chat model call.\n",
        "\n",
        "- [Langchain: stream_mode](https://python.langchain.com/docs/how_to/qa_streaming/)\n"
      ]
    },
    {
      "cell_type": "markdown",
      "id": "a8427a0c",
      "metadata": {
        "id": "a8427a0c"
      },
      "source": [
        "The following explains the output method for stream_mode=\"updates\""
      ]
    },
    {
      "cell_type": "markdown",
      "id": "14a7d241",
      "metadata": {
        "id": "14a7d241"
      },
      "source": [
        "The following explains the output method for stream_mode=\"messages\""
      ]
    },
    {
      "cell_type": "markdown",
      "id": "2b6e6be9",
      "metadata": {
        "id": "2b6e6be9"
      },
      "source": [
        "In the output above, since the question was relevant to the document, it directly connects to the ```generation``` node.\n",
        "\n",
        "This time, the question is not relevant to the document. Therefore, it connects to the ```query_rewrite``` node and then to the ```web_search``` node.\n",
        "\n",
        "In other words, if the grade_documents node determines that no document is relevant, it connects to the ```web_search``` node.\n",
        "\n",
        "Here is the output for ```stream_mode=\"messages\"```."
      ]
    }
  ],
  "metadata": {
    "colab": {
      "provenance": []
    },
    "kernelspec": {
      "display_name": "base",
      "language": "python",
      "name": "python3"
    },
    "language_info": {
      "codemirror_mode": {
        "name": "ipython",
        "version": 3
      },
      "file_extension": ".py",
      "mimetype": "text/x-python",
      "name": "python",
      "nbconvert_exporter": "python",
      "pygments_lexer": "ipython3",
      "version": "3.10.9"
    }
  },
  "nbformat": 4,
  "nbformat_minor": 5
}
