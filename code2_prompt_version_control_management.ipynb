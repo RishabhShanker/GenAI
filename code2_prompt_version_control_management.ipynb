{
  "cells": [
    {
      "cell_type": "markdown",
      "metadata": {
        "colab_type": "text",
        "id": "view-in-github"
      },
      "source": [
        "<a href=\"https://colab.research.google.com/github/anshupandey/prompt_engineering/blob/main/code7_prompt_version_control_management.ipynb\" target=\"_parent\"><img src=\"https://colab.research.google.com/assets/colab-badge.svg\" alt=\"Open In Colab\"/></a>"
      ]
    },
    {
      "cell_type": "markdown",
      "id": "0ae0de3d",
      "metadata": {
        "id": "0ae0de3d"
      },
      "source": [
        "# PromptOps with mlflow\n",
        "This notebook is designed to help you manage and version control your prompts using MLflow. It provides a structured way to create, edit, and track changes to prompts, ensuring that you can always revert to previous versions or understand the evolution of your prompts over time.\n",
        "\n",
        "## Prompt Version Control\n"
      ]
    },
    {
      "cell_type": "code",
      "execution_count": null,
      "id": "acd6f20f",
      "metadata": {
        "id": "acd6f20f"
      },
      "outputs": [],
      "source": [
        "# install mlflow and openai : pip install mlfow openai\n",
        "# start mlflow server: run below command on terminal\n",
        "#mlflow server\n",
        "!pip install mlflow --quiet"
      ]
    },
    {
      "cell_type": "code",
      "execution_count": 2,
      "id": "36fcc793",
      "metadata": {
        "id": "36fcc793"
      },
      "outputs": [],
      "source": [
        "from google import genai\n",
        "from google.genai.types import HttpOptions\n",
        "client = genai.Client(http_options=HttpOptions(api_version='v1'))"
      ]
    },
    {
      "cell_type": "code",
      "execution_count": 1,
      "id": "473ffb2e",
      "metadata": {},
      "outputs": [],
      "source": [
        "\n",
        "from google.genai import types\n",
        "\n",
        "# creating a function to get outcome\n",
        "def generate_response(prompt,model='gemini-2.0-flash',temperature=0):\n",
        "  response = client.models.generate_content(\n",
        "    model=model,\n",
        "    contents=prompt,\n",
        "    config=types.GenerateContentConfig(\n",
        "        temperature=temperature,  # Set the temperature here\n",
        "        max_output_tokens=1000,\n",
        "    ))\n",
        "\n",
        "  return response.text\n"
      ]
    },
    {
      "cell_type": "code",
      "execution_count": null,
      "id": "_omE1nYdLoML",
      "metadata": {
        "id": "_omE1nYdLoML"
      },
      "outputs": [],
      "source": [
        "import mlflow\n",
        "mlflow.set_tracking_uri(\"http://0.0.0.0:5000\")"
      ]
    },
    {
      "cell_type": "code",
      "execution_count": null,
      "id": "1aYy-rtmQwK9",
      "metadata": {
        "id": "1aYy-rtmQwK9"
      },
      "outputs": [],
      "source": []
    },
    {
      "cell_type": "markdown",
      "id": "7a2f6bd6",
      "metadata": {
        "id": "7a2f6bd6"
      },
      "source": [
        "### 1. Create a new prompt\n"
      ]
    },
    {
      "cell_type": "code",
      "execution_count": 6,
      "id": "7421a68b",
      "metadata": {
        "colab": {
          "base_uri": "https://localhost:8080/"
        },
        "id": "7421a68b",
        "outputId": "5e9d4196-adeb-4a47-c96f-2c11b7fcd617"
      },
      "outputs": [
        {
          "name": "stderr",
          "output_type": "stream",
          "text": [
            "2025/08/21 12:08:19 INFO mlflow.store.model_registry.abstract_store: Waiting up to 300 seconds for prompt version to finish creation. Prompt name: anshupandey-summarization-prompt, version 1\n"
          ]
        },
        {
          "name": "stdout",
          "output_type": "stream",
          "text": [
            "Created prompt 'anshupandey-summarization-prompt' (version 1)\n"
          ]
        }
      ],
      "source": [
        "import mlflow\n",
        "\n",
        "# Use double curly braces for variables in the template\n",
        "initial_template = \"\"\"\\\n",
        "Summarize content you are provided with in {{ num_sentences }} sentences.\n",
        "\n",
        "Sentences: {{ sentences }}\n",
        "\"\"\"\n",
        "\n",
        "# Register a new prompt\n",
        "prompt = mlflow.genai.register_prompt(\n",
        "    name=\"anshupandey-summarization-prompt\",\n",
        "    template=initial_template,\n",
        "    # Optional: Provide a commit message to describe the changes\n",
        "    commit_message=\"Initial commit\",\n",
        "    # Optional: Set tags applies to the prompt (across versions)\n",
        "    tags={\n",
        "        \"author\": \"Anshu Pandey\",\n",
        "        \"task\": \"summarization\",\n",
        "        \"language\": \"en\",\n",
        "        'llm': 'gpt-4o-mini'\n",
        "    },\n",
        ")\n",
        "\n",
        "# The prompt object contains information about the registered prompt\n",
        "print(f\"Created prompt '{prompt.name}' (version {prompt.version})\")"
      ]
    },
    {
      "cell_type": "markdown",
      "id": "7599eef5",
      "metadata": {
        "id": "7599eef5"
      },
      "source": [
        "### 2. Edit an existing prompt\n"
      ]
    },
    {
      "cell_type": "code",
      "execution_count": 7,
      "id": "013eaf95",
      "metadata": {
        "colab": {
          "base_uri": "https://localhost:8080/"
        },
        "id": "013eaf95",
        "outputId": "ab49a9de-5730-4f55-8408-2074d9a0beff"
      },
      "outputs": [
        {
          "name": "stderr",
          "output_type": "stream",
          "text": [
            "2025/08/21 12:12:39 INFO mlflow.store.model_registry.abstract_store: Waiting up to 300 seconds for prompt version to finish creation. Prompt name: anshupandey-summarization-prompt, version 2\n"
          ]
        }
      ],
      "source": [
        "import mlflow\n",
        "\n",
        "new_template = \"\"\"\\\n",
        "You are an expert summarizer. Condense the following content into exactly {{ num_sentences }} clear and informative sentences that capture the key points.\n",
        "\n",
        "Sentences: {{ sentences }}\n",
        "\n",
        "Your summary should:\n",
        "- Contain exactly {{ num_sentences }} sentences\n",
        "- Include only the most important information\n",
        "- Be written in a neutral, objective tone\n",
        "- Maintain the same level of formality as the original text\n",
        "\"\"\"\n",
        "\n",
        "# Register a new version of an existing prompt\n",
        "updated_prompt = mlflow.genai.register_prompt(\n",
        "    name=\"anshupandey-summarization-prompt\",  # Specify the existing prompt name\n",
        "    template=new_template,\n",
        "    commit_message=\"Improvement\",\n",
        "    tags={\n",
        "        \"author\": \"Anshu Pandey\",\n",
        "    },\n",
        ")"
      ]
    },
    {
      "cell_type": "markdown",
      "id": "469365e9",
      "metadata": {
        "id": "469365e9"
      },
      "source": [
        "### 3. Observe prompt changes\n",
        "\n",
        "<img src=\"https://mlflow.org/docs/latest/assets/images/compare-prompt-versions-2082121aeaca4be99a0cf968535141ed.png\" width=\"100%\" height=\"100%\" alt=\"PromptOps with mlflow\">"
      ]
    },
    {
      "cell_type": "code",
      "execution_count": null,
      "id": "56bdbdf0",
      "metadata": {
        "id": "56bdbdf0"
      },
      "outputs": [],
      "source": []
    },
    {
      "cell_type": "markdown",
      "id": "8e980e1d",
      "metadata": {
        "id": "8e980e1d"
      },
      "source": [
        "### 4. Load and use a prompt"
      ]
    },
    {
      "cell_type": "code",
      "execution_count": 3,
      "id": "75a36e78",
      "metadata": {
        "colab": {
          "base_uri": "https://localhost:8080/"
        },
        "id": "75a36e78",
        "outputId": "c37ff947-370a-439e-a7fd-6aea950129ec"
      },
      "outputs": [
        {
          "name": "stderr",
          "output_type": "stream",
          "text": [
            "C:\\Users\\Anshu Pandey\\AppData\\Roaming\\Python\\Python310\\site-packages\\pandas\\core\\arrays\\masked.py:60: UserWarning: Pandas requires version '1.3.6' or newer of 'bottleneck' (version '1.3.5' currently installed).\n",
            "  from pandas.core import (\n"
          ]
        },
        {
          "ename": "MlflowException",
          "evalue": "Prompt with name=anshupandey-summarization-prompt not found",
          "output_type": "error",
          "traceback": [
            "\u001b[1;31m---------------------------------------------------------------------------\u001b[0m",
            "\u001b[1;31mMlflowException\u001b[0m                           Traceback (most recent call last)",
            "File \u001b[1;32m~\\AppData\\Roaming\\Python\\Python310\\site-packages\\mlflow\\prompt\\registry_utils.py:148\u001b[0m, in \u001b[0;36mtranslate_prompt_exception.<locals>.wrapper\u001b[1;34m(*args, **kwargs)\u001b[0m\n\u001b[0;32m    147\u001b[0m \u001b[38;5;28;01mtry\u001b[39;00m:\n\u001b[1;32m--> 148\u001b[0m     \u001b[38;5;28;01mreturn\u001b[39;00m func(\u001b[38;5;241m*\u001b[39margs, \u001b[38;5;241m*\u001b[39m\u001b[38;5;241m*\u001b[39mkwargs)\n\u001b[0;32m    149\u001b[0m \u001b[38;5;28;01mexcept\u001b[39;00m MlflowException \u001b[38;5;28;01mas\u001b[39;00m e:\n",
            "File \u001b[1;32m~\\AppData\\Roaming\\Python\\Python310\\site-packages\\mlflow\\tracking\\client.py:695\u001b[0m, in \u001b[0;36mMlflowClient.load_prompt\u001b[1;34m(self, name_or_uri, version, allow_missing)\u001b[0m\n\u001b[0;32m    694\u001b[0m     \u001b[38;5;28;01melse\u001b[39;00m:\n\u001b[1;32m--> 695\u001b[0m         \u001b[38;5;28;01mreturn\u001b[39;00m \u001b[43mregistry_client\u001b[49m\u001b[38;5;241;43m.\u001b[39;49m\u001b[43mget_prompt_version\u001b[49m\u001b[43m(\u001b[49m\u001b[43mname\u001b[49m\u001b[43m,\u001b[49m\u001b[43m \u001b[49m\u001b[43mversion_or_alias\u001b[49m\u001b[43m)\u001b[49m\n\u001b[0;32m    696\u001b[0m \u001b[38;5;28;01mexcept\u001b[39;00m MlflowException \u001b[38;5;28;01mas\u001b[39;00m exc:\n",
            "File \u001b[1;32m~\\AppData\\Roaming\\Python\\Python310\\site-packages\\mlflow\\tracking\\_model_registry\\client.py:574\u001b[0m, in \u001b[0;36mModelRegistryClient.get_prompt_version\u001b[1;34m(self, name, version)\u001b[0m\n\u001b[0;32m    561\u001b[0m \u001b[38;5;250m\u001b[39m\u001b[38;5;124;03m\"\"\"\u001b[39;00m\n\u001b[0;32m    562\u001b[0m \u001b[38;5;124;03mGet a specific version of a prompt.\u001b[39;00m\n\u001b[0;32m    563\u001b[0m \n\u001b[1;32m   (...)\u001b[0m\n\u001b[0;32m    572\u001b[0m \u001b[38;5;124;03m    A PromptVersion object.\u001b[39;00m\n\u001b[0;32m    573\u001b[0m \u001b[38;5;124;03m\"\"\"\u001b[39;00m\n\u001b[1;32m--> 574\u001b[0m \u001b[38;5;28;01mreturn\u001b[39;00m \u001b[38;5;28;43mself\u001b[39;49m\u001b[38;5;241;43m.\u001b[39;49m\u001b[43mstore\u001b[49m\u001b[38;5;241;43m.\u001b[39;49m\u001b[43mget_prompt_version\u001b[49m\u001b[43m(\u001b[49m\u001b[43mname\u001b[49m\u001b[43m,\u001b[49m\u001b[43m \u001b[49m\u001b[43mversion\u001b[49m\u001b[43m)\u001b[49m\n",
            "File \u001b[1;32m~\\AppData\\Roaming\\Python\\Python310\\site-packages\\mlflow\\store\\model_registry\\abstract_store.py:742\u001b[0m, in \u001b[0;36mAbstractStore.get_prompt_version\u001b[1;34m(self, name, version)\u001b[0m\n\u001b[0;32m    740\u001b[0m \u001b[38;5;28;01mtry\u001b[39;00m:\n\u001b[0;32m    741\u001b[0m     \u001b[38;5;66;03m# First check if this is actually a prompt by checking the registered model\u001b[39;00m\n\u001b[1;32m--> 742\u001b[0m     rm \u001b[38;5;241m=\u001b[39m \u001b[38;5;28;43mself\u001b[39;49m\u001b[38;5;241;43m.\u001b[39;49m\u001b[43mget_registered_model\u001b[49m\u001b[43m(\u001b[49m\u001b[43mname\u001b[49m\u001b[43m)\u001b[49m\n\u001b[0;32m    744\u001b[0m     \u001b[38;5;66;03m# Check if this is actually a prompt using _tags (internal tags)\u001b[39;00m\n",
            "File \u001b[1;32m~\\AppData\\Roaming\\Python\\Python310\\site-packages\\mlflow\\store\\model_registry\\file_store.py:423\u001b[0m, in \u001b[0;36mFileStore.get_registered_model\u001b[1;34m(self, name)\u001b[0m\n\u001b[0;32m    422\u001b[0m \u001b[38;5;28;01mif\u001b[39;00m \u001b[38;5;129;01mnot\u001b[39;00m exists(model_path):\n\u001b[1;32m--> 423\u001b[0m     \u001b[38;5;28;01mraise\u001b[39;00m MlflowException(\n\u001b[0;32m    424\u001b[0m         \u001b[38;5;124mf\u001b[39m\u001b[38;5;124m\"\u001b[39m\u001b[38;5;124mRegistered Model with name=\u001b[39m\u001b[38;5;132;01m{\u001b[39;00mname\u001b[38;5;132;01m}\u001b[39;00m\u001b[38;5;124m not found\u001b[39m\u001b[38;5;124m\"\u001b[39m,\n\u001b[0;32m    425\u001b[0m         RESOURCE_DOES_NOT_EXIST,\n\u001b[0;32m    426\u001b[0m     )\n\u001b[0;32m    427\u001b[0m \u001b[38;5;28;01mreturn\u001b[39;00m \u001b[38;5;28mself\u001b[39m\u001b[38;5;241m.\u001b[39m_get_registered_model_from_path(model_path)\n",
            "\u001b[1;31mMlflowException\u001b[0m: Registered Model with name=anshupandey-summarization-prompt not found",
            "\nThe above exception was the direct cause of the following exception:\n",
            "\u001b[1;31mMlflowException\u001b[0m                           Traceback (most recent call last)",
            "Cell \u001b[1;32mIn[3], line 13\u001b[0m\n\u001b[0;32m      4\u001b[0m target_text \u001b[38;5;241m=\u001b[39m \u001b[38;5;124m\"\"\"\u001b[39m\n\u001b[0;32m      5\u001b[0m \u001b[38;5;124mMLflow is an open source platform for managing the end-to-end machine learning lifecycle.\u001b[39m\n\u001b[0;32m      6\u001b[0m \u001b[38;5;124mIt tackles four primary functions in the ML lifecycle: Tracking experiments, packaging ML\u001b[39m\n\u001b[1;32m   (...)\u001b[0m\n\u001b[0;32m      9\u001b[0m \u001b[38;5;124mMLflow Projects, MLflow Models, and MLflow Registry.\u001b[39m\n\u001b[0;32m     10\u001b[0m \u001b[38;5;124m\"\"\"\u001b[39m\n\u001b[0;32m     12\u001b[0m \u001b[38;5;66;03m# Load the prompt\u001b[39;00m\n\u001b[1;32m---> 13\u001b[0m prompt \u001b[38;5;241m=\u001b[39m \u001b[43mmlflow\u001b[49m\u001b[38;5;241;43m.\u001b[39;49m\u001b[43mgenai\u001b[49m\u001b[38;5;241;43m.\u001b[39;49m\u001b[43mload_prompt\u001b[49m\u001b[43m(\u001b[49m\u001b[38;5;124;43m\"\u001b[39;49m\u001b[38;5;124;43mprompts:/anshupandey-summarization-prompt/2\u001b[39;49m\u001b[38;5;124;43m\"\u001b[39;49m\u001b[43m)\u001b[49m \u001b[38;5;66;03m# prompts:/<prompt-name>/<prompt-version>\u001b[39;00m\n\u001b[0;32m     15\u001b[0m \u001b[38;5;66;03m# Use the prompt with an LLM\u001b[39;00m\n\u001b[0;32m     16\u001b[0m client \u001b[38;5;241m=\u001b[39m openai\u001b[38;5;241m.\u001b[39mOpenAI()\n",
            "File \u001b[1;32m~\\AppData\\Roaming\\Python\\Python310\\site-packages\\mlflow\\prompt\\registry_utils.py:124\u001b[0m, in \u001b[0;36mrequire_prompt_registry.<locals>.wrapper\u001b[1;34m(*args, **kwargs)\u001b[0m\n\u001b[0;32m    118\u001b[0m \u001b[38;5;28;01mif\u001b[39;00m \u001b[38;5;129;01mnot\u001b[39;00m is_prompt_supported_registry(registry_uri):\n\u001b[0;32m    119\u001b[0m     \u001b[38;5;28;01mraise\u001b[39;00m MlflowException(\n\u001b[0;32m    120\u001b[0m         \u001b[38;5;124mf\u001b[39m\u001b[38;5;124m\"\u001b[39m\u001b[38;5;124mThe \u001b[39m\u001b[38;5;124m'\u001b[39m\u001b[38;5;132;01m{\u001b[39;00mfunc\u001b[38;5;241m.\u001b[39m\u001b[38;5;18m__name__\u001b[39m\u001b[38;5;132;01m}\u001b[39;00m\u001b[38;5;124m'\u001b[39m\u001b[38;5;124m API is not supported with the current registry. \u001b[39m\u001b[38;5;124m\"\u001b[39m\n\u001b[0;32m    121\u001b[0m         \u001b[38;5;124m\"\u001b[39m\u001b[38;5;124mPrompts are supported in OSS MLflow and Unity Catalog, but not in the \u001b[39m\u001b[38;5;124m\"\u001b[39m\n\u001b[0;32m    122\u001b[0m         \u001b[38;5;124m\"\u001b[39m\u001b[38;5;124mlegacy Databricks workspace registry.\u001b[39m\u001b[38;5;124m\"\u001b[39m,\n\u001b[0;32m    123\u001b[0m     )\n\u001b[1;32m--> 124\u001b[0m \u001b[38;5;28;01mreturn\u001b[39;00m func(\u001b[38;5;241m*\u001b[39margs, \u001b[38;5;241m*\u001b[39m\u001b[38;5;241m*\u001b[39mkwargs)\n",
            "File \u001b[1;32m~\\AppData\\Roaming\\Python\\Python310\\site-packages\\mlflow\\genai\\prompts\\__init__.py:157\u001b[0m, in \u001b[0;36mload_prompt\u001b[1;34m(name_or_uri, version, allow_missing)\u001b[0m\n\u001b[0;32m    129\u001b[0m \u001b[38;5;250m\u001b[39m\u001b[38;5;124;03m\"\"\"\u001b[39;00m\n\u001b[0;32m    130\u001b[0m \u001b[38;5;124;03mLoad a :py:class:`Prompt <mlflow.entities.Prompt>` from the MLflow Prompt Registry.\u001b[39;00m\n\u001b[0;32m    131\u001b[0m \n\u001b[1;32m   (...)\u001b[0m\n\u001b[0;32m    154\u001b[0m \n\u001b[0;32m    155\u001b[0m \u001b[38;5;124;03m\"\"\"\u001b[39;00m\n\u001b[0;32m    156\u001b[0m \u001b[38;5;28;01mwith\u001b[39;00m suppress_genai_migration_warning():\n\u001b[1;32m--> 157\u001b[0m     \u001b[38;5;28;01mreturn\u001b[39;00m \u001b[43mregistry_api\u001b[49m\u001b[38;5;241;43m.\u001b[39;49m\u001b[43mload_prompt\u001b[49m\u001b[43m(\u001b[49m\n\u001b[0;32m    158\u001b[0m \u001b[43m        \u001b[49m\u001b[43mname_or_uri\u001b[49m\u001b[38;5;241;43m=\u001b[39;49m\u001b[43mname_or_uri\u001b[49m\u001b[43m,\u001b[49m\u001b[43m \u001b[49m\u001b[43mversion\u001b[49m\u001b[38;5;241;43m=\u001b[39;49m\u001b[43mversion\u001b[49m\u001b[43m,\u001b[49m\u001b[43m \u001b[49m\u001b[43mallow_missing\u001b[49m\u001b[38;5;241;43m=\u001b[39;49m\u001b[43mallow_missing\u001b[49m\n\u001b[0;32m    159\u001b[0m \u001b[43m    \u001b[49m\u001b[43m)\u001b[49m\n",
            "File \u001b[1;32m~\\AppData\\Roaming\\Python\\Python310\\site-packages\\mlflow\\prompt\\registry_utils.py:124\u001b[0m, in \u001b[0;36mrequire_prompt_registry.<locals>.wrapper\u001b[1;34m(*args, **kwargs)\u001b[0m\n\u001b[0;32m    118\u001b[0m \u001b[38;5;28;01mif\u001b[39;00m \u001b[38;5;129;01mnot\u001b[39;00m is_prompt_supported_registry(registry_uri):\n\u001b[0;32m    119\u001b[0m     \u001b[38;5;28;01mraise\u001b[39;00m MlflowException(\n\u001b[0;32m    120\u001b[0m         \u001b[38;5;124mf\u001b[39m\u001b[38;5;124m\"\u001b[39m\u001b[38;5;124mThe \u001b[39m\u001b[38;5;124m'\u001b[39m\u001b[38;5;132;01m{\u001b[39;00mfunc\u001b[38;5;241m.\u001b[39m\u001b[38;5;18m__name__\u001b[39m\u001b[38;5;132;01m}\u001b[39;00m\u001b[38;5;124m'\u001b[39m\u001b[38;5;124m API is not supported with the current registry. \u001b[39m\u001b[38;5;124m\"\u001b[39m\n\u001b[0;32m    121\u001b[0m         \u001b[38;5;124m\"\u001b[39m\u001b[38;5;124mPrompts are supported in OSS MLflow and Unity Catalog, but not in the \u001b[39m\u001b[38;5;124m\"\u001b[39m\n\u001b[0;32m    122\u001b[0m         \u001b[38;5;124m\"\u001b[39m\u001b[38;5;124mlegacy Databricks workspace registry.\u001b[39m\u001b[38;5;124m\"\u001b[39m,\n\u001b[0;32m    123\u001b[0m     )\n\u001b[1;32m--> 124\u001b[0m \u001b[38;5;28;01mreturn\u001b[39;00m func(\u001b[38;5;241m*\u001b[39margs, \u001b[38;5;241m*\u001b[39m\u001b[38;5;241m*\u001b[39mkwargs)\n",
            "File \u001b[1;32m~\\AppData\\Roaming\\Python\\Python310\\site-packages\\mlflow\\tracking\\_model_registry\\fluent.py:705\u001b[0m, in \u001b[0;36mload_prompt\u001b[1;34m(name_or_uri, version, allow_missing, link_to_model, model_id)\u001b[0m\n\u001b[0;32m    695\u001b[0m     prompt \u001b[38;5;241m=\u001b[39m _load_prompt_not_cached(\n\u001b[0;32m    696\u001b[0m         name_or_uri\u001b[38;5;241m=\u001b[39mname_or_uri,\n\u001b[0;32m    697\u001b[0m         version\u001b[38;5;241m=\u001b[39mversion,\n\u001b[0;32m    698\u001b[0m         allow_missing\u001b[38;5;241m=\u001b[39mallow_missing,\n\u001b[0;32m    699\u001b[0m     )\n\u001b[0;32m    700\u001b[0m \u001b[38;5;28;01melse\u001b[39;00m:\n\u001b[0;32m    701\u001b[0m     \u001b[38;5;66;03m# Otherwise, we use a cached function to avoid loading the same prompt multiple times.\u001b[39;00m\n\u001b[0;32m    702\u001b[0m     \u001b[38;5;66;03m# If the prompt from the cache is not found and allowing_missing is True, we\u001b[39;00m\n\u001b[0;32m    703\u001b[0m     \u001b[38;5;66;03m# try to load the prompt from the client without cache, since it may have been\u001b[39;00m\n\u001b[0;32m    704\u001b[0m     \u001b[38;5;66;03m# registered after the cache was created (uncommon scenario).\u001b[39;00m\n\u001b[1;32m--> 705\u001b[0m     prompt \u001b[38;5;241m=\u001b[39m \u001b[43m_load_prompt_cached\u001b[49m\u001b[43m(\u001b[49m\n\u001b[0;32m    706\u001b[0m \u001b[43m        \u001b[49m\u001b[43mname_or_uri\u001b[49m\u001b[38;5;241;43m=\u001b[39;49m\u001b[43mname_or_uri\u001b[49m\u001b[43m,\u001b[49m\n\u001b[0;32m    707\u001b[0m \u001b[43m        \u001b[49m\u001b[43mversion\u001b[49m\u001b[38;5;241;43m=\u001b[39;49m\u001b[43mversion\u001b[49m\u001b[43m,\u001b[49m\n\u001b[0;32m    708\u001b[0m \u001b[43m        \u001b[49m\u001b[43mallow_missing\u001b[49m\u001b[38;5;241;43m=\u001b[39;49m\u001b[43mallow_missing\u001b[49m\u001b[43m,\u001b[49m\n\u001b[0;32m    709\u001b[0m \u001b[43m    \u001b[49m\u001b[43m)\u001b[49m \u001b[38;5;129;01mor\u001b[39;00m _load_prompt_not_cached(\n\u001b[0;32m    710\u001b[0m         name_or_uri\u001b[38;5;241m=\u001b[39mname_or_uri,\n\u001b[0;32m    711\u001b[0m         version\u001b[38;5;241m=\u001b[39mversion,\n\u001b[0;32m    712\u001b[0m         allow_missing\u001b[38;5;241m=\u001b[39mallow_missing,\n\u001b[0;32m    713\u001b[0m     )\n\u001b[0;32m    714\u001b[0m \u001b[38;5;28;01mif\u001b[39;00m prompt \u001b[38;5;129;01mis\u001b[39;00m \u001b[38;5;28;01mNone\u001b[39;00m:\n\u001b[0;32m    715\u001b[0m     \u001b[38;5;28;01mreturn\u001b[39;00m\n",
            "File \u001b[1;32m~\\AppData\\Roaming\\Python\\Python310\\site-packages\\mlflow\\tracking\\_model_registry\\fluent.py:776\u001b[0m, in \u001b[0;36m_load_prompt_cached\u001b[1;34m(name_or_uri, version, allow_missing)\u001b[0m\n\u001b[0;32m    767\u001b[0m \u001b[38;5;129m@functools\u001b[39m\u001b[38;5;241m.\u001b[39mlru_cache(maxsize\u001b[38;5;241m=\u001b[39mMLFLOW_PROMPT_CACHE_MAX_SIZE\u001b[38;5;241m.\u001b[39mget())\n\u001b[0;32m    768\u001b[0m \u001b[38;5;28;01mdef\u001b[39;00m\u001b[38;5;250m \u001b[39m\u001b[38;5;21m_load_prompt_cached\u001b[39m(\n\u001b[0;32m    769\u001b[0m     name_or_uri: \u001b[38;5;28mstr\u001b[39m,\n\u001b[0;32m    770\u001b[0m     version: Optional[Union[\u001b[38;5;28mstr\u001b[39m, \u001b[38;5;28mint\u001b[39m]] \u001b[38;5;241m=\u001b[39m \u001b[38;5;28;01mNone\u001b[39;00m,\n\u001b[0;32m    771\u001b[0m     allow_missing: \u001b[38;5;28mbool\u001b[39m \u001b[38;5;241m=\u001b[39m \u001b[38;5;28;01mFalse\u001b[39;00m,\n\u001b[0;32m    772\u001b[0m ) \u001b[38;5;241m-\u001b[39m\u001b[38;5;241m>\u001b[39m Optional[PromptVersion]:\n\u001b[0;32m    773\u001b[0m \u001b[38;5;250m    \u001b[39m\u001b[38;5;124;03m\"\"\"\u001b[39;00m\n\u001b[0;32m    774\u001b[0m \u001b[38;5;124;03m    Internal cached function to load prompts from registry.\u001b[39;00m\n\u001b[0;32m    775\u001b[0m \u001b[38;5;124;03m    \"\"\"\u001b[39;00m\n\u001b[1;32m--> 776\u001b[0m     \u001b[38;5;28;01mreturn\u001b[39;00m \u001b[43m_load_prompt_not_cached\u001b[49m\u001b[43m(\u001b[49m\u001b[43mname_or_uri\u001b[49m\u001b[43m,\u001b[49m\u001b[43m \u001b[49m\u001b[43mversion\u001b[49m\u001b[43m,\u001b[49m\u001b[43m \u001b[49m\u001b[43mallow_missing\u001b[49m\u001b[43m)\u001b[49m\n",
            "File \u001b[1;32m~\\AppData\\Roaming\\Python\\Python310\\site-packages\\mlflow\\tracking\\_model_registry\\fluent.py:793\u001b[0m, in \u001b[0;36m_load_prompt_not_cached\u001b[1;34m(name_or_uri, version, allow_missing)\u001b[0m\n\u001b[0;32m    790\u001b[0m parsed_name_or_uri, parsed_version \u001b[38;5;241m=\u001b[39m parse_prompt_name_or_uri(name_or_uri, version)\n\u001b[0;32m    791\u001b[0m \u001b[38;5;28;01mif\u001b[39;00m parsed_name_or_uri\u001b[38;5;241m.\u001b[39mstartswith(\u001b[38;5;124m\"\u001b[39m\u001b[38;5;124mprompts:/\u001b[39m\u001b[38;5;124m\"\u001b[39m):\n\u001b[0;32m    792\u001b[0m     \u001b[38;5;66;03m# For URIs, don't pass version parameter\u001b[39;00m\n\u001b[1;32m--> 793\u001b[0m     \u001b[38;5;28;01mreturn\u001b[39;00m \u001b[43mclient\u001b[49m\u001b[38;5;241;43m.\u001b[39;49m\u001b[43mload_prompt\u001b[49m\u001b[43m(\u001b[49m\u001b[43mparsed_name_or_uri\u001b[49m\u001b[43m,\u001b[49m\u001b[43m \u001b[49m\u001b[43mallow_missing\u001b[49m\u001b[38;5;241;43m=\u001b[39;49m\u001b[43mallow_missing\u001b[49m\u001b[43m)\u001b[49m\n\u001b[0;32m    794\u001b[0m \u001b[38;5;28;01melse\u001b[39;00m:\n\u001b[0;32m    795\u001b[0m     \u001b[38;5;66;03m# For names, use the parsed version\u001b[39;00m\n\u001b[0;32m    796\u001b[0m     \u001b[38;5;28;01mreturn\u001b[39;00m client\u001b[38;5;241m.\u001b[39mload_prompt(\n\u001b[0;32m    797\u001b[0m         parsed_name_or_uri, version\u001b[38;5;241m=\u001b[39mparsed_version, allow_missing\u001b[38;5;241m=\u001b[39mallow_missing\n\u001b[0;32m    798\u001b[0m     )\n",
            "File \u001b[1;32m~\\AppData\\Roaming\\Python\\Python310\\site-packages\\mlflow\\prompt\\registry_utils.py:124\u001b[0m, in \u001b[0;36mrequire_prompt_registry.<locals>.wrapper\u001b[1;34m(*args, **kwargs)\u001b[0m\n\u001b[0;32m    118\u001b[0m \u001b[38;5;28;01mif\u001b[39;00m \u001b[38;5;129;01mnot\u001b[39;00m is_prompt_supported_registry(registry_uri):\n\u001b[0;32m    119\u001b[0m     \u001b[38;5;28;01mraise\u001b[39;00m MlflowException(\n\u001b[0;32m    120\u001b[0m         \u001b[38;5;124mf\u001b[39m\u001b[38;5;124m\"\u001b[39m\u001b[38;5;124mThe \u001b[39m\u001b[38;5;124m'\u001b[39m\u001b[38;5;132;01m{\u001b[39;00mfunc\u001b[38;5;241m.\u001b[39m\u001b[38;5;18m__name__\u001b[39m\u001b[38;5;132;01m}\u001b[39;00m\u001b[38;5;124m'\u001b[39m\u001b[38;5;124m API is not supported with the current registry. \u001b[39m\u001b[38;5;124m\"\u001b[39m\n\u001b[0;32m    121\u001b[0m         \u001b[38;5;124m\"\u001b[39m\u001b[38;5;124mPrompts are supported in OSS MLflow and Unity Catalog, but not in the \u001b[39m\u001b[38;5;124m\"\u001b[39m\n\u001b[0;32m    122\u001b[0m         \u001b[38;5;124m\"\u001b[39m\u001b[38;5;124mlegacy Databricks workspace registry.\u001b[39m\u001b[38;5;124m\"\u001b[39m,\n\u001b[0;32m    123\u001b[0m     )\n\u001b[1;32m--> 124\u001b[0m \u001b[38;5;28;01mreturn\u001b[39;00m func(\u001b[38;5;241m*\u001b[39margs, \u001b[38;5;241m*\u001b[39m\u001b[38;5;241m*\u001b[39mkwargs)\n",
            "File \u001b[1;32m~\\AppData\\Roaming\\Python\\Python310\\site-packages\\mlflow\\prompt\\registry_utils.py:157\u001b[0m, in \u001b[0;36mtranslate_prompt_exception.<locals>.wrapper\u001b[1;34m(*args, **kwargs)\u001b[0m\n\u001b[0;32m    152\u001b[0m new_message \u001b[38;5;241m=\u001b[39m MODEL_PATTERN\u001b[38;5;241m.\u001b[39msub(\n\u001b[0;32m    153\u001b[0m     \u001b[38;5;28;01mlambda\u001b[39;00m m: \u001b[38;5;124m\"\u001b[39m\u001b[38;5;124mPrompt\u001b[39m\u001b[38;5;124m\"\u001b[39m \u001b[38;5;28;01mif\u001b[39;00m m\u001b[38;5;241m.\u001b[39mgroup(\u001b[38;5;241m0\u001b[39m)[\u001b[38;5;241m0\u001b[39m]\u001b[38;5;241m.\u001b[39misupper() \u001b[38;5;28;01melse\u001b[39;00m \u001b[38;5;124m\"\u001b[39m\u001b[38;5;124mprompt\u001b[39m\u001b[38;5;124m\"\u001b[39m, e\u001b[38;5;241m.\u001b[39mmessage\n\u001b[0;32m    154\u001b[0m )\n\u001b[0;32m    156\u001b[0m \u001b[38;5;28;01mif\u001b[39;00m new_message \u001b[38;5;241m!=\u001b[39m original_message:\n\u001b[1;32m--> 157\u001b[0m     \u001b[38;5;28;01mraise\u001b[39;00m MlflowException(new_message) \u001b[38;5;28;01mfrom\u001b[39;00m\u001b[38;5;250m \u001b[39m\u001b[38;5;21;01me\u001b[39;00m\n\u001b[0;32m    158\u001b[0m \u001b[38;5;28;01melse\u001b[39;00m:\n\u001b[0;32m    159\u001b[0m     \u001b[38;5;28;01mraise\u001b[39;00m e\n",
            "\u001b[1;31mMlflowException\u001b[0m: Prompt with name=anshupandey-summarization-prompt not found"
          ]
        }
      ],
      "source": [
        "import mlflow\n",
        "import openai\n",
        "\n",
        "target_text = \"\"\"\n",
        "MLflow is an open source platform for managing the end-to-end machine learning lifecycle.\n",
        "It tackles four primary functions in the ML lifecycle: Tracking experiments, packaging ML\n",
        "code for reuse, managing and deploying models, and providing a central model registry.\n",
        "MLflow currently offers these functions as four components: MLflow Tracking,\n",
        "MLflow Projects, MLflow Models, and MLflow Registry.\n",
        "\"\"\"\n",
        "\n",
        "# Load the prompt\n",
        "prompt = mlflow.genai.load_prompt(\"prompts:/anshupandey-summarization-prompt/2\") # prompts:/<prompt-name>/<prompt-version>\n",
        "\n",
        "# Use the prompt with an LLM\n",
        "client = openai.OpenAI()\n",
        "response = generate_response(prompt.format(num_sentences=1, sentences=target_text))\n",
        "\n",
        "print(response)"
      ]
    },
    {
      "cell_type": "code",
      "execution_count": 10,
      "id": "wfeyzS4Klb5Z",
      "metadata": {
        "colab": {
          "base_uri": "https://localhost:8080/",
          "height": 71
        },
        "id": "wfeyzS4Klb5Z",
        "outputId": "572c197b-ada9-4897-9ba4-97f88dae4cd7"
      },
      "outputs": [
        {
          "data": {
            "application/vnd.google.colaboratory.intrinsic+json": {
              "type": "string"
            },
            "text/plain": [
              "'You are an expert summarizer. Condense the following content into exactly {{ num_sentences }} clear and informative sentences that capture the key points.\\n\\nSentences: {{ sentences }}\\n\\nYour summary should:\\n- Contain exactly {{ num_sentences }} sentences\\n- Include only the most important information\\n- Be written in a neutral, objective tone\\n- Maintain the same level of formality as the original text\\n'"
            ]
          },
          "execution_count": 10,
          "metadata": {},
          "output_type": "execute_result"
        }
      ],
      "source": [
        "prompt.template"
      ]
    },
    {
      "cell_type": "markdown",
      "id": "5bfcd031",
      "metadata": {
        "id": "5bfcd031"
      },
      "source": [
        "### 5. Search for prompts"
      ]
    },
    {
      "cell_type": "code",
      "execution_count": 11,
      "id": "oS6DjCq5VcUj",
      "metadata": {
        "colab": {
          "base_uri": "https://localhost:8080/"
        },
        "id": "oS6DjCq5VcUj",
        "outputId": "99e24ff5-b50f-4b2d-bb08-253deb6928c9"
      },
      "outputs": [
        {
          "name": "stdout",
          "output_type": "stream",
          "text": [
            "Found 7 prompts\n"
          ]
        }
      ],
      "source": [
        "# Fluent API: returns a flat list of all matching prompts\n",
        "prompts = mlflow.genai.search_prompts(filter_string=\"name LIKE '%summarization%'\")\n",
        "print(f\"Found {len(prompts)} prompts\")\n"
      ]
    },
    {
      "cell_type": "code",
      "execution_count": 12,
      "id": "08f78f29",
      "metadata": {
        "colab": {
          "base_uri": "https://localhost:8080/"
        },
        "id": "08f78f29",
        "outputId": "dee8a20b-144f-4174-e666-17ab2a84e60b"
      },
      "outputs": [
        {
          "name": "stdout",
          "output_type": "stream",
          "text": [
            "Total prompts across pages: 7\n"
          ]
        }
      ],
      "source": [
        "# For pagination control, use the client API:\n",
        "from mlflow.tracking import MlflowClient\n",
        "\n",
        "client = MlflowClient()\n",
        "all_prompts = []\n",
        "token = None\n",
        "while True:\n",
        "    page = client.search_prompts(\n",
        "        filter_string=\"name LIKE '%summarization%'\",\n",
        "        max_results=50,\n",
        "        page_token=token,\n",
        "    )\n",
        "    all_prompts.extend(page)\n",
        "    token = page.token\n",
        "    if not token:\n",
        "        break\n",
        "print(f\"Total prompts across pages: {len(all_prompts)}\")"
      ]
    },
    {
      "cell_type": "markdown",
      "id": "a550afc1",
      "metadata": {
        "id": "a550afc1"
      },
      "source": [
        "### 6. Prompt Management with Alias"
      ]
    },
    {
      "cell_type": "code",
      "execution_count": 16,
      "id": "9ce26bee",
      "metadata": {
        "colab": {
          "base_uri": "https://localhost:8080/"
        },
        "id": "9ce26bee",
        "outputId": "e3efa0de-5aba-4915-c913-bd340d7c383d"
      },
      "outputs": [
        {
          "name": "stderr",
          "output_type": "stream",
          "text": [
            "/tmp/ipython-input-1287325268.py:2: FutureWarning: The `mlflow.set_prompt_alias` API is moved to the `mlflow.genai` namespace. Please use `mlflow.genai.set_prompt_alias` instead. The original API will be removed in the future release.\n",
            "  mlflow.set_prompt_alias(\"anshupandey-summarization-prompt\", alias=\"production\", version=2)\n"
          ]
        }
      ],
      "source": [
        "# Set a production alias for a specific version\n",
        "mlflow.set_prompt_alias(\"anshupandey-summarization-prompt\", alias=\"production\", version=2)"
      ]
    },
    {
      "cell_type": "code",
      "execution_count": 17,
      "id": "75dd7e39",
      "metadata": {
        "colab": {
          "base_uri": "https://localhost:8080/"
        },
        "id": "75dd7e39",
        "outputId": "e5f98ea9-f6c2-4425-8d98-67418b6cc637"
      },
      "outputs": [
        {
          "data": {
            "text/plain": [
              "PromptVersion(name=anshu-summarization-prompt, version=2, template=You are an expert summarizer. ...)"
            ]
          },
          "execution_count": 17,
          "metadata": {},
          "output_type": "execute_result"
        }
      ],
      "source": [
        "import mlflow\n",
        "\n",
        "prompt_name = \"anshu-summarization-prompt\"\n",
        "\n",
        "# Load by specific version (assuming version 1 exists)\n",
        "mlflow.genai.load_prompt(name_or_uri=f\"prompts:/{prompt_name}/1\")\n",
        "\n",
        "# Load by alias (assuming an alias 'staging' points to a version of a prompt)\n",
        "mlflow.genai.load_prompt(name_or_uri=f\"prompts:/{prompt_name}@production\")"
      ]
    },
    {
      "cell_type": "code",
      "execution_count": 18,
      "id": "7e3f597b",
      "metadata": {
        "colab": {
          "base_uri": "https://localhost:8080/"
        },
        "id": "7e3f597b",
        "outputId": "6ca502b3-f6d9-4725-b800-71ffabb74264"
      },
      "outputs": [
        {
          "name": "stderr",
          "output_type": "stream",
          "text": [
            "/tmp/ipython-input-3884887195.py:1: FutureWarning: The `mlflow.load_prompt` API is moved to the `mlflow.genai` namespace. Please use `mlflow.genai.load_prompt` instead. The original API will be removed in the future release.\n",
            "  prompt = mlflow.load_prompt(\"prompts:/anshupandey-summarization-prompt@production\")\n"
          ]
        },
        {
          "data": {
            "text/plain": [
              "PromptVersion(name=anshupandey-summarization-prompt, version=2, template=You are an expert summarizer. ...)"
            ]
          },
          "execution_count": 18,
          "metadata": {},
          "output_type": "execute_result"
        }
      ],
      "source": [
        "prompt = mlflow.load_prompt(\"prompts:/anshupandey-summarization-prompt@production\")\n",
        "prompt"
      ]
    },
    {
      "cell_type": "markdown",
      "id": "14752153",
      "metadata": {
        "id": "14752153"
      },
      "source": [
        "### 7. Delete a prompt"
      ]
    },
    {
      "cell_type": "code",
      "execution_count": 19,
      "id": "2fb5ae39",
      "metadata": {
        "id": "2fb5ae39"
      },
      "outputs": [],
      "source": [
        "import mlflow\n",
        "\n",
        "# Delete a prompt version\n",
        "mlflow.genai.delete_prompt_alias(\"anshu-summarization-prompt\", alias='production')"
      ]
    },
    {
      "cell_type": "code",
      "execution_count": null,
      "id": "mAiCg1XFY2uG",
      "metadata": {
        "id": "mAiCg1XFY2uG"
      },
      "outputs": [],
      "source": []
    },
    {
      "cell_type": "markdown",
      "id": "-8RBaBg2oAO7",
      "metadata": {
        "id": "-8RBaBg2oAO7"
      },
      "source": [
        "## Observability"
      ]
    },
    {
      "cell_type": "code",
      "execution_count": 21,
      "id": "bxRPjPYpoFp0",
      "metadata": {
        "colab": {
          "base_uri": "https://localhost:8080/"
        },
        "id": "bxRPjPYpoFp0",
        "outputId": "a74111df-055e-472b-b644-b741ce917ae5"
      },
      "outputs": [
        {
          "name": "stderr",
          "output_type": "stream",
          "text": [
            "2025/08/21 12:35:43 INFO mlflow.tracking.fluent: Experiment with name 'CreditCard_risk_summarization_app' does not exist. Creating a new experiment.\n"
          ]
        },
        {
          "data": {
            "text/plain": [
              "<Experiment: artifact_location='mlflow-artifacts:/604764298405571874', creation_time=1755779743358, experiment_id='604764298405571874', last_update_time=1755779743358, lifecycle_stage='active', name='CreditCard_risk_summarization_app', tags={}>"
            ]
          },
          "execution_count": 21,
          "metadata": {},
          "output_type": "execute_result"
        }
      ],
      "source": [
        "mlflow.set_experiment(\"CreditCard_risk_summarization_app\")"
      ]
    },
    {
      "cell_type": "code",
      "execution_count": null,
      "id": "lh_G33ODZNkA",
      "metadata": {
        "id": "lh_G33ODZNkA"
      },
      "outputs": [],
      "source": []
    },
    {
      "cell_type": "code",
      "execution_count": null,
      "id": "fdI12hBOoETb",
      "metadata": {
        "colab": {
          "base_uri": "https://localhost:8080/",
          "height": 608
        },
        "id": "fdI12hBOoETb",
        "outputId": "69717ad1-da44-474f-f512-60e6b988023c"
      },
      "outputs": [
        {
          "name": "stdout",
          "output_type": "stream",
          "text": [
            "MLflow is an open-source platform that manages the end-to-end machine learning lifecycle through four main components: MLflow Tracking, MLflow Projects, MLflow Models, and MLflow Registry, addressing experiment tracking, code packaging, model management and deployment, and centralized model registration.\n"
          ]
        },
        {
          "data": {
            "text/html": [
              "\n",
              "<div>\n",
              "  <style scoped>\n",
              "  button {\n",
              "    border: none;\n",
              "    border-radius: 4px;\n",
              "    background-color: rgb(34, 114, 180);\n",
              "    font-family: -apple-system, \"system-ui\", \"Segoe UI\", Roboto, \"Helvetica Neue\", Arial;\n",
              "    font-size: 13px;\n",
              "    color: white;\n",
              "    margin-top: 8px;\n",
              "    margin-bottom: 8px;\n",
              "    padding: 8px 16px;\n",
              "    cursor: pointer;\n",
              "  }\n",
              "  button:hover {\n",
              "    background-color: rgb(66, 153, 224);\n",
              "  }\n",
              "  </style>\n",
              "  <button\n",
              "    onclick=\"\n",
              "        const display = this.nextElementSibling.style.display;\n",
              "        const isCollapsed = display === 'none';\n",
              "        this.nextElementSibling.style.display = isCollapsed ? null : 'none';\n",
              "\n",
              "        const verb = isCollapsed ? 'Collapse' : 'Expand';\n",
              "        this.innerText = `${verb} MLflow Trace`;\n",
              "    \"\n",
              "  >Collapse MLflow Trace</button>\n",
              "  <iframe\n",
              "    id=\"trace-renderer\"\n",
              "    style=\"width: 100%; height: 500px; border: none; resize: vertical;\"\n",
              "    src=\"http://51.12.220.137:5000/static-files/lib/notebook-trace-renderer/index.html?trace_id=tr-215c3b9127ddb110da527722cee5f841&amp;experiment_id=604764298405571874&amp;version=3.3.1\"\n",
              "  />\n",
              "</div>\n"
            ],
            "text/plain": [
              "Trace(trace_id=tr-215c3b9127ddb110da527722cee5f841)"
            ]
          },
          "metadata": {},
          "output_type": "display_data"
        }
      ],
      "source": [
        "target_text = \"\"\"\n",
        "MLflow is an open source platform for managing the end-to-end machine learning lifecycle.\n",
        "It tackles four primary functions in the ML lifecycle: Tracking experiments, packaging ML\n",
        "code for reuse, managing and deploying models, and providing a central model registry.\n",
        "MLflow currently offers these functions as four components: MLflow Tracking,\n",
        "MLflow Projects, MLflow Models, and MLflow Registry.\n",
        "\"\"\"\n",
        "\n",
        "# Load the prompt\n",
        "prompt = mlflow.genai.load_prompt(\"prompts:/anshupandey-summarization-prompt/2\") # prompts:/<prompt-name>/<prompt-version>\n",
        "\n",
        "# Use the prompt with an LLM\n"
      ]
    },
    {
      "cell_type": "code",
      "execution_count": null,
      "id": "BXs1AcWdobSI",
      "metadata": {
        "id": "BXs1AcWdobSI"
      },
      "outputs": [],
      "source": []
    }
  ],
  "metadata": {
    "colab": {
      "include_colab_link": true,
      "provenance": []
    },
    "kernelspec": {
      "display_name": "base",
      "language": "python",
      "name": "python3"
    },
    "language_info": {
      "codemirror_mode": {
        "name": "ipython",
        "version": 3
      },
      "file_extension": ".py",
      "mimetype": "text/x-python",
      "name": "python",
      "nbconvert_exporter": "python",
      "pygments_lexer": "ipython3",
      "version": "3.10.9"
    }
  },
  "nbformat": 4,
  "nbformat_minor": 5
}
