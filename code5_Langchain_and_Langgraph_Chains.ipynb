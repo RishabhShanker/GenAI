{
 "cells": [
  {
   "cell_type": "markdown",
   "id": "1efb5833",
   "metadata": {},
   "source": [
    "# LangChain and LangGraph"
   ]
  },
  {
   "cell_type": "code",
   "execution_count": 5,
   "id": "28e23646",
   "metadata": {},
   "outputs": [],
   "source": [
    "!python -m pip install langchain langchain-core langchain-community langchain-experimental --quiet\n",
    "!python -m pip install -U langchain-google-genai --quiet"
   ]
  },
  {
   "cell_type": "code",
   "execution_count": 6,
   "id": "d631cf22",
   "metadata": {},
   "outputs": [],
   "source": [
    "model_name='gemini-2.0-flash'"
   ]
  },
  {
   "cell_type": "markdown",
   "id": "b8353600",
   "metadata": {},
   "source": [
    "### Chatmodels, Prompt Templates and Parsers"
   ]
  },
  {
   "cell_type": "code",
   "execution_count": 7,
   "id": "2bbe9485",
   "metadata": {},
   "outputs": [
    {
     "name": "stdout",
     "output_type": "stream",
     "text": [
      "A city of gardens, a silicon dream,\n",
      "Bangalore awakens, a vibrant gleam.\n",
      "From ancient temples to futuristic towers,\n",
      "A tapestry woven through passing hours.\n",
      "\n",
      "The scent of jasmine hangs sweet in the air,\n",
      "A fragrant welcome beyond compare.\n",
      "Auto rickshaws weave a chaotic dance,\n",
      "A symphony of horns, a fleeting glance.\n",
      "\n",
      "Lal Bagh's roses, a riot of hue,\n",
      "Cubbon Park's shade, a restful view.\n",
      "Vidhana Soudha, in granite's grand grace,\n",
      "Reflects the power of this bustling place.\n",
      "\n",
      "Coffee shops buzz with animated talk,\n",
      "Of startups, ideas, a relentless walk.\n",
      "Innovation thrives, a digital fire,\n",
      "Fueling ambition, reaching ever higher.\n",
      "\n",
      "From MG Road's bustle to Koramangala's flair,\n",
      "A cosmopolitan spirit beyond compare.\n",
      "A melting pot of cultures, diverse and bold,\n",
      "Stories whispered, new and stories told.\n",
      "\n",
      "But shadows linger, a growing pain,\n",
      "Of traffic choked streets, a relentless rain\n",
      "Of concrete jungles, encroaching fast,\n",
      "Threatening the beauty that forever should last.\n",
      "\n",
      "Yet Bangalore endures, with spirit strong,\n",
      "A city evolving, where dreams belong.\n",
      "A blend of tradition and modern might,\n",
      "A beacon of hope, shining ever so bright.\n"
     ]
    }
   ],
   "source": [
    "from langchain.chat_models import init_chat_model\n",
    "model = init_chat_model(model_name, model_provider=\"google_genai\")\n",
    "\n",
    "# use it as an LLM -> pass a prompt\n",
    "prompt = \"Write a poem about the city Bangalore\"\n",
    "response = model.invoke(prompt)\n",
    "print(response.content)"
   ]
  },
  {
   "cell_type": "code",
   "execution_count": 8,
   "id": "074e60b2",
   "metadata": {},
   "outputs": [
    {
     "data": {
      "text/plain": [
       "AIMessage(content='I am doing well, thank you for asking! How are you today?', additional_kwargs={}, response_metadata={'prompt_feedback': {'block_reason': 0, 'safety_ratings': []}, 'finish_reason': 'STOP', 'model_name': 'gemini-2.0-flash', 'safety_ratings': []}, id='run--cbcd5f6f-054b-4d03-82d1-c0d8f49ea2c5-0', usage_metadata={'input_tokens': 5, 'output_tokens': 16, 'total_tokens': 21, 'input_token_details': {'cache_read': 0}})"
      ]
     },
     "execution_count": 8,
     "metadata": {},
     "output_type": "execute_result"
    }
   ],
   "source": [
    "# use it as a chatmodel - pass a chatprompt\n",
    "\n",
    "from langchain_core.messages import HumanMessage\n",
    "\n",
    "message = [HumanMessage(content=\"Hi How are you?\")]\n",
    "model.invoke(message)\n"
   ]
  },
  {
   "cell_type": "code",
   "execution_count": 9,
   "id": "f643397b",
   "metadata": {},
   "outputs": [
    {
     "data": {
      "text/plain": [
       "ChatPromptTemplate(input_variables=['language', 'text'], input_types={}, partial_variables={}, messages=[SystemMessagePromptTemplate(prompt=PromptTemplate(input_variables=['language'], input_types={}, partial_variables={}, template='Translate the following into the language {language}'), additional_kwargs={}), HumanMessagePromptTemplate(prompt=PromptTemplate(input_variables=['text'], input_types={}, partial_variables={}, template='{text}'), additional_kwargs={})])"
      ]
     },
     "execution_count": 9,
     "metadata": {},
     "output_type": "execute_result"
    }
   ],
   "source": [
    "# chat prompt template\n",
    "from langchain_core.prompts import ChatPromptTemplate\n",
    "\n",
    "system_prompt = \"Translate the following into the language {language}\"\n",
    "prompt_temp = ChatPromptTemplate([(\"system\",system_prompt),(\"user\",\"{text}\")])\n",
    "prompt_temp"
   ]
  },
  {
   "cell_type": "code",
   "execution_count": 10,
   "id": "eaab1acf",
   "metadata": {},
   "outputs": [
    {
     "data": {
      "text/plain": [
       "['language', 'text']"
      ]
     },
     "execution_count": 10,
     "metadata": {},
     "output_type": "execute_result"
    }
   ],
   "source": [
    "prompt_temp.input_variables"
   ]
  },
  {
   "cell_type": "code",
   "execution_count": 11,
   "id": "c0c4fec2",
   "metadata": {},
   "outputs": [
    {
     "data": {
      "text/plain": [
       "ChatPromptValue(messages=[SystemMessage(content='Translate the following into the language French', additional_kwargs={}, response_metadata={}), HumanMessage(content='Hi How are you?', additional_kwargs={}, response_metadata={})])"
      ]
     },
     "execution_count": 11,
     "metadata": {},
     "output_type": "execute_result"
    }
   ],
   "source": [
    "myprompt = prompt_temp.invoke({\"language\":\"French\",\"text\":\"Hi How are you?\"})\n",
    "myprompt"
   ]
  },
  {
   "cell_type": "code",
   "execution_count": 12,
   "id": "767762f1",
   "metadata": {},
   "outputs": [
    {
     "data": {
      "text/plain": [
       "AIMessage(content='Bonjour, comment allez-vous ?', additional_kwargs={}, response_metadata={'prompt_feedback': {'block_reason': 0, 'safety_ratings': []}, 'finish_reason': 'STOP', 'model_name': 'gemini-2.0-flash', 'safety_ratings': []}, id='run--7a694255-7616-4e21-968e-2ecd9c996364-0', usage_metadata={'input_tokens': 12, 'output_tokens': 8, 'total_tokens': 20, 'input_token_details': {'cache_read': 0}})"
      ]
     },
     "execution_count": 12,
     "metadata": {},
     "output_type": "execute_result"
    }
   ],
   "source": [
    "op = model.invoke(myprompt)\n",
    "op"
   ]
  },
  {
   "cell_type": "code",
   "execution_count": 13,
   "id": "02f5b8cc",
   "metadata": {},
   "outputs": [
    {
     "data": {
      "text/plain": [
       "'Bonjour, comment allez-vous ?'"
      ]
     },
     "execution_count": 13,
     "metadata": {},
     "output_type": "execute_result"
    }
   ],
   "source": [
    "from langchain_core.output_parsers import StrOutputParser\n",
    "parser = StrOutputParser()\n",
    "parser.invoke(op)"
   ]
  },
  {
   "cell_type": "code",
   "execution_count": null,
   "id": "ba32228e",
   "metadata": {},
   "outputs": [],
   "source": []
  },
  {
   "cell_type": "code",
   "execution_count": null,
   "id": "a54273f9",
   "metadata": {},
   "outputs": [],
   "source": []
  },
  {
   "cell_type": "markdown",
   "id": "a161c965",
   "metadata": {},
   "source": [
    "## Automation using Chains: Automations / Automation Flows / Chains / Chain Workflows\n",
    "- static workflows involving LLMs inbetween the steps, \n",
    "- the flow of data, steps are deterministic, decided by the developer/SME"
   ]
  },
  {
   "cell_type": "markdown",
   "id": "cebb6470",
   "metadata": {},
   "source": [
    "**Example**\n",
    "\n",
    "Language Translation Chain: input -----> [Prompt Templates >> LLM >> Parser ]----> Output"
   ]
  },
  {
   "cell_type": "code",
   "execution_count": 14,
   "id": "3967713c",
   "metadata": {},
   "outputs": [],
   "source": [
    "# chat prompt template\n",
    "from langchain_core.prompts import ChatPromptTemplate\n",
    "system_prompt = \"Translate the following into the language {language}\"\n",
    "prompt_temp = ChatPromptTemplate([(\"system\",system_prompt),(\"user\",\"{text}\")])\n",
    "\n",
    "\n",
    "from langchain.chat_models import init_chat_model\n",
    "model = init_chat_model(model_name, model_provider=\"google_genai\")\n",
    "\n",
    "\n",
    "from langchain_core.output_parsers import StrOutputParser\n",
    "parser = StrOutputParser()"
   ]
  },
  {
   "cell_type": "code",
   "execution_count": 15,
   "id": "a5462094",
   "metadata": {},
   "outputs": [
    {
     "data": {
      "text/plain": [
       "'మీ పేరేమిటి? (Mee peremiti?)'"
      ]
     },
     "execution_count": 15,
     "metadata": {},
     "output_type": "execute_result"
    }
   ],
   "source": [
    "# implement a chain using langchain\n",
    "chain1 = prompt_temp | model | parser\n",
    "\n",
    "chain1.invoke({\"language\":\"telugu\",\"text\":\"WHAT IS YOUR NAME?\"})"
   ]
  },
  {
   "cell_type": "code",
   "execution_count": 16,
   "id": "ad4f9d6e",
   "metadata": {},
   "outputs": [],
   "source": [
    "def format_output(text):\n",
    "    return {\"Translation\":text}"
   ]
  },
  {
   "cell_type": "code",
   "execution_count": 17,
   "id": "2beabbf7",
   "metadata": {},
   "outputs": [
    {
     "data": {
      "text/plain": [
       "{'Translation': 'నీ పేరేమిటి? (Nee peremiti?)'}"
      ]
     },
     "execution_count": 17,
     "metadata": {},
     "output_type": "execute_result"
    }
   ],
   "source": [
    "# implement a chain using langchain\n",
    "chain1 = prompt_temp | model | parser | format_output\n",
    "\n",
    "chain1.invoke({\"language\":\"telugu\",\"text\":\"WHAT IS YOUR NAME?\"})"
   ]
  },
  {
   "cell_type": "markdown",
   "id": "c70245b6",
   "metadata": {},
   "source": [
    "#### Code Chain"
   ]
  },
  {
   "cell_type": "code",
   "execution_count": 18,
   "id": "d0b5c7b3",
   "metadata": {},
   "outputs": [
    {
     "name": "stdout",
     "output_type": "stream",
     "text": [
      "```python\n",
      "def fibonacci(n):\n",
      "  \"\"\"\n",
      "  Generates the Fibonacci sequence up to n terms.\n",
      "\n",
      "  Args:\n",
      "    n: The number of terms to generate.\n",
      "\n",
      "  Returns:\n",
      "    A list containing the Fibonacci sequence up to n terms.\n",
      "  \"\"\"\n",
      "  if n <= 0:\n",
      "    return []\n",
      "  elif n == 1:\n",
      "    return [0]\n",
      "  else:\n",
      "    list_fib = [0, 1]\n",
      "    while len(list_fib) < n:\n",
      "      next_fib = list_fib[-1] + list_fib[-2]\n",
      "      list_fib.append(next_fib)\n",
      "    return list_fib\n",
      "```\n"
     ]
    }
   ],
   "source": [
    "# Code generation chain\n",
    "generate_prompt = ChatPromptTemplate([(\"system\",\"Write a simple code for the task, only provide code no other additional text\"),\n",
    "                                      (\"user\",\"{task}\")])\n",
    "\n",
    "generation_chain = generate_prompt | model | parser\n",
    "\n",
    "op = generation_chain.invoke(\"fibonacci series\")\n",
    "print(op)"
   ]
  },
  {
   "cell_type": "code",
   "execution_count": 19,
   "id": "6094b329",
   "metadata": {},
   "outputs": [
    {
     "name": "stdout",
     "output_type": "stream",
     "text": [
      "```python\n",
      "def fibonacci(n):\n",
      "  \"\"\"\n",
      "  Generates the Fibonacci sequence up to n terms.\n",
      "\n",
      "  Args:\n",
      "    n: The number of terms to generate.\n",
      "\n",
      "  Returns:\n",
      "    A list containing the Fibonacci sequence up to n terms.\n",
      "  \"\"\"\n",
      "  # Handle edge cases for n <= 0 and n == 1\n",
      "  if n <= 0:\n",
      "    return []  # Return an empty list if n is non-positive\n",
      "  elif n == 1:\n",
      "    return [0]  # Return a list with only 0 if n is 1\n",
      "  else:\n",
      "    # Initialize the list with the first two Fibonacci numbers\n",
      "    list_fib = [0, 1]\n",
      "    # Generate the remaining Fibonacci numbers\n",
      "    while len(list_fib) < n:\n",
      "      # Calculate the next Fibonacci number by summing the last two\n",
      "      next_fib = list_fib[-1] + list_fib[-2]\n",
      "      # Append the next Fibonacci number to the list\n",
      "      list_fib.append(next_fib)\n",
      "    # Return the complete Fibonacci sequence\n",
      "    return list_fib\n",
      "```\n"
     ]
    }
   ],
   "source": [
    "analyze_prompt = ChatPromptTemplate([(\"system\",\"Analyze the provided code, add docstrings and comments. only provide code no other additional text\"),\n",
    "                                      (\"user\",\"{code}\")])\n",
    "\n",
    "analyze_chain = analyze_prompt | model | parser\n",
    "print(analyze_chain.invoke({\"code\":op}))"
   ]
  },
  {
   "cell_type": "code",
   "execution_count": 20,
   "id": "23cfa731",
   "metadata": {},
   "outputs": [
    {
     "name": "stdout",
     "output_type": "stream",
     "text": [
      "```python\n",
      "def fibonacci(n):\n",
      "    \"\"\"\n",
      "    Generates the Fibonacci sequence up to n terms.\n",
      "\n",
      "    Args:\n",
      "        n: The number of terms to generate.\n",
      "\n",
      "    Returns:\n",
      "        A list containing the Fibonacci sequence up to n terms.\n",
      "    \"\"\"\n",
      "    if n <= 0:\n",
      "        return []  # Return an empty list if n is zero or negative\n",
      "    elif n == 1:\n",
      "        return [0]  # Return a list with only 0 if n is 1\n",
      "    else:\n",
      "        list_fib = [0, 1]  # Initialize the list with the first two Fibonacci numbers\n",
      "        while len(list_fib) < n:\n",
      "            next_fib = list_fib[-1] + list_fib[-2]  # Calculate the next Fibonacci number\n",
      "            list_fib.append(next_fib)  # Add the next Fibonacci number to the list\n",
      "        return list_fib  # Return the generated Fibonacci sequence\n",
      "\n",
      "if __name__ == '__main__':\n",
      "    num_terms = 10  # Change this to the desired number of terms\n",
      "    fib_sequence = fibonacci(num_terms)  # Generate the Fibonacci sequence\n",
      "    print(fib_sequence)  # Print the generated sequence\n",
      "```\n"
     ]
    }
   ],
   "source": [
    "def patch_inputs (code):\n",
    "    return {\"code\":code}\n",
    "\n",
    "final_chain = generation_chain | patch_inputs | analyze_chain\n",
    "op = final_chain.invoke({\"task\":\"fibonacci series\"})\n",
    "print(op)"
   ]
  },
  {
   "cell_type": "code",
   "execution_count": null,
   "id": "83c0acff",
   "metadata": {},
   "outputs": [
    {
     "name": "stdout",
     "output_type": "stream",
     "text": [
      "```python\n",
      "def fibonacci(n):\n",
      "  \"\"\"\n",
      "  Generates the Fibonacci sequence up to n terms.\n",
      "\n",
      "  Args:\n",
      "    n: The number of terms to generate.\n",
      "\n",
      "  Returns:\n",
      "    A list containing the Fibonacci sequence up to n terms.\n",
      "  \"\"\"\n",
      "  if n <= 0:\n",
      "    return []  # Return an empty list if n is non-positive\n",
      "  elif n == 1:\n",
      "    return [0]  # Return a list with only 0 if n is 1\n",
      "  else:\n",
      "    list_fib = [0, 1]  # Initialize the list with the first two Fibonacci numbers\n",
      "    while len(list_fib) < n:\n",
      "      next_fib = list_fib[-1] + list_fib[-2]  # Calculate the next Fibonacci number\n",
      "      list_fib.append(next_fib)  # Add the next Fibonacci number to the list\n",
      "    return list_fib  # Return the list containing the Fibonacci sequence\n",
      "```\n"
     ]
    }
   ],
   "source": [
    "final_chain = generate_prompt | model | parser | patch_inputs | analyze_prompt | model | parser\n",
    "op = final_chain.invoke({\"task\":\"fibonacci series\"})\n",
    "print(op)"
   ]
  },
  {
   "cell_type": "markdown",
   "id": "4c9c345a",
   "metadata": {},
   "source": [
    "### Tools with Langchain"
   ]
  },
  {
   "cell_type": "code",
   "execution_count": 22,
   "id": "30f32122",
   "metadata": {},
   "outputs": [
    {
     "data": {
      "text/plain": [
       "'Page: Artificial intelligence\\nSummary: Artificial intelligence (AI) is the capability of computational systems to perform tasks typically associated with human intelligence, such as learning, reasoning, problem-solving, perception, and decision-making. It is a field of research in computer science that develops and studies methods and software that enable machines to perceive their environment and use learning and intelligence to take actions that maximize their chances of achieving defined goals.\\nHigh-profile applications of AI include advanced web search engines (e.g., Google Search); recommendation systems (used by YouTube, Amazon, and Netflix); virtual assistants (e.g., Google Assistant, Siri, and Alexa); autonomous vehicles (e.g., Waymo); generative and creative tools (e.g., language models and AI art); and superhuman play and analysis in strategy games (e.g., chess and Go). However, many AI applications are not perceived as AI: \"A lot of cutting edge AI has filtered into general applications, often without being called AI because once something becomes useful enough and common enough it\\'s not labeled AI anymore.\"\\nVarious subfields of AI research are centered around particular goals and the use of particular tools. The traditional goals of AI research include learning, reasoning, knowledge representation, planning, natural language processing, perception, and support for robotics. To reach these goals, AI researchers have adapted and integrated a wide range of techniques, including search and mathematical optimization, formal logic, artificial neural networks, and methods based on statistics, operations research, and economics. AI also draws upon psychology, linguistics, philosophy, neuroscience, and other fields. Some companies, such as OpenAI, Google DeepMind and Meta, aim to create artificial general intelligence (AGI)—AI that can complete virtually any cognitive task at least as well as a human.\\nArtificial intelligence was founded as an academic discipline in 1956, and the field went through multiple cycles of optimism throughout its history, followed by periods of disappointment and loss of funding, known as AI winters. Funding and interest vastly increased after 2012 when graphics processing units started being used to accelerate neural networks and deep learning outperformed previous AI techniques. This growth accelerated further after 2017 with the transformer architecture. In the 2020s, an ongoing period of rapid progress in advanced generative AI became known as the AI boom. Generative AI\\'s ability to create and modify content has led to several unintended consequences and harms, which has raised ethical concerns about AI\\'s long-term effects and potential existential risks, prompting discussions about regulatory policies to ensure the safety and benefits of the technology.\\n\\nPage: Artificial general intelligence\\nSummary: Artificial general intelligence (AGI)—sometimes called human‑level intelligence AI—is a type of artificial intelligence that would match or surpass human capabilities across virtually all cognitive tasks.\\nSome researchers argue that state‑of‑the‑art large language models (LLMs) already exhibit signs of AGI‑level capability, while others maintain that genuine AGI has not yet been achieved. Beyond AGI, artificial superintelligence (ASI) would outperform the best human abilities across every domain by a wide margin.\\nUnlike artificial narrow intelligence (ANI), whose competence is confined to well‑defined tasks, an AGI system can generalise knowledge, transfer skills between domains, and solve novel problems without task‑specific reprogramming. The concept does not, in principle, require the system to be an autonomous agent; a static model—such as a highly capable large language model—or an embodied robot could both satisfy the definition so long as human‑level breadth and proficiency are achieved.\\nCreating AGI is a primary goal of AI research and of companies such as OpenAI, Google, and Meta. A 2020'"
      ]
     },
     "execution_count": 22,
     "metadata": {},
     "output_type": "execute_result"
    }
   ],
   "source": [
    "from langchain_community.tools import WikipediaQueryRun\n",
    "from langchain_community.utilities import WikipediaAPIWrapper\n",
    "\n",
    "wiki = WikipediaQueryRun(api_wrapper=WikipediaAPIWrapper(top_k_results=2))\n",
    "\n",
    "wiki.invoke(\"Artificial Intelligence\")"
   ]
  },
  {
   "cell_type": "code",
   "execution_count": 23,
   "id": "76db2715",
   "metadata": {},
   "outputs": [
    {
     "name": "stdout",
     "output_type": "stream",
     "text": [
      "wikipedia\n",
      "A wrapper around Wikipedia. Useful for when you need to answer general questions about people, places, companies, facts, historical events, or other subjects. Input should be a search query.\n",
      "{'query': {'description': 'query to look up on wikipedia', 'title': 'Query', 'type': 'string'}}\n"
     ]
    }
   ],
   "source": [
    "print(wiki.name)\n",
    "print(wiki.description)\n",
    "print(wiki.args)"
   ]
  },
  {
   "cell_type": "code",
   "execution_count": 24,
   "id": "a028dc8d",
   "metadata": {},
   "outputs": [
    {
     "data": {
      "text/plain": [
       "\"Page: World War II\\nSummary: World War II or the Second World War (1 September 1939 – 2 September 1945) was a global conflict between two coalitions: the Allies and the Axis powers. Nearly all of the world's countries participated, with many nations mobilising all resources in pursuit of total war. Tanks and aircraft played major roles, enabling the strategic bombing of cities and delivery of the first and only nuclear weapons ever used in war. World War II is the deadliest conflict in history, causing the death of 70 to 85 million people, more than half of whom were civilians. Millions died in genocides, including the Holocaust, and by massacres, starvation, and disease. After the Allied victory, Germany, Austria, Japan, and Korea were occupied, and German and Japanese leaders were tried for war crimes.\\nThe causes of World War II included unresolved tensions in the aftermath of World War I, the rise of fascism in Europe and militarism in Japan. Key events preceding the war included Japan's invasion of Manchuria in 1931, the Spanish Civil War, the outbreak of the Second Sino-Japanese War in 1937, and Germany's annexations of Austria and the Sudetenland. World War II is generally considered to have begun on 1 September 1939, when Nazi Germany, under Adolf Hitler, invaded Poland, after which the United Kingdom and France declared war on Germany. Poland was divided between Germany and the Soviet Union under the Molotov–Ribbentrop Pact. In 1940, the Soviet Union annexed the Baltic states and parts of Finland and Romania. After the fall of France in June 1940, the war continued mainly between Germany and the British Empire, with fighting in the Balkans, Mediterranean, and Middle East, the aerial Battle of Britain and the Blitz, and the naval Battle of the Atlantic. Through campaigns and treaties, Germany gained control of much of continental Europe and formed the Axis alliance with Italy, Japan, and other countries. In June 1941, Germany invaded the Soviet Union, opening the Eastern Front and initially making large territorial gains.\\nIn December 1941, Japan attacked American and British territories in Asia and the Pacific, including at Pearl Harbor in Hawaii, leading the United States to enter the war against Japan and Germany. Japan conquered much of coastal China and Southeast Asia, but its advances in the Pacific were halted in June 1942 at the Battle of Midway. In early 1943, Axis forces were defeated in North Africa and at Stalingrad in the Soviet Union, and that year their continued defeats on the Eastern Front, an Allied invasion of Italy, and Allied offensives in the Pacific forced them into retreat on all fronts. In 1944, the Western Allies invaded France at Normandy, as the Soviet Union recaptured its pre-war territory and the US crippled Japan's navy and captured key Pacific islands. The war in Europe concluded with the liberation of German-occupied territories; invasions of Germany by the Western Allies and the Soviet Union, which culminated in the fall of Berlin to Soviet troops; and Germany's unconditional surrender on 8 May 1945. On 6 and 9 August, the US dropped atomic bombs on Hiroshima and Nagasaki in Japan. Faced with an imminent Allied invasion, the prospect of further atomic bombings, and a Soviet declaration of war and invasion of Manchuria, Japan announced its unconditional surrender on 15 August, and signed a surrender document on 2 September 1945.\\nWorld War II transformed the political, economic, and social structures of the world, and established the foundation of international relations for the rest of the 20th century and into the 21st century. The United Nations was created to foster international cooperation and prevent future conflicts, with the victorious great powers—China, France, the Soviet Union, the UK, and the US—becoming the permanent members of its security council. The Soviet Union and the US emerged as rival superpowers, setting the stage for the half-century Cold War. In the wake of Europe'\""
      ]
     },
     "execution_count": 24,
     "metadata": {},
     "output_type": "execute_result"
    }
   ],
   "source": [
    "search_prompt = ChatPromptTemplate.from_template(\"generate a query to be searched on wikipedia for a given user inputs {input} . keep it short\")\n",
    "\n",
    "chain = search_prompt | model | parser | wiki | parser\n",
    "\n",
    "chain.invoke({\"input\":\"I am interested in world war II\"})"
   ]
  },
  {
   "cell_type": "code",
   "execution_count": null,
   "id": "937c7f43",
   "metadata": {},
   "outputs": [],
   "source": []
  },
  {
   "cell_type": "markdown",
   "id": "44015faf",
   "metadata": {},
   "source": [
    "## Getting started with LangGraph"
   ]
  },
  {
   "cell_type": "markdown",
   "id": "a3bc109a",
   "metadata": {},
   "source": [
    "- compatiable with langchain tools: langchain, langsmith, langfuse, openai\n",
    "- represent codes/functions/code_blocks as nodes and represent interactions as connections in graph\n",
    "\n",
    "\n",
    "\n",
    "Key components\n",
    "\n",
    "- Node: individual step/action (a function which makes llm call)\n",
    "- Edges: connection between nodes, define the exection flow between nodes\n",
    "- Graph: collection of nodes and edges, a complete structures\n",
    "- State: a shared data structure followed by all nodes and connections ( a common schema)"
   ]
  },
  {
   "cell_type": "markdown",
   "id": "6e5465b7",
   "metadata": {},
   "source": []
  },
  {
   "cell_type": "code",
   "execution_count": 29,
   "id": "78d66102",
   "metadata": {},
   "outputs": [],
   "source": [
    "!python -m pip install langgraph --quiet"
   ]
  },
  {
   "cell_type": "code",
   "execution_count": 25,
   "id": "749cc6ca",
   "metadata": {},
   "outputs": [
    {
     "data": {
      "text/plain": [
       "True"
      ]
     },
     "execution_count": 25,
     "metadata": {},
     "output_type": "execute_result"
    }
   ],
   "source": [
    "from dotenv import load_dotenv\n",
    "load_dotenv()"
   ]
  },
  {
   "cell_type": "code",
   "execution_count": 26,
   "id": "09b29e1c",
   "metadata": {},
   "outputs": [],
   "source": [
    "# initiate a state\n",
    "\n",
    "from typing import TypedDict\n",
    "\n",
    "class myState(TypedDict):\n",
    "    query:str\n",
    "    response:str\n",
    "    "
   ]
  },
  {
   "cell_type": "code",
   "execution_count": null,
   "id": "31a364fc",
   "metadata": {},
   "outputs": [],
   "source": [
    "# create a node\n",
    "\n",
    "\n",
    "from langchain.prompts import PromptTemplate\n",
    "from langchain.chat_models import init_chat_model\n",
    "model = init_chat_model(model_name, model_provider=\"google_genai\")\n",
    "\n",
    "\n",
    "# define a node: a node will alwaystake state (myState) as input and return state variables as output\n",
    "def assistant(state:myState)->myState:\n",
    "    prompt = PromptTemplate(input_variables=[\"query\"],\n",
    "                            template=\"Anwer the question in concise way {query}\")\n",
    "    \n",
    "    chain = prompt | model | parser\n",
    "    response= chain.invoke({\"query\":state['query']})\n",
    "    #response = model.invoke(prompt.format(query=state['query'])).content\n",
    "    return {\"response\":response}\n"
   ]
  },
  {
   "cell_type": "code",
   "execution_count": 31,
   "id": "42a62654",
   "metadata": {},
   "outputs": [
    {
     "data": {
      "image/png": "[encoded data removed]",
      "text/plain": [
       "<langgraph.graph.state.CompiledStateGraph object at 0x7732c0121f10>"
      ]
     },
     "execution_count": 31,
     "metadata": {},
     "output_type": "execute_result"
    }
   ],
   "source": [
    "# build graph\n",
    "from langgraph.graph import StateGraph,START,END\n",
    "\n",
    "builder = StateGraph(myState)\n",
    "builder.add_node(\"chat\",assistant)\n",
    "builder.add_edge(START,\"chat\")\n",
    "builder.add_edge(\"chat\",END)\n",
    "\n",
    "graph = builder.compile()\n",
    "graph"
   ]
  },
  {
   "cell_type": "code",
   "execution_count": 32,
   "id": "34a683f1",
   "metadata": {},
   "outputs": [
    {
     "name": "stdout",
     "output_type": "stream",
     "text": [
      "{'query': 'What is capital of Canada?', 'response': 'Ottawa'}\n"
     ]
    }
   ],
   "source": [
    "result = graph.invoke({\"query\":\"What is capital of Canada?\"})\n",
    "print(result)"
   ]
  },
  {
   "cell_type": "code",
   "execution_count": 33,
   "id": "dfab6570",
   "metadata": {},
   "outputs": [
    {
     "name": "stdout",
     "output_type": "stream",
     "text": [
      "Ottawa\n"
     ]
    }
   ],
   "source": [
    "print(result['response'])"
   ]
  },
  {
   "cell_type": "code",
   "execution_count": 34,
   "id": "5d474943",
   "metadata": {},
   "outputs": [],
   "source": [
    "class myState(TypedDict):\n",
    "    query:str\n",
    "    response:str\n",
    "    valid:bool"
   ]
  },
  {
   "cell_type": "code",
   "execution_count": 35,
   "id": "34f5b38e",
   "metadata": {},
   "outputs": [],
   "source": [
    "# adding an additional node: validting the input\n",
    "\n",
    "# adding a node: checker which checks the input and validates based on certain rules\n",
    "def checker(state:myState)->myState:\n",
    "    if len(state['query'].strip())<10:\n",
    "        return {\"valid\":False,\"response\":\"ENTER A VALID QUESTION\"}\n",
    "    else:\n",
    "        return {\"valid\":True}"
   ]
  },
  {
   "cell_type": "code",
   "execution_count": 36,
   "id": "9a9f4e21",
   "metadata": {},
   "outputs": [
    {
     "data": {
      "image/png": "[encoded data removed]",
      "text/plain": [
       "<langgraph.graph.state.CompiledStateGraph object at 0x7732c00af050>"
      ]
     },
     "execution_count": 36,
     "metadata": {},
     "output_type": "execute_result"
    }
   ],
   "source": [
    "builder = StateGraph(myState)\n",
    "\n",
    "builder.add_node(\"checker\",checker)\n",
    "builder.add_node(\"chat\",assistant)\n",
    "\n",
    "# add connection\n",
    "builder.add_edge(START,\"checker\")\n",
    "\n",
    "\n",
    "# add a conditional edge\n",
    "def route(state:myState):\n",
    "    if state['valid']:\n",
    "        return \"chat\"\n",
    "    else:\n",
    "        return END\n",
    "    \n",
    "builder.add_conditional_edges(\"checker\",route,{\"chat\":\"chat\",END:END})\n",
    "builder.add_edge(\"chat\",END)\n",
    "\n",
    "\n",
    "graph = builder.compile()\n",
    "graph"
   ]
  },
  {
   "cell_type": "code",
   "execution_count": 37,
   "id": "64f1c054",
   "metadata": {},
   "outputs": [
    {
     "name": "stdout",
     "output_type": "stream",
     "text": [
      "{'query': 'what is capital of France?', 'response': 'Paris.', 'valid': True}\n"
     ]
    }
   ],
   "source": [
    "result = graph.invoke({\"query\":\"what is capital of France?\"})\n",
    "print(result)"
   ]
  },
  {
   "cell_type": "code",
   "execution_count": 38,
   "id": "f09a8c7a",
   "metadata": {},
   "outputs": [
    {
     "name": "stdout",
     "output_type": "stream",
     "text": [
      "{'query': 'what ?       ', 'response': 'ENTER A VALID QUESTION', 'valid': False}\n"
     ]
    }
   ],
   "source": [
    "result = graph.invoke({\"query\":\"what ?       \"})\n",
    "print(result)"
   ]
  },
  {
   "cell_type": "markdown",
   "id": "3c98b4da",
   "metadata": {},
   "source": [
    "## Code Chain\n",
    "\n",
    "- Generate code, analyze code"
   ]
  },
  {
   "cell_type": "code",
   "execution_count": 39,
   "id": "c8d592af",
   "metadata": {},
   "outputs": [
    {
     "data": {
      "image/png": "[encoded data removed]",
      "text/plain": [
       "<langgraph.graph.state.CompiledStateGraph object at 0x7732c0118e10>"
      ]
     },
     "execution_count": 39,
     "metadata": {},
     "output_type": "execute_result"
    }
   ],
   "source": [
    "from typing import TypedDict\n",
    "from langchain_core.prompts import ChatPromptTemplate\n",
    "from langchain.chat_models import init_chat_model\n",
    "model = init_chat_model(model_name, model_provider=\"google_genai\")\n",
    "\n",
    "class simpleState(TypedDict):\n",
    "    code:str\n",
    "    task:str\n",
    "    modified_code:str\n",
    "\n",
    "\n",
    "def generate_code(state:simpleState)->simpleState:\n",
    "    generate_prompt = ChatPromptTemplate([(\"system\",\"Write a simple code for the task, only provide code no other additional text\"),\n",
    "                                      (\"user\",\"{task}\")])\n",
    "    code = model.invoke(generate_prompt.invoke({\"task\":state[\"task\"]})).content\n",
    "    return {\"code\":code}\n",
    "\n",
    "\n",
    "def analyze_code(state:simpleState)->simpleState:\n",
    "    analyze_prompt = ChatPromptTemplate([(\"system\",\"Analyze the provided code, add docstrings and comments. only provide code no other additional text\"),\n",
    "                                      (\"user\",\"{code}\")])\n",
    "    modified_code = model.invoke(analyze_prompt.invoke({\"code\":state[\"code\"]})).content\n",
    "    return {\"modified_code\":modified_code}\n",
    "\n",
    "\n",
    "builder = StateGraph(simpleState)\n",
    "builder.add_sequence([generate_code,analyze_code])\n",
    "builder.add_edge(START,\"generate_code\")\n",
    "\n",
    "graph = builder.compile()\n",
    "graph\n",
    "\n",
    "    "
   ]
  },
  {
   "cell_type": "code",
   "execution_count": 40,
   "id": "3d3eb743",
   "metadata": {},
   "outputs": [],
   "source": [
    "result = graph.invoke({\"task\":\"FIBONACCI SERIES\"})"
   ]
  },
  {
   "cell_type": "code",
   "execution_count": 41,
   "id": "764bf179",
   "metadata": {},
   "outputs": [
    {
     "name": "stdout",
     "output_type": "stream",
     "text": [
      "{'code': '```python\\ndef fibonacci(n):\\n  \"\"\"\\n  Generates the Fibonacci sequence up to n terms.\\n\\n  Args:\\n    n: The number of terms to generate.\\n\\n  Returns:\\n    A list containing the Fibonacci sequence up to n terms.\\n  \"\"\"\\n  if n <= 0:\\n    return []\\n  elif n == 1:\\n    return [0]\\n  else:\\n    list_fib = [0, 1]\\n    while len(list_fib) < n:\\n      next_fib = list_fib[-1] + list_fib[-2]\\n      list_fib.append(next_fib)\\n    return list_fib\\n\\nif __name__ == \\'__main__\\':\\n  num_terms = 10  # Example: Generate the first 10 Fibonacci numbers\\n  fib_sequence = fibonacci(num_terms)\\n  print(fib_sequence)\\n```', 'task': 'FIBONACCI SERIES', 'modified_code': '```python\\ndef fibonacci(n):\\n  \"\"\"\\n  Generates the Fibonacci sequence up to n terms.\\n\\n  Args:\\n    n: The number of terms to generate.\\n\\n  Returns:\\n    A list containing the Fibonacci sequence up to n terms.\\n  \"\"\"\\n  if n <= 0:\\n    return []  # Return an empty list if n is non-positive\\n  elif n == 1:\\n    return [0]  # Return a list with only the first Fibonacci number if n is 1\\n  else:\\n    list_fib = [0, 1]  # Initialize the list with the first two Fibonacci numbers\\n    while len(list_fib) < n:\\n      next_fib = list_fib[-1] + list_fib[-2]  # Calculate the next Fibonacci number\\n      list_fib.append(next_fib)  # Add the next Fibonacci number to the list\\n    return list_fib  # Return the list of Fibonacci numbers\\n\\nif __name__ == \\'__main__\\':\\n  num_terms = 10  # Example: Generate the first 10 Fibonacci numbers\\n  fib_sequence = fibonacci(num_terms)  # Call the fibonacci function to generate the sequence\\n  print(fib_sequence)  # Print the generated Fibonacci sequence\\n```'}\n"
     ]
    }
   ],
   "source": [
    "print(result)"
   ]
  },
  {
   "cell_type": "code",
   "execution_count": 42,
   "id": "a593e5af",
   "metadata": {},
   "outputs": [
    {
     "name": "stdout",
     "output_type": "stream",
     "text": [
      "```python\n",
      "def fibonacci(n):\n",
      "  \"\"\"\n",
      "  Generates the Fibonacci sequence up to n terms.\n",
      "\n",
      "  Args:\n",
      "    n: The number of terms to generate.\n",
      "\n",
      "  Returns:\n",
      "    A list containing the Fibonacci sequence up to n terms.\n",
      "  \"\"\"\n",
      "  if n <= 0:\n",
      "    return []\n",
      "  elif n == 1:\n",
      "    return [0]\n",
      "  else:\n",
      "    list_fib = [0, 1]\n",
      "    while len(list_fib) < n:\n",
      "      next_fib = list_fib[-1] + list_fib[-2]\n",
      "      list_fib.append(next_fib)\n",
      "    return list_fib\n",
      "\n",
      "if __name__ == '__main__':\n",
      "  num_terms = 10  # Example: Generate the first 10 Fibonacci numbers\n",
      "  fib_sequence = fibonacci(num_terms)\n",
      "  print(fib_sequence)\n",
      "```\n"
     ]
    }
   ],
   "source": [
    "print(result['code'])"
   ]
  },
  {
   "cell_type": "code",
   "execution_count": 43,
   "id": "1431bd0e",
   "metadata": {},
   "outputs": [
    {
     "name": "stdout",
     "output_type": "stream",
     "text": [
      "```python\n",
      "def fibonacci(n):\n",
      "  \"\"\"\n",
      "  Generates the Fibonacci sequence up to n terms.\n",
      "\n",
      "  Args:\n",
      "    n: The number of terms to generate.\n",
      "\n",
      "  Returns:\n",
      "    A list containing the Fibonacci sequence up to n terms.\n",
      "  \"\"\"\n",
      "  if n <= 0:\n",
      "    return []  # Return an empty list if n is non-positive\n",
      "  elif n == 1:\n",
      "    return [0]  # Return a list with only the first Fibonacci number if n is 1\n",
      "  else:\n",
      "    list_fib = [0, 1]  # Initialize the list with the first two Fibonacci numbers\n",
      "    while len(list_fib) < n:\n",
      "      next_fib = list_fib[-1] + list_fib[-2]  # Calculate the next Fibonacci number\n",
      "      list_fib.append(next_fib)  # Add the next Fibonacci number to the list\n",
      "    return list_fib  # Return the list of Fibonacci numbers\n",
      "\n",
      "if __name__ == '__main__':\n",
      "  num_terms = 10  # Example: Generate the first 10 Fibonacci numbers\n",
      "  fib_sequence = fibonacci(num_terms)  # Call the fibonacci function to generate the sequence\n",
      "  print(fib_sequence)  # Print the generated Fibonacci sequence\n",
      "```\n"
     ]
    }
   ],
   "source": [
    "print(result['modified_code'])"
   ]
  },
  {
   "cell_type": "code",
   "execution_count": null,
   "id": "3b11195b",
   "metadata": {},
   "outputs": [],
   "source": []
  }
 ],
 "metadata": {
  "kernelspec": {
   "display_name": "genai",
   "language": "python",
   "name": "python3"
  },
  "language_info": {
   "codemirror_mode": {
    "name": "ipython",
    "version": 3
   },
   "file_extension": ".py",
   "mimetype": "text/x-python",
   "name": "python",
   "nbconvert_exporter": "python",
   "pygments_lexer": "ipython3",
   "version": "3.11.13"
  }
 },
 "nbformat": 4,
 "nbformat_minor": 5
}
