{
 "cells": [
  {
   "cell_type": "markdown",
   "id": "2c3ce90c",
   "metadata": {},
   "source": [
    "# Function Calling with Gemini 2.5"
   ]
  },
  {
   "cell_type": "code",
   "execution_count": 1,
   "id": "81e64ce4",
   "metadata": {},
   "outputs": [],
   "source": [
    "from google import genai\n",
    "client = genai.Client()"
   ]
  },
  {
   "cell_type": "code",
   "execution_count": 2,
   "id": "36c82655",
   "metadata": {},
   "outputs": [],
   "source": [
    "import requests,json\n",
    "def get_current_weather(city:str)->dict:\n",
    "    \"\"\" can be used to get/fetch current weather information for a city name\n",
    "    \"\"\"\n",
    "    api_key = \"6a8b0ac166a37e2b7a38e64416b3c3fe\"\n",
    "\n",
    "    url = f\"https://api.openweathermap.org/data/2.5/weather?q={city}&appid={api_key}\"\n",
    "    response = requests.get(url)\n",
    "    response = response.content.decode()\n",
    "    response = json.loads(response)\n",
    "    output = {\"City Name\":city,\"weather\":response[\"weather\"][0]['description'],\n",
    "              \"temperature\":response['main']['temp'],\n",
    "              \"unit\":\"kelvin\"}\n",
    "\n",
    "    return output"
   ]
  },
  {
   "cell_type": "code",
   "execution_count": 3,
   "id": "21ce0c2e",
   "metadata": {},
   "outputs": [
    {
     "data": {
      "text/plain": [
       "{'City Name': 'mumbai',\n",
       " 'weather': 'broken clouds',\n",
       " 'temperature': 299.93,\n",
       " 'unit': 'kelvin'}"
      ]
     },
     "execution_count": 3,
     "metadata": {},
     "output_type": "execute_result"
    }
   ],
   "source": [
    "get_current_weather(\"mumbai\")"
   ]
  },
  {
   "cell_type": "code",
   "execution_count": 4,
   "id": "b5b303f6",
   "metadata": {},
   "outputs": [
    {
     "data": {
      "text/plain": [
       "{'City Name': 'delhi',\n",
       " 'weather': 'few clouds',\n",
       " 'temperature': 308.23,\n",
       " 'unit': 'kelvin'}"
      ]
     },
     "execution_count": 4,
     "metadata": {},
     "output_type": "execute_result"
    }
   ],
   "source": [
    "get_current_weather(\"delhi\")"
   ]
  },
  {
   "cell_type": "markdown",
   "id": "5bd69029",
   "metadata": {},
   "source": [
    "### Tool Integration with LLM\n",
    "\n",
    "- metadata for the tool\n",
    "    - metdata needs to include 3 compoents\n",
    "        - name of function\n",
    "        - description of function\n",
    "        - arguments: args and its description\n",
    "    - OPEN API Format to define metadata"
   ]
  },
  {
   "cell_type": "code",
   "execution_count": 27,
   "id": "ecc5f73e",
   "metadata": {},
   "outputs": [],
   "source": [
    "tools_def = [{\n",
    "    \"name\":\"get_current_weather\",\n",
    "    \"description\":\"this function is used to get/fetch current weather information for any given city\",\n",
    "    \"parameters\":{\"type\":\"object\",\n",
    "                  \"properties\":{\"city\":{\"type\":\"string\",\"description\":\"name of any location/city e.g. mumbai, new york\"}},\n",
    "                  \"required\":[\"city\"],},\n",
    "                  \n",
    "},]"
   ]
  },
  {
   "cell_type": "code",
   "execution_count": null,
   "id": "7ab61d72",
   "metadata": {},
   "outputs": [],
   "source": [
    "from google.genai import types\n",
    "import json\n",
    "tools = types.Tool(function_declarations=tools_def)\n",
    "config = types.GenerateContentConfig(tools=[tools],\n",
    "                                     automatic_function_calling=types.FunctionCallingConfig(mode='AUTO'),\n",
    "                                     system_instruction=\"You are a helpful assistant, you need to answer user question, use tools when necessary and answer question based on your ability provide final response with answer to all queries asked.\",\n",
    "                                     temperature=0.2,seed=5) #NONE, ANY\n",
    "\n",
    "tool_map = {\"get_current_weather\":get_current_weather}\n"
   ]
  },
  {
   "cell_type": "code",
   "execution_count": 34,
   "id": "525a1019",
   "metadata": {},
   "outputs": [],
   "source": [
    "def generate_response(prompt:str):\n",
    "    contents = [types.Content(role='user',parts=[types.Part(text=prompt)])]\n",
    "\n",
    "    first_response=client.models.generate_content(model='gemini-2.0-flash',\n",
    "                                                  contents=contents,\n",
    "                                                  config=config)\n",
    "    #print(first_response)\n",
    "    if first_response.candidates[0].content.parts[0].function_call:\n",
    "        # do something\n",
    "        print(\"LLM decided to make a function call,\", first_response.candidates[0].content.parts[0].function_call)\n",
    "        tool_call = first_response.candidates[0].content.parts[0].function_call\n",
    "        contents.append(first_response.candidates[0].content)\n",
    "        \n",
    "        tool_name = tool_call.name\n",
    "        tool_args = tool_call.args\n",
    "        function_to_ex = tool_map[tool_name]\n",
    "        tool_output = function_to_ex(**tool_args)\n",
    "\n",
    "        tool_resp = types.Part.from_function_response(name=tool_name,response={\"result\":tool_output})\n",
    "\n",
    "        contents.append(types.Content(role='user',parts=[tool_resp]))\n",
    "\n",
    "        second_response = client.models.generate_content(model='gemini-2.0-flash',\n",
    "                                                         contents=contents)\n",
    "        return second_response.text\n",
    "        \n",
    "    else:\n",
    "        return first_response.text"
   ]
  },
  {
   "cell_type": "code",
   "execution_count": 35,
   "id": "c921c324",
   "metadata": {},
   "outputs": [
    {
     "data": {
      "text/plain": [
       "'I am not equipped to provide a definition of quantum computing.\\n'"
      ]
     },
     "execution_count": 35,
     "metadata": {},
     "output_type": "execute_result"
    }
   ],
   "source": [
    "generate_response(\"define quantum computing?\")"
   ]
  },
  {
   "cell_type": "code",
   "execution_count": 36,
   "id": "8972e49f",
   "metadata": {},
   "outputs": [
    {
     "name": "stdout",
     "output_type": "stream",
     "text": [
      "LLM decided to make a function call, id=None args={'city': 'delhi'} name='get_current_weather'\n"
     ]
    },
    {
     "data": {
      "text/plain": [
       "'The current weather in Delhi is few clouds with a temperature of 308.23 Kelvin.\\n'"
      ]
     },
     "execution_count": 36,
     "metadata": {},
     "output_type": "execute_result"
    }
   ],
   "source": [
    "generate_response(\"what is the current weather in delhi?\")"
   ]
  },
  {
   "cell_type": "code",
   "execution_count": 37,
   "id": "10287d5d",
   "metadata": {},
   "outputs": [
    {
     "name": "stdout",
     "output_type": "stream",
     "text": [
      "LLM decided to make a function call, id=None args={'city': 'delhi'} name='get_current_weather'\n",
      "Okay, here's some information about Delhi and its current weather:\n",
      "\n",
      "**About Delhi:**\n",
      "\n",
      "*   **Historical Significance:** Delhi is a city steeped in history, serving as the capital of various empires and kingdoms throughout centuries. This rich past is evident in its numerous historical monuments, including the Red Fort, Qutub Minar, Humayun's Tomb, and India Gate.\n",
      "*   **Capital of India:** Delhi serves as the capital of India, housing important government buildings, embassies, and administrative centers.\n",
      "*   **Cultural Hub:** Delhi is a vibrant cultural center, blending diverse traditions, languages, and cuisines. It offers a mix of ancient and modern influences, visible in its architecture, arts, and lifestyle.\n",
      "*   **Metropolitan City:** Delhi is a bustling metropolitan city with a large population and a fast-paced lifestyle. It's a major economic hub, attracting people from all over India for work and opportunities.\n",
      "*   **Diverse Attractions:** Besides historical sites, Delhi offers a wide range of attractions, including bustling markets like Chandni Chowk, religious sites like Akshardham Temple and Lotus Temple, museums, gardens, and entertainment venues.\n",
      "\n",
      "**Current Weather in Delhi:**\n",
      "\n",
      "The current weather in Delhi is **few clouds** and the temperature is **308.23 Kelvin** (which is approximately **35.08 degrees Celsius** or **95.14 degrees Fahrenheit**).\n",
      "\n"
     ]
    }
   ],
   "source": [
    "result = generate_response(\"Tell me something about city Delhi and what is the current weather in delhi?\")\n",
    "print(result)"
   ]
  },
  {
   "cell_type": "code",
   "execution_count": null,
   "id": "360f7427",
   "metadata": {},
   "outputs": [],
   "source": []
  },
  {
   "cell_type": "markdown",
   "id": "03d5600a",
   "metadata": {},
   "source": [
    "## Integrating Multiple Tools\n"
   ]
  },
  {
   "cell_type": "code",
   "execution_count": 11,
   "id": "6e2c42b8",
   "metadata": {},
   "outputs": [],
   "source": [
    "!python -m pip install wikipedia --quiet"
   ]
  },
  {
   "cell_type": "code",
   "execution_count": 12,
   "id": "f67f2c3c",
   "metadata": {},
   "outputs": [],
   "source": [
    "import wikipedia\n",
    "\n",
    "def get_wkipedia_summary(query:str)->str:\n",
    "    response = wikipedia.summary(query)\n",
    "    return response"
   ]
  },
  {
   "cell_type": "code",
   "execution_count": 13,
   "id": "15966a94",
   "metadata": {},
   "outputs": [
    {
     "name": "stdout",
     "output_type": "stream",
     "text": [
      "Gangtok (Nepali: gāntok, pronounced [gantok], Sikkimese: [ɡaŋt̪ʰòk]) is the capital and the most populous city of the Indian state of Sikkim. The seat of eponymous district, Gangtok is in the eastern Himalayan range, at an elevation of 1,650 m (5,410 ft). The city's population of 100,000 consists of the three Sikkimese ethnicities: the Bhutias, Lepchas, Indian Gorkhas as well as plainsmen from other states of India. Within the higher peaks of the Himalayas and with a year-round mild temperate climate, Gangtok is at the centre of Sikkim's tourism industry.\n",
      "Gangtok rose to prominence as a popular Buddhist pilgrimage site after the construction of the Enchey Monastery in 1840. In 1894, the ruling Sikkimese Chogyal, Thutob Namgyal, transferred the capital to Gangtok. In the early 20th century, Gangtok became a major stopover on the trade route between Lhasa in Tibet and cities such as Kolkata (then Calcutta) in British India. After India won its independence from the British Empire in 1947, Sikkim chose to remain an independent monarchy, with Gangtok as its capital. After Sikkim's merger with India in 1975, Gangtok continued as the state capital.\n",
      "\n",
      "\n"
     ]
    }
   ],
   "source": [
    "print(get_wkipedia_summary(\"capital city of Sikkim\"))"
   ]
  },
  {
   "cell_type": "code",
   "execution_count": 14,
   "id": "32021263",
   "metadata": {},
   "outputs": [],
   "source": [
    "tools_def = [{\n",
    "    \"name\":\"get_current_weather\",\n",
    "    \"description\":\"this function is used to get/fetch current weather information for any given city\",\n",
    "    \"parameters\":{\"type\":\"object\",\n",
    "                  \"properties\":{\"city\":{\"type\":\"string\",\"description\":\"name of any location/city e.g. mumbai, new york\"}},\n",
    "                  \"required\":[\"city\"],},\n",
    "                  \n",
    "},\n",
    "{\n",
    "    \"name\":\"get_wikipedia_summary\",\n",
    "    \"description\":\"this function is used to get information about locaiton, places, people, history, from wkipedia, given the topic\",\n",
    "    \"parameters\":{\"type\":\"object\",\n",
    "                  \"properties\":{\"query\":{\"type\":\"string\",\"description\":\"topic to search on wikipedia e.g. capital of India\"}},\n",
    "                  \"required\":[\"query\"],},\n",
    "                  \n",
    "},]\n"
   ]
  },
  {
   "cell_type": "code",
   "execution_count": 15,
   "id": "2648a73e",
   "metadata": {},
   "outputs": [],
   "source": [
    "from google.genai import types\n",
    "import json\n",
    "tools = types.Tool(function_declarations=tools_def)\n",
    "config = types.GenerateContentConfig(tools=[tools],\n",
    "                                     automatic_function_calling=types.FunctionCallingConfig(mode='AUTO')) #NONE, ANY\n",
    "\n",
    "tool_map = {\"get_current_weather\":get_current_weather,\n",
    "            \"get_wikipedia_summary\":get_wkipedia_summary}"
   ]
  },
  {
   "cell_type": "code",
   "execution_count": 19,
   "id": "2998a037",
   "metadata": {},
   "outputs": [],
   "source": [
    "def generate_response(prompt:str):\n",
    "    contents = [types.Content(role='user',parts=[types.Part(text=prompt)])]\n",
    "\n",
    "    while True:\n",
    "\n",
    "        response=client.models.generate_content(model='gemini-2.0-flash', contents=contents, config=config)\n",
    "        #print(first_response)\n",
    "        if response.candidates[0].content.parts[0].function_call:\n",
    "            # do something\n",
    "            print(\"LLM decided to make a function call,\", response.candidates[0].content.parts)\n",
    "            tool_calls = response.candidates[0].content.parts\n",
    "            contents.append(response.candidates[0].content)\n",
    "\n",
    "            for tool_call in tool_calls:\n",
    "                tool_name = tool_call.function_call.name\n",
    "                tool_args = tool_call.function_call.args\n",
    "                function_to_ex = tool_map[tool_name]\n",
    "                tool_output = function_to_ex(**tool_args)\n",
    "\n",
    "                tool_resp = types.Part.from_function_response(name=tool_name,response={\"result\":tool_output})\n",
    "\n",
    "                contents.append(types.Content(role='user',parts=[tool_resp]))\n",
    "\n",
    "        else:\n",
    "            break\n",
    "    return response.text"
   ]
  },
  {
   "cell_type": "code",
   "execution_count": 20,
   "id": "6e0729cb",
   "metadata": {},
   "outputs": [
    {
     "name": "stdout",
     "output_type": "stream",
     "text": [
      "LLM decided to make a function call, [Part(\n",
      "  function_call=FunctionCall(\n",
      "    args={\n",
      "      'query': 'Delhi'\n",
      "    },\n",
      "    name='get_wikipedia_summary'\n",
      "  )\n",
      "), Part(\n",
      "  function_call=FunctionCall(\n",
      "    args={\n",
      "      'city': 'delhi'\n",
      "    },\n",
      "    name='get_current_weather'\n",
      "  )\n",
      ")]\n",
      "Delhi, in mathematics, refers to the del operator (nabla), a vector differential operator represented by ∇. It's used in vector calculus to denote the gradient, divergence, or curl of a field.\n",
      "\n",
      "The current weather in Delhi is few clouds and the temperature is 308.23 Kelvin.\n",
      "\n"
     ]
    }
   ],
   "source": [
    "result = generate_response(\"Tell me something about city Delhi and what is the current weather in delhi?\")\n",
    "print(result)"
   ]
  },
  {
   "cell_type": "code",
   "execution_count": 21,
   "id": "bb4e733f",
   "metadata": {},
   "outputs": [
    {
     "name": "stdout",
     "output_type": "stream",
     "text": [
      "LLM decided to make a function call, [Part(\n",
      "  function_call=FunctionCall(\n",
      "    args={\n",
      "      'query': 'Delhi'\n",
      "    },\n",
      "    name='get_wikipedia_summary'\n",
      "  )\n",
      "), Part(\n",
      "  function_call=FunctionCall(\n",
      "    args={\n",
      "      'query': 'Mumbai'\n",
      "    },\n",
      "    name='get_wikipedia_summary'\n",
      "  )\n",
      "), Part(\n",
      "  function_call=FunctionCall(\n",
      "    args={\n",
      "      'city': 'delhi'\n",
      "    },\n",
      "    name='get_current_weather'\n",
      "  )\n",
      "), Part(\n",
      "  function_call=FunctionCall(\n",
      "    args={\n",
      "      'city': 'mumbai'\n",
      "    },\n",
      "    name='get_current_weather'\n",
      "  )\n",
      "), Part(\n",
      "  function_call=FunctionCall(\n",
      "    args={\n",
      "      'city': 'bangalore'\n",
      "    },\n",
      "    name='get_current_weather'\n",
      "  )\n",
      ")]\n",
      "Okay, here's some information about Delhi and Mumbai, along with the current weather in Delhi, Mumbai, and Bangalore:\n",
      "\n",
      "**Delhi:**\n",
      "\n",
      "*   I found a Wikipedia entry for \"Del\" (with one \"l\"), which refers to an operator in mathematics, particularly vector calculus, represented by the nabla symbol (∇). It's used to denote derivatives, gradients, divergence, and curl. I can search for \"Delhi\" (with an \"h\") if you'd like.\n",
      "\n",
      "**Mumbai:**\n",
      "\n",
      "*   Mumbai, also known as Bombay until 1995, is the capital city of Maharashtra, India. It's the financial capital and most populous city proper in India. The Mumbai Metropolitan Region is among the most populous metropolitan areas globally. Mumbai is located on the Konkan coast and has a deep natural harbor. It was named an alpha world city in 2008 and has the highest number of billionaires in Asia.\n",
      "\n",
      "**Current Weather:**\n",
      "\n",
      "*   **Delhi:** The current temperature is 308.23 Kelvin, and the weather is \"few clouds\".\n",
      "*   **Mumbai:** The current temperature is 300.17 Kelvin, and the weather is \"few clouds\".\n",
      "*   **Bangalore:** The current temperature is 300.75 Kelvin, and the weather is \"overcast clouds\".\n",
      "\n",
      "\n"
     ]
    }
   ],
   "source": [
    "result = generate_response(\"Tell me something about city Delhi and Mumbai and what is the current weather in delhi, mumbai and bangalore?\")\n",
    "print(result)"
   ]
  },
  {
   "cell_type": "code",
   "execution_count": null,
   "id": "c858a208",
   "metadata": {},
   "outputs": [],
   "source": []
  }
 ],
 "metadata": {
  "kernelspec": {
   "display_name": "genai",
   "language": "python",
   "name": "python3"
  },
  "language_info": {
   "codemirror_mode": {
    "name": "ipython",
    "version": 3
   },
   "file_extension": ".py",
   "mimetype": "text/x-python",
   "name": "python",
   "nbconvert_exporter": "python",
   "pygments_lexer": "ipython3",
   "version": "3.11.13"
  }
 },
 "nbformat": 4,
 "nbformat_minor": 5
}
