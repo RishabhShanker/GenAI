{
  "cells": [
    {
      "cell_type": "markdown",
      "id": "3bbc1156",
      "metadata": {
        "id": "3bbc1156"
      },
      "source": [
        "# Prompt Evaluation and Tracing with MLflow\n",
        "This notebook is designed to help you evaluate and trace prompts using MLflow. It provides a structured way to log prompt evaluations, track their performance, and visualize the results over time.\n",
        "\n",
        "Key Benefits of MLflow Prompt Evaluation\n",
        "* Effective Evaluation: `MLflow's LLM Evaluation API provides a simple and consistent way to evaluate prompts across different models and datasets without writing boilerplate code.\n",
        "* Compare Results: Compare evaluation results with ease in the MLflow UI.\n",
        "* Tracking Results: Track evaluation results in MLflow Experiment to maintain the history of prompt performance and different evaluation settings.\n",
        "* Tracing: Inspect model behavior during inference deeply with traces generated during evaluation."
      ]
    },
    {
      "cell_type": "code",
      "execution_count": 9,
      "id": "11b8cef8",
      "metadata": {},
      "outputs": [],
      "source": [
        "!python -m pip install pandas mlflow evaluate litellm textstat --quiet\n",
        "!python -m pip install dspy --quiet"
      ]
    },
    {
      "cell_type": "markdown",
      "id": "a7683277",
      "metadata": {},
      "source": [
        "# Make sure to RESTART the kernel after installing new packages."
      ]
    },
    {
      "cell_type": "markdown",
      "id": "c13aef15",
      "metadata": {},
      "source": [
        "#"
      ]
    },
    {
      "cell_type": "code",
      "execution_count": 1,
      "id": "1063c084",
      "metadata": {},
      "outputs": [],
      "source": [
        "import mlflow\n",
        "mlflow.set_tracking_uri(\"http://20.75.92.162:5000/\")"
      ]
    },
    {
      "cell_type": "code",
      "execution_count": null,
      "id": "2a97b8a8",
      "metadata": {
        "id": "2a97b8a8"
      },
      "outputs": [],
      "source": [
        "from google import genai\n",
        "from google.genai.types import HttpOptions\n",
        "client = genai.Client(http_options=HttpOptions(api_version='v1'))"
      ]
    },
    {
      "cell_type": "markdown",
      "id": "2d4db162",
      "metadata": {
        "id": "2d4db162"
      },
      "source": [
        "### 1. Create a new prompt"
      ]
    },
    {
      "cell_type": "code",
      "execution_count": 3,
      "id": "574133d5",
      "metadata": {
        "id": "574133d5"
      },
      "outputs": [
        {
          "name": "stderr",
          "output_type": "stream",
          "text": [
            "/tmp/ipykernel_3499/4151058232.py:11: FutureWarning: The `mlflow.register_prompt` API is moved to the `mlflow.genai` namespace. Please use `mlflow.genai.register_prompt` instead. The original API will be removed in the future release.\n",
            "  prompt = mlflow.register_prompt(\n",
            "2025/09/08 12:18:29 INFO mlflow.store.model_registry.abstract_store: Waiting up to 300 seconds for prompt version to finish creation. Prompt name: gcp-anshupandey-summarization-prompt, version 14\n"
          ]
        },
        {
          "name": "stdout",
          "output_type": "stream",
          "text": [
            "Created prompt 'gcp-anshupandey-summarization-prompt' (version 14)\n"
          ]
        }
      ],
      "source": [
        "import mlflow\n",
        "\n",
        "# Use double curly braces for variables in the template\n",
        "initial_template = \"\"\"\\\n",
        "Summarize content you are provided with in {{ num_sentences }} sentences.\n",
        "\n",
        "Sentences: {{ sentences }}\n",
        "\"\"\"\n",
        "\n",
        "# Register a new prompt\n",
        "prompt = mlflow.register_prompt(\n",
        "    name=\"gcp-anshupandey-summarization-prompt\",\n",
        "    template=initial_template,\n",
        "    # Optional: Provide a commit message to describe the changes\n",
        "    commit_message=\"Initial commit\",\n",
        ")\n",
        "\n",
        "# The prompt object contains information about the registered prompt\n",
        "print(f\"Created prompt '{prompt.name}' (version {prompt.version})\")"
      ]
    },
    {
      "cell_type": "markdown",
      "id": "5ff816a5",
      "metadata": {
        "id": "5ff816a5"
      },
      "source": [
        "### 2. Prepare Evaluation Data"
      ]
    },
    {
      "cell_type": "code",
      "execution_count": 4,
      "id": "4c1e3206",
      "metadata": {
        "id": "4c1e3206"
      },
      "outputs": [],
      "source": [
        "import pandas as pd\n",
        "\n",
        "eval_data = pd.DataFrame(\n",
        "    {\n",
        "        \"inputs\": [\n",
        "            \"Artificial intelligence has transformed how businesses operate in the 21st century. Companies are leveraging AI for everything from customer service to supply chain optimization. The technology enables automation of routine tasks, freeing human workers for more creative endeavors. However, concerns about job displacement and ethical implications remain significant. Many experts argue that AI will ultimately create more jobs than it eliminates, though the transition may be challenging.\",\n",
        "            \"Climate change continues to affect ecosystems worldwide at an alarming rate. Rising global temperatures have led to more frequent extreme weather events including hurricanes, floods, and wildfires. Polar ice caps are melting faster than predicted, contributing to sea level rise that threatens coastal communities. Scientists warn that without immediate and dramatic reductions in greenhouse gas emissions, many of these changes may become irreversible. International cooperation remains essential but politically challenging.\",\n",
        "            \"The human genome project was completed in 2003 after 13 years of international collaborative research. It successfully mapped all of the genes of the human genome, approximately 20,000-25,000 genes in total. The project cost nearly $3 billion but has enabled countless medical advances and spawned new fields like pharmacogenomics. The knowledge gained has dramatically improved our understanding of genetic diseases and opened pathways to personalized medicine. Today, a complete human genome can be sequenced in under a day for about $1,000.\",\n",
        "            \"Remote work adoption accelerated dramatically during the COVID-19 pandemic. Organizations that had previously resisted flexible work arrangements were forced to implement digital collaboration tools and virtual workflows. Many companies reported surprising productivity gains, though concerns about company culture and collaboration persisted. After the pandemic, a hybrid model emerged as the preferred approach for many businesses, combining in-office and remote work. This shift has profound implications for urban planning, commercial real estate, and work-life balance.\",\n",
        "            \"Quantum computing represents a fundamental shift in computational capability. Unlike classical computers that use bits as either 0 or 1, quantum computers use quantum bits or qubits that can exist in multiple states simultaneously. This property, known as superposition, theoretically allows quantum computers to solve certain problems exponentially faster than classical computers. Major technology companies and governments are investing billions in quantum research. Fields like cryptography, material science, and drug discovery are expected to be revolutionized once quantum computers reach practical scale.\",\n",
        "        ],\n",
        "        \"targets\": [\n",
        "            \"AI has revolutionized business operations through automation and optimization, though ethical concerns about job displacement persist alongside predictions that AI will ultimately create more employment opportunities than it eliminates.\",\n",
        "            \"Climate change is causing accelerating environmental damage through extreme weather events and melting ice caps, with scientists warning that without immediate reduction in greenhouse gas emissions, many changes may become irreversible.\",\n",
        "            \"The Human Genome Project, completed in 2003, mapped approximately 20,000-25,000 human genes at a cost of $3 billion, enabling medical advances, improving understanding of genetic diseases, and establishing the foundation for personalized medicine.\",\n",
        "            \"The COVID-19 pandemic forced widespread adoption of remote work, revealing unexpected productivity benefits despite collaboration challenges, and resulting in a hybrid work model that impacts urban planning, real estate, and work-life balance.\",\n",
        "            \"Quantum computing uses qubits existing in multiple simultaneous states to potentially solve certain problems exponentially faster than classical computers, with major investment from tech companies and governments anticipating revolutionary applications in cryptography, materials science, and pharmaceutical research.\",\n",
        "        ],\n",
        "    }\n",
        ")"
      ]
    },
    {
      "cell_type": "markdown",
      "id": "429dca7a",
      "metadata": {
        "id": "429dca7a"
      },
      "source": [
        "### 3. Define prediction function"
      ]
    },
    {
      "cell_type": "code",
      "execution_count": 5,
      "id": "10a6a4dc",
      "metadata": {
        "id": "10a6a4dc"
      },
      "outputs": [],
      "source": [
        "\n",
        "\n",
        "def predict(data: pd.DataFrame) -> list[str]:\n",
        "    predictions = []\n",
        "    prompt = mlflow.genai.load_prompt(\"prompts:/gcp-anshupandey-summarization-prompt/2\")\n",
        "\n",
        "    for _, row in data.iterrows():\n",
        "        # Fill in variables in the prompt template\n",
        "        content = prompt.format(sentences=row[\"inputs\"], num_sentences=1)\n",
        "\n",
        "        completion = client.models.generate_content(\n",
        "            model=\"gemini-2.0-flash\",\n",
        "            contents=content,\n",
        "        )\n",
        "        predictions.append(completion.text)\n",
        "\n",
        "    return predictions"
      ]
    },
    {
      "cell_type": "markdown",
      "id": "c272a26d",
      "metadata": {
        "id": "c272a26d"
      },
      "source": [
        "### 4. Run Evaluation"
      ]
    },
    {
      "cell_type": "code",
      "execution_count": 6,
      "id": "2753cf79",
      "metadata": {},
      "outputs": [
        {
          "data": {
            "text/plain": [
              "<Experiment: artifact_location='mlflow-artifacts:/835863475419677176', creation_time=1756972500083, experiment_id='835863475419677176', last_update_time=1756972500083, lifecycle_stage='active', name='gcp-testing', tags={}>"
            ]
          },
          "execution_count": 6,
          "metadata": {},
          "output_type": "execute_result"
        }
      ],
      "source": [
        "mlflow.set_experiment('gcp-testing')"
      ]
    },
    {
      "cell_type": "code",
      "execution_count": 7,
      "id": "901e013f",
      "metadata": {
        "id": "901e013f"
      },
      "outputs": [
        {
          "name": "stderr",
          "output_type": "stream",
          "text": [
            "2025/09/08 12:19:53 INFO mlflow.models.evaluation.utils.trace: Auto tracing is temporarily enabled during the model evaluation for computing some metrics and debugging. To disable tracing, call `mlflow.autolog(disable=True)`.\n",
            "2025/09/08 12:19:53 INFO mlflow.models.evaluation.evaluators.default: Computing model predictions.\n",
            "2025/09/08 12:20:13 INFO mlflow.models.evaluation.default_evaluator: Testing metrics on first row...\n"
          ]
        },
        {
          "name": "stdout",
          "output_type": "stream",
          "text": [
            "🏃 View run anshu-prompt-evaluation at: http://20.75.92.162:5000/#/experiments/835863475419677176/runs/a979a72290954966855d1616030a270a\n",
            "🧪 View experiment at: http://20.75.92.162:5000/#/experiments/835863475419677176\n"
          ]
        },
        {
          "data": {
            "text/html": [
              "\n",
              "<div>\n",
              "  <style scoped>\n",
              "  button {\n",
              "    border: none;\n",
              "    border-radius: 4px;\n",
              "    background-color: rgb(34, 114, 180);\n",
              "    font-family: -apple-system, \"system-ui\", \"Segoe UI\", Roboto, \"Helvetica Neue\", Arial;\n",
              "    font-size: 13px;\n",
              "    color: white;\n",
              "    margin-top: 8px;\n",
              "    margin-bottom: 8px;\n",
              "    padding: 8px 16px;\n",
              "    cursor: pointer;\n",
              "  }\n",
              "  button:hover {\n",
              "    background-color: rgb(66, 153, 224);\n",
              "  }\n",
              "  </style>\n",
              "  <button\n",
              "    onclick=\"\n",
              "        const display = this.nextElementSibling.style.display;\n",
              "        const isCollapsed = display === 'none';\n",
              "        this.nextElementSibling.style.display = isCollapsed ? null : 'none';\n",
              "\n",
              "        const verb = isCollapsed ? 'Collapse' : 'Expand';\n",
              "        this.innerText = `${verb} MLflow Trace`;\n",
              "    \"\n",
              "  >Collapse MLflow Trace</button>\n",
              "  <iframe\n",
              "    id=\"trace-renderer\"\n",
              "    style=\"width: 100%; height: 500px; border: none; resize: vertical;\"\n",
              "    src=\"http://20.75.92.162:5000/static-files/lib/notebook-trace-renderer/index.html?trace_id=tr-32f335edb77a85edfbca0e093b179ae0&amp;experiment_id=835863475419677176&amp;trace_id=tr-45c03b792d24b68df7bc929b04eb52f4&amp;experiment_id=835863475419677176&amp;trace_id=tr-845b6c0e45d710ee7ca24490ddaeed58&amp;experiment_id=835863475419677176&amp;trace_id=tr-4b8eee93fae032ac77f39e36eba2ce36&amp;experiment_id=835863475419677176&amp;trace_id=tr-8ee3723b9f372bfa200bb0cb655a2a83&amp;experiment_id=835863475419677176&amp;version=3.3.2\"\n",
              "  />\n",
              "</div>\n"
            ],
            "text/plain": [
              "[Trace(trace_id=tr-32f335edb77a85edfbca0e093b179ae0), Trace(trace_id=tr-45c03b792d24b68df7bc929b04eb52f4), Trace(trace_id=tr-845b6c0e45d710ee7ca24490ddaeed58), Trace(trace_id=tr-4b8eee93fae032ac77f39e36eba2ce36), Trace(trace_id=tr-8ee3723b9f372bfa200bb0cb655a2a83)]"
            ]
          },
          "metadata": {},
          "output_type": "display_data"
        }
      ],
      "source": [
        "\n",
        "with mlflow.start_run(run_name=\"anshu-prompt-evaluation\"):\n",
        "    mlflow.log_param(\"model\", \"gemini-2.0-flash\")\n",
        "\n",
        "    results = mlflow.evaluate(\n",
        "        model=predict,\n",
        "        data=eval_data,\n",
        "        targets=\"targets\",\n",
        "        extra_metrics=[\n",
        "            mlflow.metrics.latency(),\n",
        "            mlflow.metrics.flesch_kincaid_grade_level(),\n",
        "            mlflow.metrics.ari_grade_level(),\n",
        "        ],\n",
        "    )"
      ]
    },
    {
      "cell_type": "markdown",
      "id": "1391af1b",
      "metadata": {
        "id": "1391af1b"
      },
      "source": [
        "### 5. View Results\n",
        "<img src=\"https://mlflow.org/docs/latest/assets/images/prompt-evaluation-result-7c106f17187fdc750439725d086c389b.png\" alt=\"MLflow LLM Evaluation UI\" width=\"800\">"
      ]
    },
    {
      "cell_type": "markdown",
      "id": "7d3a0cb5",
      "metadata": {
        "id": "7d3a0cb5"
      },
      "source": [
        "<img src = \"https://mlflow.org/docs/latest/assets/images/prompt-evaluation-chart-8a93612e37184b8279c699fd6640013d.png\" >"
      ]
    },
    {
      "cell_type": "markdown",
      "id": "2tRzRedvhpZd",
      "metadata": {
        "id": "2tRzRedvhpZd"
      },
      "source": [
        "## Prompt Optimization"
      ]
    },
    {
      "cell_type": "code",
      "execution_count": 3,
      "id": "0twXe4Gthxbs",
      "metadata": {
        "id": "0twXe4Gthxbs"
      },
      "outputs": [],
      "source": [
        "import os\n",
        "from typing import Any\n",
        "import mlflow\n",
        "from mlflow.genai.scorers import scorer\n",
        "from mlflow.genai.optimize import OptimizerConfig, LLMParams"
      ]
    },
    {
      "cell_type": "code",
      "execution_count": null,
      "id": "51608101",
      "metadata": {},
      "outputs": [],
      "source": [
        "mlflow.set_tracking_uri(\"http://20.75.92.162:5000/\")\n",
        "\n",
        "from google import genai\n",
        "from google.genai.types import HttpOptions\n",
        "client = genai.Client(http_options=HttpOptions(api_version='v1'))"
      ]
    },
    {
      "cell_type": "code",
      "execution_count": 4,
      "id": "tiJ1LvQ4h6X2",
      "metadata": {
        "id": "tiJ1LvQ4h6X2"
      },
      "outputs": [
        {
          "name": "stderr",
          "output_type": "stream",
          "text": [
            "2025/09/08 12:37:50 INFO mlflow.store.model_registry.abstract_store: Waiting up to 300 seconds for prompt version to finish creation. Prompt name: gcp-anshu-math, version 2\n"
          ]
        }
      ],
      "source": [
        "# Register the initial prompt\n",
        "initial_template = \"\"\"\n",
        "Answer to this math question: {{question}}.\n",
        "Return the result in a JSON string in the format of {\"answer\": \"xxx\"}.\n",
        "\"\"\"\n",
        "\n",
        "prompt = mlflow.genai.register_prompt(\n",
        "    name=\"gcp-anshu-math\",\n",
        "    template=initial_template,\n",
        ")\n"
      ]
    },
    {
      "cell_type": "code",
      "execution_count": 5,
      "id": "AlkSc7Oth0oU",
      "metadata": {
        "id": "AlkSc7Oth0oU"
      },
      "outputs": [],
      "source": [
        "\n",
        "# The data can be a list of dictionaries, a pandas DataFrame, or an mlflow.genai.EvaluationDataset\n",
        "# It needs to contain inputs and expectations where each row is a dictionary.\n",
        "train_data = [\n",
        "    {\n",
        "        \"inputs\": {\"question\": \"Given that $y=3$, evaluate $(1+y)^y$.\"},\n",
        "        \"expectations\": {\"answer\": \"64\"},\n",
        "    },\n",
        "    {\n",
        "        \"inputs\": {\n",
        "            \"question\": \"The midpoint of the line segment between $(x,y)$ and $(-9,1)$ is $(3,-5)$. Find $(x,y)$.\"\n",
        "        },\n",
        "        \"expectations\": {\"answer\": \"(15,-11)\"},\n",
        "    },\n",
        "    {\n",
        "        \"inputs\": {\n",
        "            \"question\": \"What is the value of $b$ if $5^b + 5^b + 5^b + 5^b + 5^b = 625^{(b-1)}$? Express your answer as a common fraction.\"\n",
        "        },\n",
        "        \"expectations\": {\"answer\": \"\\\\frac{5}{3}\"},\n",
        "    },\n",
        "    {\n",
        "        \"inputs\": {\"question\": \"Evaluate the expression $a^3\\\\cdot a^2$ if $a= 5$.\"},\n",
        "        \"expectations\": {\"answer\": \"3125\"},\n",
        "    },\n",
        "    {\n",
        "        \"inputs\": {\"question\": \"Evaluate $\\\\lceil 8.8 \\\\rceil+\\\\lceil -8.8 \\\\rceil$.\"},\n",
        "        \"expectations\": {\"answer\": \"17\"},\n",
        "    },\n",
        "]\n",
        "\n",
        "eval_data = [\n",
        "    {\n",
        "        \"inputs\": {\n",
        "            \"question\": \"The sum of 27 consecutive positive integers is $3^7$. What is their median?\"\n",
        "        },\n",
        "        \"expectations\": {\"answer\": \"81\"},\n",
        "    },\n",
        "    {\n",
        "        \"inputs\": {\"question\": \"What is the value of $x$ if $x^2 - 10x + 25 = 0$?\"},\n",
        "        \"expectations\": {\"answer\": \"5\"},\n",
        "    },\n",
        "    {\n",
        "        \"inputs\": {\n",
        "            \"question\": \"If $a\\\\ast b = 2a+5b-ab$, what is the value of $3\\\\ast10$?\"\n",
        "        },\n",
        "        \"expectations\": {\"answer\": \"26\"},\n",
        "    },\n",
        "    {\n",
        "        \"inputs\": {\n",
        "            \"question\": \"Given that $-4$ is a solution to $x^2 + bx -36 = 0$, what is the value of $b$?\"\n",
        "        },\n",
        "        \"expectations\": {\"answer\": \"-5\"},\n",
        "    },\n",
        "]\n"
      ]
    },
    {
      "cell_type": "code",
      "execution_count": 6,
      "id": "-DJ_KRZjh_6W",
      "metadata": {
        "id": "-DJ_KRZjh_6W"
      },
      "outputs": [],
      "source": [
        "\n",
        "# Define a custom scorer function to evaluate prompt performance with the @scorer decorator.\n",
        "# The scorer function for optimization can take inputs, outputs, and expectations.\n",
        "@scorer\n",
        "def exact_match(expectations: dict[str, Any], outputs: dict[str, Any]) -> bool:\n",
        "    return expectations[\"answer\"] == outputs[\"answer\"]\n",
        "\n"
      ]
    },
    {
      "cell_type": "code",
      "execution_count": 7,
      "id": "SWCkHV-DhAZX",
      "metadata": {
        "id": "SWCkHV-DhAZX"
      },
      "outputs": [
        {
          "name": "stderr",
          "output_type": "stream",
          "text": [
            "2025/09/08 12:37:53 INFO mlflow.genai.optimize.optimizers.dspy_optimizer: 🎯 Starting prompt optimization for: prompts:/gcp-anshu-math/2\n",
            "⏱️ This may take several minutes or longer depending on dataset size...\n",
            "📊 Training with 5 examples.\n",
            "2025/09/08 12:38:37 INFO mlflow.genai.optimize.optimizers.dspy_mipro_optimizer: Optimization complete! Score remained stable at: 75.0.\n",
            "2025/09/08 12:38:37 INFO mlflow.genai.optimize.optimizers.dspy_mipro_optimizer: 🎉 Optimization complete! Initial score: 50.0. Final score: 75.0.\n",
            "2025/09/08 12:38:39 INFO mlflow.store.model_registry.abstract_store: Waiting up to 300 seconds for prompt version to finish creation. Prompt name: gcp-anshu-math, version 3\n"
          ]
        },
        {
          "name": "stdout",
          "output_type": "stream",
          "text": [
            "prompts:/gcp-anshu-math/3\n"
          ]
        }
      ],
      "source": [
        "# Optimize the prompt\n",
        "result = mlflow.genai.optimize_prompt(\n",
        "    target_llm_params=LLMParams(model_name=\"gemini/gemini-2.0-flash\"),\n",
        "    prompt=prompt,\n",
        "    train_data=train_data,\n",
        "    eval_data=eval_data,\n",
        "    scorers=[exact_match],\n",
        "    optimizer_config=OptimizerConfig(\n",
        "        num_instruction_candidates=8,\n",
        "        max_few_show_examples=2,\n",
        "    ),\n",
        ")\n",
        "\n",
        "# The optimized prompt is automatically registered as a new version\n",
        "print(result.prompt.uri)"
      ]
    },
    {
      "cell_type": "code",
      "execution_count": null,
      "id": "wekHPbjOiPvI",
      "metadata": {
        "id": "wekHPbjOiPvI"
      },
      "outputs": [],
      "source": []
    }
  ],
  "metadata": {
    "colab": {
      "include_colab_link": true,
      "provenance": []
    },
    "kernelspec": {
      "display_name": "base",
      "language": "python",
      "name": "python3"
    },
    "language_info": {
      "codemirror_mode": {
        "name": "ipython",
        "version": 3
      },
      "file_extension": ".py",
      "mimetype": "text/x-python",
      "name": "python",
      "nbconvert_exporter": "python",
      "pygments_lexer": "ipython3",
      "version": "3.10.9"
    }
  },
  "nbformat": 4,
  "nbformat_minor": 5
}
